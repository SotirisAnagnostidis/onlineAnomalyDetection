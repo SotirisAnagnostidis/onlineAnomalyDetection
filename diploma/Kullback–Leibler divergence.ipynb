{
 "cells": [
  {
   "cell_type": "code",
   "execution_count": 6,
   "metadata": {},
   "outputs": [],
   "source": [
    "import random as ran\n",
    "import numpy as np\n",
    "\n",
    "def random_probabilities(num=5):\n",
    "    r = [ran.random() for i in range(num)]\n",
    "    s = sum(r)\n",
    "    return np.array([ i/s for i in r ])\n",
    "\n",
    "def random_matrix(num=5):\n",
    "    matrix = np.zeros(shape=(5, 5))\n",
    "    for i in range(num):\n",
    "        matrix[i] = random_probabilities(num=num)\n",
    "    return matrix"
   ]
  },
  {
   "cell_type": "code",
   "execution_count": 7,
   "metadata": {},
   "outputs": [],
   "source": [
    "P = random_matrix()\n",
    "Q = random_matrix()"
   ]
  },
  {
   "cell_type": "code",
   "execution_count": null,
   "metadata": {},
   "outputs": [],
   "source": []
  },
  {
   "cell_type": "code",
   "execution_count": 24,
   "metadata": {},
   "outputs": [],
   "source": [
    "from numpy.linalg import norm\n",
    "\n",
    "def l1_distance(P, Q):\n",
    "    return np.sum(np.abs(P - Q))"
   ]
  },
  {
   "cell_type": "code",
   "execution_count": 25,
   "metadata": {},
   "outputs": [
    {
     "data": {
      "text/plain": [
       "2.1753351010204311"
      ]
     },
     "execution_count": 25,
     "metadata": {},
     "output_type": "execute_result"
    }
   ],
   "source": [
    "l1_distance(P, Q)"
   ]
  },
  {
   "cell_type": "code",
   "execution_count": 65,
   "metadata": {},
   "outputs": [
    {
     "data": {
      "text/plain": [
       "array([[ 0.25981469,  0.25999476],\n",
       "       [ 0.02582477,  0.31229703]])"
      ]
     },
     "execution_count": 65,
     "metadata": {},
     "output_type": "execute_result"
    }
   ],
   "source": [
    "points[np.where(np.array([0,1,1,2,0]) == 0)]"
   ]
  },
  {
   "cell_type": "code",
   "execution_count": null,
   "metadata": {},
   "outputs": [],
   "source": []
  },
  {
   "cell_type": "code",
   "execution_count": null,
   "metadata": {},
   "outputs": [],
   "source": []
  },
  {
   "cell_type": "code",
   "execution_count": 94,
   "metadata": {},
   "outputs": [],
   "source": [
    "from numpy.linalg import norm\n",
    "import random as ran\n",
    "import numpy as np\n",
    "\n",
    "\n",
    "def dist(x, c):\n",
    "    return norm(x - c)\n",
    "\n",
    "\n",
    "def mean(data):\n",
    "    l = len(data[0])\n",
    "    c = [0.] * l\n",
    "    n = 0\n",
    "    for x in data:\n",
    "        for i, v in enumerate(x):\n",
    "            c[i] += v\n",
    "        n += 1\n",
    "    for i in range(l):\n",
    "        c[i] /= n\n",
    "    return np.array(c)\n",
    "\n",
    "\n",
    "class kMeans:\n",
    "    def __init__(self, n_clusters=2, initial_centers=None, n_iter=100, error_tolerance=1e-6):\n",
    "        if initial_centers is None:\n",
    "            self.centers = np.vstack([[0, 0], [1,1]]).astype(np.float64)\n",
    "        else:\n",
    "            self.centers = initial_centers\n",
    "\n",
    "        self.n_clusters = n_clusters\n",
    "        self.n_iter = n_iter\n",
    "        self.error_tolerance = error_tolerance\n",
    "\n",
    "    def run(self, data):\n",
    "        cluster = [None] * len(data)\n",
    "        for _ in range(self.n_iter):\n",
    "            for i, x in enumerate(data):\n",
    "                distances = np.array([dist(x, kmeans.centers[i]) for i in range(self.n_clusters)])\n",
    "                cluster[i] = np.argmin(distances)\n",
    "\n",
    "            cluster = np.array(cluster)\n",
    "            errors = []\n",
    "            for j, c in enumerate(self.centers):\n",
    "                members = data[np.where(cluster == j)]\n",
    "                new_center = mean(members)\n",
    "                errors.append(dist(new_center, self.centers[j]))\n",
    "                self.centers[j] = new_center\n",
    "\n",
    "            if max(errors) < self.error_tolerance:\n",
    "                break\n",
    "\n",
    "    def classify(self, data_point):\n",
    "        return min(range(self.n_clusters), key=lambda p: dist(data_point, self.centers[p]))"
   ]
  },
  {
   "cell_type": "code",
   "execution_count": 95,
   "metadata": {},
   "outputs": [],
   "source": [
    "kmeans = kMeans()"
   ]
  },
  {
   "cell_type": "code",
   "execution_count": 96,
   "metadata": {},
   "outputs": [],
   "source": [
    "points = np.vstack([[ran.random(),ran.random()]  for _ in range(100)])"
   ]
  },
  {
   "cell_type": "code",
   "execution_count": 97,
   "metadata": {},
   "outputs": [],
   "source": [
    "kmeans.run(points)"
   ]
  },
  {
   "cell_type": "code",
   "execution_count": 98,
   "metadata": {},
   "outputs": [
    {
     "data": {
      "text/plain": [
       "array([[ 0.25791722,  0.46907925],\n",
       "       [ 0.80531691,  0.48697692]])"
      ]
     },
     "execution_count": 98,
     "metadata": {},
     "output_type": "execute_result"
    }
   ],
   "source": [
    "kmeans.centers"
   ]
  },
  {
   "cell_type": "markdown",
   "metadata": {},
   "source": [
    "https://stats.stackexchange.com/questions/280885/estimate-the-kullback-leibler-kl-divergence-with-monte-carlo"
   ]
  },
  {
   "cell_type": "code",
   "execution_count": 14,
   "metadata": {},
   "outputs": [],
   "source": [
    "from math import log\n",
    "\n",
    "def monte_carlo_distance(P, Q, n_samples_per_cluster=100):\n",
    "    x, y = P.shape\n",
    "    assert x == y\n",
    "    \n",
    "    total_distance = 0\n",
    "    for cluster in range(x):\n",
    "        cum_sum = P[cluster].cumsum()\n",
    "        for i in range(n_samples_per_cluster):\n",
    "            next_state = np.where(cum_sum >= ran.random())[0][0]\n",
    "            \n",
    "            total_distance += log(P[cluster][next_state] / Q[cluster][next_state])\n",
    "    return total_distance / (n_samples_per_cluster * x)\n",
    "\n",
    "def kl_distance2d(P, Q):\n",
    "    x, y = P.shape\n",
    "    assert x == y\n",
    "    \n",
    "    total_distance = 0\n",
    "    for cluster in range(x):\n",
    "        for next_cluster in range(y):\n",
    "            total_distance += P[cluster][next_cluster] * log(P[cluster][next_cluster] / Q[cluster][next_cluster])\n",
    "    \n",
    "    return total_distance / (x * y)\n",
    "\n",
    "def kl_distance(P, Q):\n",
    "    total_distance = 0\n",
    "    for i in range(len(P)):\n",
    "        total_distance += P[i] * log(P[i]/Q[i])\n",
    "            \n",
    "    return total_distance\n",
    "\n",
    "def matrix_distance(P, Q, n_samples_per_cluster=100):\n",
    "     return (monte_carlo_distance(P, Q, n_samples_per_cluster=n_samples_per_cluster) + \n",
    "             monte_carlo_distance(Q, P, n_samples_per_cluster=n_samples_per_cluster)) / 2"
   ]
  },
  {
   "cell_type": "code",
   "execution_count": 276,
   "metadata": {},
   "outputs": [
    {
     "data": {
      "text/plain": [
       "0.15190685142014326"
      ]
     },
     "execution_count": 276,
     "metadata": {},
     "output_type": "execute_result"
    }
   ],
   "source": [
    "monte_carlo_distance(P,Q)"
   ]
  },
  {
   "cell_type": "code",
   "execution_count": 369,
   "metadata": {},
   "outputs": [
    {
     "name": "stdout",
     "output_type": "stream",
     "text": [
      "0.008350960866275046\n",
      "0.00823059659222286\n",
      "0.00286837871723\n",
      "0.00280746154684\n"
     ]
    }
   ],
   "source": [
    "A = np.array([[0.3, 0.4, 0.3], [0.2, 0.4, 0.4], [0.8, 0.15, 0.05]])\n",
    "B = np.array([[0.3, 0.4, 0.3], [0.2, 0.5, 0.3], [0.8, 0.15, 0.05]])\n",
    "\n",
    "print(monte_carlo_distance(A, B, n_samples_per_cluster=10000))\n",
    "print(monte_carlo_distance(B, A, n_samples_per_cluster=10000))\n",
    "print(kl_distance(A, B))\n",
    "print(kl_distance(B, A))"
   ]
  },
  {
   "cell_type": "code",
   "execution_count": 278,
   "metadata": {},
   "outputs": [
    {
     "data": {
      "text/plain": [
       "0.012076042069604893"
      ]
     },
     "execution_count": 278,
     "metadata": {},
     "output_type": "execute_result"
    }
   ],
   "source": [
    "matrix_distance(A, B)"
   ]
  },
  {
   "cell_type": "code",
   "execution_count": null,
   "metadata": {},
   "outputs": [],
   "source": []
  },
  {
   "cell_type": "code",
   "execution_count": null,
   "metadata": {},
   "outputs": [],
   "source": []
  },
  {
   "cell_type": "code",
   "execution_count": null,
   "metadata": {},
   "outputs": [],
   "source": []
  },
  {
   "cell_type": "code",
   "execution_count": null,
   "metadata": {},
   "outputs": [],
   "source": []
  },
  {
   "cell_type": "code",
   "execution_count": 31,
   "metadata": {},
   "outputs": [],
   "source": [
    "import numpy as np\n",
    "\n",
    "p1 = np.array([0.5, 0.5])\n",
    "p2 = np.array([0.5, 0.5])\n",
    "\n",
    "A1 = np.array([[0.9, 0.1], [0.2, 0.8]])\n",
    "A2 = np.array([[0.9, 0.1], [0.2, 0.8]])\n",
    "\n",
    "B1 = np.array([[0.3, 0.5, 0.2], [0.6, 0.2, 0.2]])\n",
    "B2 = np.array([[0.3, 0.5, 0.2], [0.6, 0.2, 0.2]])"
   ]
  },
  {
   "cell_type": "code",
   "execution_count": 32,
   "metadata": {},
   "outputs": [
    {
     "data": {
      "text/plain": [
       "array([ 0.66666667,  0.33333333])"
      ]
     },
     "execution_count": 32,
     "metadata": {},
     "output_type": "execute_result"
    }
   ],
   "source": [
    "t = p1.dot(A1)\n",
    "for i in range(100):\n",
    "    t = t.dot(A1)\n",
    "t"
   ]
  },
  {
   "cell_type": "code",
   "execution_count": 33,
   "metadata": {},
   "outputs": [
    {
     "data": {
      "text/plain": [
       "0.0"
      ]
     },
     "execution_count": 33,
     "metadata": {},
     "output_type": "execute_result"
    }
   ],
   "source": [
    "total = 0\n",
    "for i in range(len(t)):\n",
    "    total += t[i] * (kl_distance(A1[i], A2[i]) + kl_distance(B1[i], B2[i]))\n",
    "    \n",
    "total"
   ]
  },
  {
   "cell_type": "code",
   "execution_count": null,
   "metadata": {},
   "outputs": [],
   "source": []
  }
 ],
 "metadata": {
  "kernelspec": {
   "display_name": "Python 3",
   "language": "python",
   "name": "python3"
  },
  "language_info": {
   "codemirror_mode": {
    "name": "ipython",
    "version": 3
   },
   "file_extension": ".py",
   "mimetype": "text/x-python",
   "name": "python",
   "nbconvert_exporter": "python",
   "pygments_lexer": "ipython3",
   "version": "3.6.0"
  }
 },
 "nbformat": 4,
 "nbformat_minor": 2
}
