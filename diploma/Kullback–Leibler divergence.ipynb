{
 "cells": [
  {
   "cell_type": "code",
   "execution_count": 1,
   "metadata": {},
   "outputs": [],
   "source": [
    "import random as ran\n",
    "import numpy as np\n",
    "\n",
    "def random_probabilities(num=5):\n",
    "    r = [ran.random() for i in range(num)]\n",
    "    s = sum(r)\n",
    "    return np.array([ i/s for i in r ])\n",
    "\n",
    "def random_matrix(num=5):\n",
    "    matrix = np.zeros(shape=(5, 5))\n",
    "    for i in range(num):\n",
    "        matrix[i] = random_probabilities(num=num)\n",
    "    return matrix"
   ]
  },
  {
   "cell_type": "code",
   "execution_count": 2,
   "metadata": {},
   "outputs": [],
   "source": [
    "P = random_matrix()\n",
    "Q = random_matrix()"
   ]
  },
  {
   "cell_type": "code",
   "execution_count": null,
   "metadata": {},
   "outputs": [],
   "source": []
  },
  {
   "cell_type": "code",
   "execution_count": 3,
   "metadata": {},
   "outputs": [],
   "source": [
    "from numpy.linalg import norm\n",
    "\n",
    "def l1_distance(P, Q):\n",
    "    return np.sum(np.abs(P - Q))"
   ]
  },
  {
   "cell_type": "code",
   "execution_count": 4,
   "metadata": {},
   "outputs": [
    {
     "data": {
      "text/plain": [
       "2.5109673888410007"
      ]
     },
     "execution_count": 4,
     "metadata": {},
     "output_type": "execute_result"
    }
   ],
   "source": [
    "l1_distance(P, Q)"
   ]
  },
  {
   "cell_type": "code",
   "execution_count": null,
   "metadata": {},
   "outputs": [],
   "source": []
  },
  {
   "cell_type": "code",
   "execution_count": null,
   "metadata": {},
   "outputs": [],
   "source": []
  },
  {
   "cell_type": "markdown",
   "metadata": {},
   "source": [
    "https://stats.stackexchange.com/questions/280885/estimate-the-kullback-leibler-kl-divergence-with-monte-carlo"
   ]
  },
  {
   "cell_type": "code",
   "execution_count": 86,
   "metadata": {},
   "outputs": [],
   "source": [
    "from math import log\n",
    "\n",
    "def monte_carlo_distance(P, Q, n_samples_per_cluster=100):\n",
    "    x, y = P.shape\n",
    "    assert x == y\n",
    "    \n",
    "    total_distance = 0\n",
    "    for cluster in range(x):\n",
    "        cum_sum = P[cluster].cumsum()\n",
    "        for i in range(n_samples_per_cluster):\n",
    "            next_state = np.where(cum_sum >= ran.random())[0][0]\n",
    "            \n",
    "            total_distance += log(P[cluster][next_state] / Q[cluster][next_state])\n",
    "    return total_distance / (n_samples_per_cluster * x)\n",
    "\n",
    "def kl_distance2d(P, Q):\n",
    "    x, y = P.shape\n",
    "    assert x == y\n",
    "    \n",
    "    total_distance = 0\n",
    "    for cluster in range(x):\n",
    "        for next_cluster in range(y):\n",
    "            total_distance += P[cluster][next_cluster] * log(P[cluster][next_cluster] / Q[cluster][next_cluster])\n",
    "    \n",
    "    return total_distance / (x * y)\n",
    "\n",
    "def kl_distance(P, Q):\n",
    "    total_distance = 0\n",
    "    for i in range(len(P)):\n",
    "        if Q[i] == 0 or P[i] == 0:\n",
    "            continue\n",
    "        total_distance += P[i] * log(P[i]/Q[i])\n",
    "            \n",
    "    return total_distance\n",
    "\n",
    "def matrix_distance(P, Q, n_samples_per_cluster=100):\n",
    "     return (monte_carlo_distance(P, Q, n_samples_per_cluster=n_samples_per_cluster) + \n",
    "             monte_carlo_distance(Q, P, n_samples_per_cluster=n_samples_per_cluster)) / 2"
   ]
  },
  {
   "cell_type": "code",
   "execution_count": 12,
   "metadata": {},
   "outputs": [
    {
     "data": {
      "text/plain": [
       "0.23447440559159635"
      ]
     },
     "execution_count": 12,
     "metadata": {},
     "output_type": "execute_result"
    }
   ],
   "source": [
    "monte_carlo_distance(P,Q)"
   ]
  },
  {
   "cell_type": "code",
   "execution_count": 14,
   "metadata": {},
   "outputs": [
    {
     "name": "stdout",
     "output_type": "stream",
     "text": [
      "0.00776174648497669\n",
      "0.00788279080951285\n",
      "0.00286837871723\n",
      "0.00280746154684\n"
     ]
    }
   ],
   "source": [
    "A = np.array([[0.3, 0.4, 0.3], [0.2, 0.4, 0.4], [0.8, 0.15, 0.05]])\n",
    "B = np.array([[0.3, 0.4, 0.3], [0.2, 0.5, 0.3], [0.8, 0.15, 0.05]])\n",
    "\n",
    "print(monte_carlo_distance(A, B, n_samples_per_cluster=10000))\n",
    "print(monte_carlo_distance(B, A, n_samples_per_cluster=10000))\n",
    "print(kl_distance2d(A, B))\n",
    "print(kl_distance2d(B, A))"
   ]
  },
  {
   "cell_type": "code",
   "execution_count": 15,
   "metadata": {},
   "outputs": [
    {
     "data": {
      "text/plain": [
       "0.013514452431863793"
      ]
     },
     "execution_count": 15,
     "metadata": {},
     "output_type": "execute_result"
    }
   ],
   "source": [
    "matrix_distance(A, B)"
   ]
  },
  {
   "cell_type": "code",
   "execution_count": null,
   "metadata": {},
   "outputs": [],
   "source": []
  },
  {
   "cell_type": "code",
   "execution_count": null,
   "metadata": {},
   "outputs": [],
   "source": []
  },
  {
   "cell_type": "code",
   "execution_count": null,
   "metadata": {},
   "outputs": [],
   "source": []
  },
  {
   "cell_type": "code",
   "execution_count": null,
   "metadata": {},
   "outputs": [],
   "source": []
  },
  {
   "cell_type": "code",
   "execution_count": 16,
   "metadata": {},
   "outputs": [],
   "source": [
    "import numpy as np\n",
    "\n",
    "p1 = np.array([0.5, 0.5])\n",
    "p2 = np.array([0.5, 0.5])\n",
    "\n",
    "A1 = np.array([[0.9, 0.1], [0.2, 0.8]])\n",
    "A2 = np.array([[0.7, 0.3], [0.4, 0.6]])\n",
    "\n",
    "B1 = np.array([[0.1, 0.3, 0.6], [0.2, 0.1, 0.7]])\n",
    "B2 = np.array([[0.3, 0.5, 0.2], [0.6, 0.2, 0.2]])"
   ]
  },
  {
   "cell_type": "code",
   "execution_count": null,
   "metadata": {},
   "outputs": [],
   "source": []
  },
  {
   "cell_type": "code",
   "execution_count": 17,
   "metadata": {},
   "outputs": [],
   "source": [
    "import numpy as np\n",
    "from scipy.linalg import eig \n",
    "\n",
    "def find_stationary(transition_matrix):\n",
    "    S, U = eig(transition_matrix.T)\n",
    "    stationary = np.array(U[:, np.where(np.abs(S - 1.) < 1e-8)[0][0]].flat)\n",
    "    stationary = stationary / np.sum(stationary)\n",
    "    return stationary\n",
    "\n",
    "def kl_hmm(p1, p2, A1, A2, B1, B2):\n",
    "    stationary = find_stationary(A1)\n",
    "    return sum([stationary[i] * (kl_distance(A1[i], A2[i]) + kl_distance(B1[i], B2[i])) for i in range(len(stationary))])"
   ]
  },
  {
   "cell_type": "code",
   "execution_count": 18,
   "metadata": {},
   "outputs": [
    {
     "data": {
      "text/plain": [
       "0.56805785052903368"
      ]
     },
     "execution_count": 18,
     "metadata": {},
     "output_type": "execute_result"
    }
   ],
   "source": [
    "kl_hmm(p1, p2, A1, A2, B1, B2)"
   ]
  },
  {
   "cell_type": "code",
   "execution_count": null,
   "metadata": {},
   "outputs": [],
   "source": []
  },
  {
   "cell_type": "code",
   "execution_count": null,
   "metadata": {},
   "outputs": [],
   "source": []
  },
  {
   "cell_type": "code",
   "execution_count": null,
   "metadata": {},
   "outputs": [],
   "source": []
  },
  {
   "cell_type": "code",
   "execution_count": null,
   "metadata": {},
   "outputs": [],
   "source": []
  },
  {
   "cell_type": "code",
   "execution_count": null,
   "metadata": {},
   "outputs": [],
   "source": []
  },
  {
   "cell_type": "code",
   "execution_count": null,
   "metadata": {},
   "outputs": [],
   "source": []
  },
  {
   "cell_type": "markdown",
   "metadata": {},
   "source": [
    "Other methods\n",
    "\n",
    "- https://stackoverflow.com/questions/21308848/markov-chain-stationary-distributions-with-scipy-sparse\n",
    "\n",
    "- def solveStationary( A ):\n",
    "    \"\"\" x = xA where x is the answer\n",
    "    x - xA = 0\n",
    "    x( I - A ) = 0 and sum(x) = 1\n",
    "    \"\"\"\n",
    "    n = A.shape[0]\n",
    "    a = np.eye( n ) - A\n",
    "    a = np.vstack( (a.T, np.ones( n )) )\n",
    "    b = np.matrix( [0] * n + [ 1 ] ).T\n",
    "    return np.linalg.lstsq( a, b )[0]\n"
   ]
  },
  {
   "cell_type": "code",
   "execution_count": 33,
   "metadata": {},
   "outputs": [
    {
     "data": {
      "text/plain": [
       "array([ 0.66666667,  0.33333333])"
      ]
     },
     "execution_count": 33,
     "metadata": {},
     "output_type": "execute_result"
    }
   ],
   "source": [
    "solveStationary(A1)"
   ]
  },
  {
   "cell_type": "code",
   "execution_count": 21,
   "metadata": {},
   "outputs": [],
   "source": [
    "from sklearn.externals import joblib\n",
    "\n",
    "onlineEM = joblib.load('onlineEM_60_500_13_host_specific.pkl')"
   ]
  },
  {
   "cell_type": "code",
   "execution_count": 161,
   "metadata": {},
   "outputs": [],
   "source": [
    "from math import log\n",
    "\n",
    "\n",
    "def kl_distance(P, Q):\n",
    "    total_distance = 0\n",
    "    for i in range(len(P)):\n",
    "        if Q[i] == 0 or P[i] == 0:\n",
    "            continue\n",
    "        total_distance += P[i] * log(P[i]/Q[i])\n",
    "            \n",
    "    return total_distance\n",
    "\n",
    "def solveStationary(A):\n",
    "    \"\"\" x = xA where x is the answer\n",
    "    x - xA = 0\n",
    "    x( I - A ) = 0 and sum(x) = 1\n",
    "    \"\"\"\n",
    "    n = A.shape[0]\n",
    "    a = np.eye( n ) - A\n",
    "    a = np.vstack( (a.T, np.ones( n )) )\n",
    "    b = np.matrix( [0] * n + [ 1 ] ).T\n",
    "    return np.squeeze(np.asarray(np.linalg.lstsq( a, b )[0]))\n",
    "\n",
    "def distance(A1, A2):\n",
    "    stationary = solveStationary(A1)\n",
    "    return sum([stationary[i] * (2*kl_distance(A1[i], A2[i])) for i in range(len(stationary))])\n",
    "\n",
    "def hmm_distance(A1, A2):\n",
    "    return (distance(A1, A2) + distance(A2, A1)) / 2"
   ]
  },
  {
   "cell_type": "code",
   "execution_count": null,
   "metadata": {},
   "outputs": [],
   "source": []
  },
  {
   "cell_type": "code",
   "execution_count": null,
   "metadata": {},
   "outputs": [],
   "source": [
    "j = 1\n",
    "for host in onlineEM.hosts:\n",
    "    print(find_stationary(onlineEM.hosts[host]['transitiion_matrix']))\n",
    "    \n",
    "    t = onlineEM.hosts[host1]['points_per_cluster'] / 500\n",
    "    #t = onlineEM.gammas\n",
    "    for i in range(100):\n",
    "        t.dot(onlineEM.hosts[host]['transitiion_matrix'])\n",
    "        \n",
    "    print(t)\n",
    "    print()"
   ]
  },
  {
   "cell_type": "code",
   "execution_count": 131,
   "metadata": {},
   "outputs": [
    {
     "name": "stderr",
     "output_type": "stream",
     "text": [
      "c:\\users\\sotiris\\appdata\\local\\programs\\python\\python36\\lib\\site-packages\\ipykernel_launcher.py:2: ComplexWarning: Casting complex values to real discards the imaginary part\n",
      "  \n"
     ]
    }
   ],
   "source": [
    "for host in onlineEM.hosts:\n",
    "    onlineEM.hosts[host]['stationary'] = find_stationary(onlineEM.hosts[host]['transitiion_matrix']).astype(np.float64)"
   ]
  },
  {
   "cell_type": "code",
   "execution_count": 164,
   "metadata": {},
   "outputs": [
    {
     "data": {
      "text/plain": [
       "0.03643474670815508"
      ]
     },
     "execution_count": 164,
     "metadata": {},
     "output_type": "execute_result"
    }
   ],
   "source": [
    "host1 = 'C2023'\n",
    "host2 = 'C4831'\n",
    "\n",
    "\"\"\"\n",
    "print(onlineEM.hosts[host1]['transitiion_matrix'])\n",
    "print(onlineEM.hosts[host1]['points_per_cluster'])\n",
    "print()\n",
    "print(onlineEM.hosts[host2]['transitiion_matrix'])\n",
    "print(onlineEM.hosts[host2]['points_per_cluster'])\n",
    "\n",
    "\"\"\"\n",
    "\n",
    "hmm_distance(onlineEM.hosts[host1]['transitiion_matrix'], onlineEM.hosts[host2]['transitiion_matrix'])"
   ]
  },
  {
   "cell_type": "code",
   "execution_count": 158,
   "metadata": {},
   "outputs": [],
   "source": [
    "matrices = []\n",
    "\n",
    "j = 1\n",
    "\n",
    "for host in onlineEM.hosts:\n",
    "    matrices.append(onlineEM.hosts[host]['transitiion_matrix'])\n",
    "\n",
    "    j += 1\n",
    "    if j == 100:\n",
    "        break"
   ]
  },
  {
   "cell_type": "code",
   "execution_count": 160,
   "metadata": {
    "scrolled": false
   },
   "outputs": [],
   "source": [
    "matrices = np.array(matrices)\n",
    "means = np.mean(matrices, axis=0)"
   ]
  },
  {
   "cell_type": "code",
   "execution_count": null,
   "metadata": {},
   "outputs": [],
   "source": []
  },
  {
   "cell_type": "code",
   "execution_count": null,
   "metadata": {},
   "outputs": [],
   "source": []
  },
  {
   "cell_type": "code",
   "execution_count": null,
   "metadata": {},
   "outputs": [],
   "source": []
  },
  {
   "cell_type": "code",
   "execution_count": null,
   "metadata": {},
   "outputs": [],
   "source": []
  },
  {
   "cell_type": "code",
   "execution_count": 200,
   "metadata": {},
   "outputs": [],
   "source": [
    "from numpy.linalg import norm\n",
    "import random as ran\n",
    "import numpy as np\n",
    "\n",
    "class kMeans:\n",
    "    def __init__(self, em, n_clusters=3, initial_centers=None, n_iter=20, error_tolerance=1e-6):\n",
    "        if initial_centers is None:\n",
    "            # TODO\n",
    "            i = 0\n",
    "            centers = []\n",
    "            for host in em.hosts:\n",
    "                centers.append(em.hosts[host]['transitiion_matrix'])\n",
    "                \n",
    "                i += 1\n",
    "                if i == n_clusters:\n",
    "                    break\n",
    "                    \n",
    "            self.centers = np.array(centers)\n",
    "        else:\n",
    "            self.centers = initial_centers\n",
    "\n",
    "        self.em = em\n",
    "        self.n_clusters = n_clusters\n",
    "        self.n_iter = n_iter\n",
    "        self.error_tolerance = error_tolerance\n",
    "\n",
    "    def run(self):\n",
    "        self.clusters = {}\n",
    "        for _ in range(self.n_iter):\n",
    "            for host in self.em.hosts:\n",
    "                distances = np.array([hmm_distance(self.em.hosts[host]['transitiion_matrix'], kmeans.centers[i]) for i in range(self.n_clusters)])\n",
    "                self.clusters[host] = np.argmin(distances)\n",
    "\n",
    "            errors = []\n",
    "            for j, c in enumerate(self.centers):\n",
    "                members = [k for k,v in self.clusters.items() if v == j]\n",
    "                \n",
    "                # find new center\n",
    "                matrices = []\n",
    "                for host in members:\n",
    "                    matrices.append(self.em.hosts[host]['transitiion_matrix'])\n",
    "                    \n",
    "                matrices = np.array(matrices)\n",
    "                new_center = np.mean(matrices, axis=0)\n",
    "                \n",
    "                errors.append(hmm_distance(new_center, self.centers[j]))\n",
    "                self.centers[j] = new_center\n",
    "\n",
    "            print(max(errors))\n",
    "            if max(errors) < self.error_tolerance:\n",
    "                break\n",
    "\n",
    "    def classify(self, data_point):\n",
    "        return min(range(self.n_clusters), key=lambda p: dist(data_point, self.centers[p]))"
   ]
  },
  {
   "cell_type": "code",
   "execution_count": 201,
   "metadata": {},
   "outputs": [],
   "source": [
    "kmeans = kMeans(onlineEM)"
   ]
  },
  {
   "cell_type": "code",
   "execution_count": 202,
   "metadata": {},
   "outputs": [
    {
     "name": "stdout",
     "output_type": "stream",
     "text": [
      "0.263572590047\n",
      "0.150034079414\n",
      "0.154249200967\n",
      "0.216474964528\n",
      "0.139242263872\n",
      "0.308896009143\n",
      "0.0401578878139\n",
      "0.172836566462\n",
      "0.0279414693369\n",
      "0.0897869479462\n",
      "0.111003693049\n",
      "0.104635605425\n",
      "0.126524535967\n",
      "0.112626688531\n",
      "0.181063924269\n",
      "0.0633143292344\n",
      "0.0685160201086\n",
      "0.117064362112\n",
      "0.0825585884921\n",
      "0.127070809268\n"
     ]
    }
   ],
   "source": [
    "kmeans.run()"
   ]
  },
  {
   "cell_type": "code",
   "execution_count": 209,
   "metadata": {},
   "outputs": [],
   "source": [
    "from math import log\n",
    "import scipy.stats.distributions\n",
    "\n",
    "\n",
    "def poisson(x, l):\n",
    "    return_value = 1\n",
    "    for x_i, l_i in zip(x, l):\n",
    "        return_value *= scipy.stats.distributions.poisson.pmf(x_i, l_i)\n",
    "    return return_value\n",
    "\n",
    "def calculate_likelihood_em(data):\n",
    "    # first reset previous point for all hosts for rerun\n",
    "\n",
    "    previous_points = {}\n",
    "    for host in onlineEM.hosts:\n",
    "        previous_points[host] = onlineEM.hosts[host]['hard_previous']\n",
    "\n",
    "    total_likelihood = []\n",
    "    \n",
    "    i = 0\n",
    "    for point in data:\n",
    "        i += 1\n",
    "        if i % 5000 == 0:\n",
    "            print(i)\n",
    "            \n",
    "        host = point[-1]\n",
    "\n",
    "        previous_point = previous_points[host]\n",
    "\n",
    "        point_center = onlineEM.closest_centers([point])\n",
    "        closest_center = np.argmax(point_center)\n",
    "\n",
    "        previous_points[host] = closest_center\n",
    "        \n",
    "        probabilities = kmeans.centers[kmeans.clusters[host]]\n",
    "    \n",
    "        participation = probabilities * np.array([poisson(point, lambda_i) for lambda_i in onlineEM.lambdas])\n",
    "        \n",
    "        likelihood = log(np.sum(participation))\n",
    "    \n",
    "        total_likelihood.append(likelihood)\n",
    "\n",
    "    return sum(total_likelihood) / len(total_likelihood)"
   ]
  },
  {
   "cell_type": "code",
   "execution_count": 212,
   "metadata": {
    "scrolled": false
   },
   "outputs": [
    {
     "name": "stdout",
     "output_type": "stream",
     "text": [
      "5000\n",
      "10000\n"
     ]
    },
    {
     "data": {
      "text/plain": [
       "-2.0344317582041054"
      ]
     },
     "execution_count": 212,
     "metadata": {},
     "output_type": "execute_result"
    }
   ],
   "source": [
    "from sklearn.externals import joblib\n",
    "\n",
    "groupped_data1 = joblib.load('groupped_data1_60_500.pkl')\n",
    "\n",
    "calculate_likelihood_em(groupped_data1.values[:10000,[0,1,3]])"
   ]
  },
  {
   "cell_type": "markdown",
   "metadata": {},
   "source": [
    "For the first 10000 3 clusters find and simple mean the log likelihood is: -2.0344317582041054"
   ]
  },
  {
   "cell_type": "code",
   "execution_count": null,
   "metadata": {},
   "outputs": [],
   "source": []
  }
 ],
 "metadata": {
  "kernelspec": {
   "display_name": "Python 3",
   "language": "python",
   "name": "python3"
  },
  "language_info": {
   "codemirror_mode": {
    "name": "ipython",
    "version": 3
   },
   "file_extension": ".py",
   "mimetype": "text/x-python",
   "name": "python",
   "nbconvert_exporter": "python",
   "pygments_lexer": "ipython3",
   "version": "3.6.0"
  }
 },
 "nbformat": 4,
 "nbformat_minor": 2
}
