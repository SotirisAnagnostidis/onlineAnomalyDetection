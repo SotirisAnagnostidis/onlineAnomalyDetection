{
 "cells": [
  {
   "cell_type": "code",
   "execution_count": 1,
   "metadata": {},
   "outputs": [
    {
     "name": "stderr",
     "output_type": "stream",
     "text": [
      "c:\\users\\sotiris\\appdata\\local\\programs\\python\\python36\\lib\\site-packages\\ipykernel_launcher.py:17: SettingWithCopyWarning: \n",
      "A value is trying to be set on a copy of a slice from a DataFrame\n",
      "\n",
      "See the caveats in the documentation: http://pandas.pydata.org/pandas-docs/stable/indexing.html#indexing-view-versus-copy\n"
     ]
    },
    {
     "data": {
      "text/html": [
       "<div>\n",
       "<style scoped>\n",
       "    .dataframe tbody tr th:only-of-type {\n",
       "        vertical-align: middle;\n",
       "    }\n",
       "\n",
       "    .dataframe tbody tr th {\n",
       "        vertical-align: top;\n",
       "    }\n",
       "\n",
       "    .dataframe thead th {\n",
       "        text-align: right;\n",
       "    }\n",
       "</style>\n",
       "<table border=\"1\" class=\"dataframe\">\n",
       "  <thead>\n",
       "    <tr style=\"text-align: right;\">\n",
       "      <th></th>\n",
       "      <th>duration</th>\n",
       "      <th>source computer</th>\n",
       "      <th>source port</th>\n",
       "      <th>destination computer</th>\n",
       "      <th>destination port</th>\n",
       "      <th>protocol</th>\n",
       "      <th>packet count</th>\n",
       "      <th>byte count</th>\n",
       "    </tr>\n",
       "    <tr>\n",
       "      <th>time</th>\n",
       "      <th></th>\n",
       "      <th></th>\n",
       "      <th></th>\n",
       "      <th></th>\n",
       "      <th></th>\n",
       "      <th></th>\n",
       "      <th></th>\n",
       "      <th></th>\n",
       "    </tr>\n",
       "  </thead>\n",
       "  <tbody>\n",
       "    <tr>\n",
       "      <th>1</th>\n",
       "      <td>0</td>\n",
       "      <td>C1065</td>\n",
       "      <td>389</td>\n",
       "      <td>C3799</td>\n",
       "      <td>N10451</td>\n",
       "      <td>6</td>\n",
       "      <td>10</td>\n",
       "      <td>5323</td>\n",
       "    </tr>\n",
       "    <tr>\n",
       "      <th>1</th>\n",
       "      <td>0</td>\n",
       "      <td>C1423</td>\n",
       "      <td>N1136</td>\n",
       "      <td>C1707</td>\n",
       "      <td>N1</td>\n",
       "      <td>6</td>\n",
       "      <td>5</td>\n",
       "      <td>847</td>\n",
       "    </tr>\n",
       "    <tr>\n",
       "      <th>1</th>\n",
       "      <td>0</td>\n",
       "      <td>C1423</td>\n",
       "      <td>N1142</td>\n",
       "      <td>C1707</td>\n",
       "      <td>N1</td>\n",
       "      <td>6</td>\n",
       "      <td>5</td>\n",
       "      <td>847</td>\n",
       "    </tr>\n",
       "    <tr>\n",
       "      <th>1</th>\n",
       "      <td>0</td>\n",
       "      <td>C14909</td>\n",
       "      <td>N8191</td>\n",
       "      <td>C5720</td>\n",
       "      <td>2049</td>\n",
       "      <td>6</td>\n",
       "      <td>1</td>\n",
       "      <td>52</td>\n",
       "    </tr>\n",
       "    <tr>\n",
       "      <th>1</th>\n",
       "      <td>0</td>\n",
       "      <td>C14909</td>\n",
       "      <td>N8192</td>\n",
       "      <td>C5720</td>\n",
       "      <td>2049</td>\n",
       "      <td>6</td>\n",
       "      <td>1</td>\n",
       "      <td>52</td>\n",
       "    </tr>\n",
       "  </tbody>\n",
       "</table>\n",
       "</div>"
      ],
      "text/plain": [
       "      duration source computer source port destination computer  \\\n",
       "time                                                              \n",
       "1            0           C1065         389                C3799   \n",
       "1            0           C1423       N1136                C1707   \n",
       "1            0           C1423       N1142                C1707   \n",
       "1            0          C14909       N8191                C5720   \n",
       "1            0          C14909       N8192                C5720   \n",
       "\n",
       "     destination port  protocol  packet count  byte count  \n",
       "time                                                       \n",
       "1              N10451         6            10        5323  \n",
       "1                  N1         6             5         847  \n",
       "1                  N1         6             5         847  \n",
       "1                2049         6             1          52  \n",
       "1                2049         6             1          52  "
      ]
     },
     "execution_count": 1,
     "metadata": {},
     "output_type": "execute_result"
    }
   ],
   "source": [
    "import pandas as pd\n",
    "import numpy as np\n",
    "%matplotlib inline\n",
    "\n",
    "time_epoch = 60\n",
    "epochs_per_batch = 500\n",
    "\n",
    "# hard coded nrows\n",
    "df_all = pd.read_csv('../../../diploma/multi-source-syber-security-events/flows.txt', header=None, nrows=10000000)\n",
    "\n",
    "df_all.columns = ['time', 'duration', 'source computer', 'source port', 'destination computer', \n",
    "              'destination port', 'protocol', 'packet count', 'byte count']\n",
    "\n",
    "df = df_all[df_all['time'] <= epochs_per_batch * time_epoch]\n",
    "\n",
    "df.index = df['time']\n",
    "df.drop(columns=['time'],inplace=True)\n",
    "df.head()"
   ]
  },
  {
   "cell_type": "code",
   "execution_count": 2,
   "metadata": {},
   "outputs": [],
   "source": [
    "# get all the host in the buckets we are interested in \n",
    "\n",
    "hosts = np.array(list(set(df_all[df_all['time'] <= epochs_per_batch * time_epoch / 5]['source computer'].values))) "
   ]
  },
  {
   "cell_type": "code",
   "execution_count": 3,
   "metadata": {},
   "outputs": [],
   "source": [
    "from helper import group_scale_data, group_scale_data_batch\n",
    "\n",
    "def get_data(df_all, ranges=range(10), time_epoch=60, epochs_per_batch=50, hosts=None):\n",
    "    frames = []\n",
    "    for time in ranges:\n",
    "        print('Starting time', time)\n",
    "        \n",
    "        tempdf = df_all[(df_all['time'] > epochs_per_batch * time_epoch * time) &\n",
    "                        (df_all['time'] <= epochs_per_batch * time_epoch * (time + 1))]\n",
    "        tempdf.index = tempdf['time']\n",
    "        tempdf.drop(columns=['time'],inplace=True)\n",
    "        \n",
    "        groupped_data, hosts, parameters = group_scale_data(tempdf, size_of_bin_seconds=time_epoch,\n",
    "                                                            addZeros=True, doScale=True, scaler='log', verbose=0, hosts=hosts)\n",
    "        groupped_data['epoch'] += time * epochs_per_batch\n",
    "        frames.append(groupped_data)\n",
    "        \n",
    "    return pd.concat(frames), hosts, parameters"
   ]
  },
  {
   "cell_type": "code",
   "execution_count": 7,
   "metadata": {},
   "outputs": [
    {
     "name": "stdout",
     "output_type": "stream",
     "text": [
      "Starting time 0\n"
     ]
    },
    {
     "name": "stderr",
     "output_type": "stream",
     "text": [
      "c:\\users\\sotiris\\appdata\\local\\programs\\python\\python36\\lib\\site-packages\\ipykernel_launcher.py:11: SettingWithCopyWarning: \n",
      "A value is trying to be set on a copy of a slice from a DataFrame\n",
      "\n",
      "See the caveats in the documentation: http://pandas.pydata.org/pandas-docs/stable/indexing.html#indexing-view-versus-copy\n",
      "  # This is added back by InteractiveShellApp.init_path()\n"
     ]
    },
    {
     "name": "stdout",
     "output_type": "stream",
     "text": [
      "Starting time 1\n",
      "Starting time 2\n",
      "Starting time 3\n",
      "Starting time 4\n",
      "Starting time 5\n",
      "Starting time 6\n",
      "Starting time 7\n",
      "Starting time 8\n",
      "Starting time 9\n"
     ]
    }
   ],
   "source": [
    "groupped_data, hosts, parameters = get_data(df_all, ranges=range(10), hosts=hosts)"
   ]
  },
  {
   "cell_type": "code",
   "execution_count": 10,
   "metadata": {},
   "outputs": [
    {
     "name": "stdout",
     "output_type": "stream",
     "text": [
      "Starting time 10\n"
     ]
    },
    {
     "name": "stderr",
     "output_type": "stream",
     "text": [
      "c:\\users\\sotiris\\appdata\\local\\programs\\python\\python36\\lib\\site-packages\\ipykernel_launcher.py:11: SettingWithCopyWarning: \n",
      "A value is trying to be set on a copy of a slice from a DataFrame\n",
      "\n",
      "See the caveats in the documentation: http://pandas.pydata.org/pandas-docs/stable/indexing.html#indexing-view-versus-copy\n",
      "  # This is added back by InteractiveShellApp.init_path()\n"
     ]
    },
    {
     "name": "stdout",
     "output_type": "stream",
     "text": [
      "Starting time 11\n",
      "Starting time 12\n",
      "Starting time 13\n",
      "Starting time 14\n",
      "Starting time 15\n",
      "Starting time 16\n",
      "Starting time 17\n",
      "Starting time 18\n",
      "Starting time 19\n"
     ]
    }
   ],
   "source": [
    "groupped_data1, hosts, parameters = get_data(df_all, ranges=range(10,20), hosts=hosts)"
   ]
  },
  {
   "cell_type": "code",
   "execution_count": 11,
   "metadata": {},
   "outputs": [
    {
     "data": {
      "text/plain": [
       "500.0"
      ]
     },
     "execution_count": 11,
     "metadata": {},
     "output_type": "execute_result"
    }
   ],
   "source": [
    "len(groupped_data1) / len(hosts)"
   ]
  },
  {
   "cell_type": "code",
   "execution_count": null,
   "metadata": {},
   "outputs": [],
   "source": []
  },
  {
   "cell_type": "code",
   "execution_count": null,
   "metadata": {},
   "outputs": [],
   "source": []
  },
  {
   "cell_type": "code",
   "execution_count": 37,
   "metadata": {},
   "outputs": [
    {
     "name": "stdout",
     "output_type": "stream",
     "text": [
      "1894\n",
      "5563\n"
     ]
    }
   ],
   "source": [
    "print(len(hosts))\n",
    "print(len(set(groupped_data['source computer'])))"
   ]
  },
  {
   "cell_type": "code",
   "execution_count": null,
   "metadata": {},
   "outputs": [],
   "source": []
  },
  {
   "cell_type": "code",
   "execution_count": 4,
   "metadata": {},
   "outputs": [],
   "source": [
    "from emClustering import OnlineEM\n",
    "from plots import plot_points, plot_results, plot_category, plot_all_categories\n",
    "from kplusplus import KPlusPlus\n",
    "import numpy as np\n",
    "import pandas as pd"
   ]
  },
  {
   "cell_type": "code",
   "execution_count": 2,
   "metadata": {},
   "outputs": [],
   "source": [
    "from sklearn.externals import joblib\n",
    "\n",
    "#joblib.dump(groupped_data,'groupped_data_60_500.pkl')\n",
    "#joblib.dump(groupped_data1,'groupped_data1_60_500.pkl')\n",
    "groupped_data = joblib.load('groupped_data_60_500.pkl')\n",
    "groupped_data1 = joblib.load('groupped_data1_60_500.pkl')"
   ]
  },
  {
   "cell_type": "code",
   "execution_count": 3,
   "metadata": {},
   "outputs": [],
   "source": [
    "#joblib.dump(hosts,'hosts_60_500.pkl')\n",
    "hosts = joblib.load('hosts_60_500.pkl')"
   ]
  },
  {
   "cell_type": "markdown",
   "metadata": {},
   "source": [
    "### Pooled Poisson"
   ]
  },
  {
   "cell_type": "code",
   "execution_count": 14,
   "metadata": {},
   "outputs": [],
   "source": [
    "data = groupped_data.values[:, :2]\n",
    "data1 = groupped_data1.values[:, :2]"
   ]
  },
  {
   "cell_type": "code",
   "execution_count": 15,
   "metadata": {},
   "outputs": [],
   "source": [
    "lambdas = np.mean(data, axis=0)"
   ]
  },
  {
   "cell_type": "code",
   "execution_count": 16,
   "metadata": {},
   "outputs": [],
   "source": [
    "import scipy.stats.distributions\n",
    "from math import log\n",
    "\n",
    "def poisson(x, l):\n",
    "    return_value = 1\n",
    "    for x_i, l_i in zip(x, l):\n",
    "        return_value *= scipy.stats.distributions.poisson.pmf(x_i, l_i)\n",
    "    return return_value\n",
    "\n",
    "def likelihood(lambdas, data):\n",
    "    likelihood = 0\n",
    "    intervals = len(data) / 20\n",
    "    for i, x in enumerate(data):\n",
    "        if i % intervals == 0:\n",
    "            print('Done with', int(i/intervals),'/',20)\n",
    "        total_x = poisson(x, lambdas)\n",
    "        likelihood = likelihood + log(total_x)\n",
    "    return likelihood/len(data)"
   ]
  },
  {
   "cell_type": "code",
   "execution_count": 17,
   "metadata": {
    "collapsed": true
   },
   "outputs": [
    {
     "name": "stdout",
     "output_type": "stream",
     "text": [
      "Done with 0 / 20\n",
      "Done with 1 / 20\n",
      "Done with 2 / 20\n",
      "Done with 3 / 20\n",
      "Done with 4 / 20\n",
      "Done with 5 / 20\n",
      "Done with 6 / 20\n",
      "Done with 7 / 20\n",
      "Done with 8 / 20\n",
      "Done with 9 / 20\n",
      "Done with 10 / 20\n",
      "Done with 11 / 20\n",
      "Done with 12 / 20\n",
      "Done with 13 / 20\n",
      "Done with 14 / 20\n",
      "Done with 15 / 20\n",
      "Done with 16 / 20\n",
      "Done with 17 / 20\n",
      "Done with 18 / 20\n",
      "Done with 19 / 20\n"
     ]
    },
    {
     "data": {
      "text/plain": [
       "-16.694797327938353"
      ]
     },
     "execution_count": 17,
     "metadata": {},
     "output_type": "execute_result"
    }
   ],
   "source": [
    "likelihood(lambdas, data)"
   ]
  },
  {
   "cell_type": "code",
   "execution_count": 18,
   "metadata": {
    "collapsed": true
   },
   "outputs": [
    {
     "name": "stdout",
     "output_type": "stream",
     "text": [
      "Done with 0 / 20\n",
      "Done with 1 / 20\n",
      "Done with 2 / 20\n",
      "Done with 3 / 20\n",
      "Done with 4 / 20\n",
      "Done with 5 / 20\n",
      "Done with 6 / 20\n",
      "Done with 7 / 20\n",
      "Done with 8 / 20\n",
      "Done with 9 / 20\n",
      "Done with 10 / 20\n",
      "Done with 11 / 20\n",
      "Done with 12 / 20\n",
      "Done with 13 / 20\n",
      "Done with 14 / 20\n",
      "Done with 15 / 20\n",
      "Done with 16 / 20\n",
      "Done with 17 / 20\n",
      "Done with 18 / 20\n",
      "Done with 19 / 20\n"
     ]
    },
    {
     "data": {
      "text/plain": [
       "-17.225664226501785"
      ]
     },
     "execution_count": 18,
     "metadata": {},
     "output_type": "execute_result"
    }
   ],
   "source": [
    "likelihood(lambdas, data1)"
   ]
  },
  {
   "cell_type": "code",
   "execution_count": null,
   "metadata": {},
   "outputs": [],
   "source": []
  },
  {
   "cell_type": "markdown",
   "metadata": {},
   "source": [
    "### Pooled Mixture of Poissons"
   ]
  },
  {
   "cell_type": "code",
   "execution_count": 64,
   "metadata": {
    "collapsed": true
   },
   "outputs": [
    {
     "name": "stdout",
     "output_type": "stream",
     "text": [
      "Centers found: 1\n",
      "Centers found: 2\n",
      "Centers found: 3\n",
      "Centers found: 4\n",
      "Centers found: 5\n",
      "Centers found: 6\n",
      "Centers found: 7\n",
      "Centers found: 8\n",
      "Centers found: 9\n",
      "Centers found: 10\n",
      "Centers found: 11\n",
      "Centers found: 12\n",
      "Centers found: 13\n"
     ]
    }
   ],
   "source": [
    "mixtures = 13\n",
    "\n",
    "kplusplus = KPlusPlus(mixtures, groupped_data.values[:, :2], stochastic=True, stochastic_n_samples=10000)\n",
    "\n",
    "kplusplus.init_centers(verbose=1)\n"
   ]
  },
  {
   "cell_type": "code",
   "execution_count": 65,
   "metadata": {},
   "outputs": [
    {
     "data": {
      "image/png": "[encoded data removed]",
      "text/plain": [
       "<matplotlib.figure.Figure at 0x25e8b25d3c8>"
      ]
     },
     "metadata": {},
     "output_type": "display_data"
    }
   ],
   "source": [
    "test = int(len(set(groupped_data['source computer'].values)))\n",
    "\n",
    "# random initialization\n",
    "onlineEM = OnlineEM([1/mixtures]*mixtures, kplusplus.centers, test, n_clusters=8, verbose=1, update_power=0.5)\n",
    "\n",
    "plot_points(groupped_data.values[:, :2], onlineEM)"
   ]
  },
  {
   "cell_type": "code",
   "execution_count": 66,
   "metadata": {
    "collapsed": true
   },
   "outputs": [
    {
     "name": "stdout",
     "output_type": "stream",
     "text": [
      "Running for data till position 1912 from total 191200\n",
      "Running for data till position 3824 from total 191200\n",
      "Running for data till position 5736 from total 191200\n",
      "Running for data till position 7648 from total 191200\n",
      "Running for data till position 9560 from total 191200\n",
      "Running for data till position 11472 from total 191200\n",
      "Running for data till position 13384 from total 191200\n",
      "Running for data till position 15296 from total 191200\n",
      "Running for data till position 17208 from total 191200\n",
      "Running for data till position 19120 from total 191200\n",
      "Running for data till position 21032 from total 191200\n",
      "Running for data till position 22944 from total 191200\n",
      "Running for data till position 24856 from total 191200\n",
      "Running for data till position 26768 from total 191200\n",
      "Running for data till position 28680 from total 191200\n",
      "Running for data till position 30592 from total 191200\n",
      "Running for data till position 32504 from total 191200\n",
      "Running for data till position 34416 from total 191200\n",
      "Running for data till position 36328 from total 191200\n",
      "Running for data till position 38240 from total 191200\n",
      "Running for data till position 40152 from total 191200\n",
      "Running for data till position 42064 from total 191200\n",
      "Running for data till position 43976 from total 191200\n",
      "Running for data till position 45888 from total 191200\n",
      "Running for data till position 47800 from total 191200\n",
      "Running for data till position 49712 from total 191200\n",
      "Running for data till position 51624 from total 191200\n",
      "Running for data till position 53536 from total 191200\n",
      "Running for data till position 55448 from total 191200\n",
      "Running for data till position 57360 from total 191200\n",
      "Running for data till position 59272 from total 191200\n",
      "Running for data till position 61184 from total 191200\n",
      "Running for data till position 63096 from total 191200\n",
      "Running for data till position 65008 from total 191200\n",
      "Running for data till position 66920 from total 191200\n",
      "Running for data till position 68832 from total 191200\n",
      "Running for data till position 70744 from total 191200\n",
      "Running for data till position 72656 from total 191200\n",
      "Running for data till position 74568 from total 191200\n",
      "Running for data till position 76480 from total 191200\n",
      "Running for data till position 78392 from total 191200\n",
      "Running for data till position 80304 from total 191200\n",
      "Running for data till position 82216 from total 191200\n",
      "Running for data till position 84128 from total 191200\n",
      "Running for data till position 86040 from total 191200\n",
      "Running for data till position 87952 from total 191200\n",
      "Running for data till position 89864 from total 191200\n",
      "Running for data till position 91776 from total 191200\n",
      "Running for data till position 93688 from total 191200\n",
      "Running for data till position 95600 from total 191200\n",
      "Running for data till position 97512 from total 191200\n",
      "Running for data till position 99424 from total 191200\n",
      "Running for data till position 101336 from total 191200\n",
      "Running for data till position 103248 from total 191200\n",
      "Running for data till position 105160 from total 191200\n",
      "Running for data till position 107072 from total 191200\n",
      "Running for data till position 108984 from total 191200\n",
      "Running for data till position 110896 from total 191200\n",
      "Running for data till position 112808 from total 191200\n",
      "Running for data till position 114720 from total 191200\n",
      "Running for data till position 116632 from total 191200\n",
      "Running for data till position 118544 from total 191200\n",
      "Running for data till position 120456 from total 191200\n",
      "Running for data till position 122368 from total 191200\n",
      "Running for data till position 124280 from total 191200\n",
      "Running for data till position 126192 from total 191200\n",
      "Running for data till position 128104 from total 191200\n",
      "Running for data till position 130016 from total 191200\n",
      "Running for data till position 131928 from total 191200\n",
      "Running for data till position 133840 from total 191200\n",
      "Running for data till position 135752 from total 191200\n",
      "Running for data till position 137664 from total 191200\n",
      "Running for data till position 139576 from total 191200\n",
      "Running for data till position 141488 from total 191200\n",
      "Running for data till position 143400 from total 191200\n",
      "Running for data till position 145312 from total 191200\n",
      "Running for data till position 147224 from total 191200\n",
      "Running for data till position 149136 from total 191200\n",
      "Running for data till position 151048 from total 191200\n",
      "Running for data till position 152960 from total 191200\n",
      "Running for data till position 154872 from total 191200\n",
      "Running for data till position 156784 from total 191200\n",
      "Running for data till position 158696 from total 191200\n",
      "Running for data till position 160608 from total 191200\n",
      "Running for data till position 162520 from total 191200\n",
      "Running for data till position 164432 from total 191200\n",
      "Running for data till position 166344 from total 191200\n",
      "Running for data till position 168256 from total 191200\n",
      "Running for data till position 170168 from total 191200\n",
      "Running for data till position 172080 from total 191200\n",
      "Running for data till position 173992 from total 191200\n",
      "Running for data till position 175904 from total 191200\n",
      "Running for data till position 177816 from total 191200\n",
      "Running for data till position 179728 from total 191200\n",
      "Running for data till position 181640 from total 191200\n",
      "Running for data till position 183552 from total 191200\n",
      "Running for data till position 185464 from total 191200\n",
      "Running for data till position 187376 from total 191200\n",
      "Running for data till position 189288 from total 191200\n",
      "Running for data till position 191200 from total 191200\n",
      "Running clustering algorithm\n"
     ]
    }
   ],
   "source": [
    "data = groupped_data.values[:,[0,1,3]]\n",
    "\n",
    "onlineEM.fit(data)"
   ]
  },
  {
   "cell_type": "code",
   "execution_count": 68,
   "metadata": {},
   "outputs": [
    {
     "data": {
      "image/png": "[encoded data removed]",
      "text/plain": [
       "<matplotlib.figure.Figure at 0x25e831c2198>"
      ]
     },
     "metadata": {},
     "output_type": "display_data"
    }
   ],
   "source": [
    "plot_points(groupped_data.values[:, :2], onlineEM)"
   ]
  },
  {
   "cell_type": "code",
   "execution_count": 30,
   "metadata": {},
   "outputs": [],
   "source": [
    "# joblib.dump(onlineEM,'onlineEM_60_100_13.pkl')\n",
    "onlineEM = joblib.load('onlineEM_60_100_13.pkl')"
   ]
  },
  {
   "cell_type": "code",
   "execution_count": 31,
   "metadata": {},
   "outputs": [
    {
     "data": {
      "text/plain": [
       "-4.107553895937868"
      ]
     },
     "execution_count": 31,
     "metadata": {},
     "output_type": "execute_result"
    }
   ],
   "source": [
    "data1 = groupped_data1.values[:,[0,1,3]]\n",
    "\n",
    "onlineEM.calculate_likelihood(data1) / len(data1)"
   ]
  },
  {
   "cell_type": "code",
   "execution_count": null,
   "metadata": {},
   "outputs": [],
   "source": []
  },
  {
   "cell_type": "markdown",
   "metadata": {},
   "source": [
    "### Per host mixture of Poissons"
   ]
  },
  {
   "cell_type": "code",
   "execution_count": null,
   "metadata": {},
   "outputs": [],
   "source": []
  },
  {
   "cell_type": "code",
   "execution_count": null,
   "metadata": {},
   "outputs": [],
   "source": []
  },
  {
   "cell_type": "code",
   "execution_count": 25,
   "metadata": {},
   "outputs": [],
   "source": [
    "def likelihood_mixture_per_host(mixtures=3, groupped_data_train=groupped_data, groupped_data_test=groupped_data1):\n",
    "    likelihoods = []\n",
    "    likelihoods_for_hosts = []\n",
    "    intervals = 100\n",
    "\n",
    "    for i, host in enumerate(hosts):\n",
    "\n",
    "        data_for_host_train = groupped_data_train[groupped_data_train['source computer'] == host]\n",
    "        data_for_host_test = groupped_data_test[groupped_data_test['source computer'] == host]\n",
    "\n",
    "        try:\n",
    "            kplusplus = KPlusPlus(mixtures, data_for_host_train.values[:, :2], stochastic=False)\n",
    "\n",
    "            kplusplus.init_centers(verbose=0)\n",
    "\n",
    "\n",
    "            onlineEM_host = OnlineEM([1/mixtures]*mixtures, kplusplus.centers, 50, n_clusters=1, verbose=0, update_power=0.5)\n",
    "\n",
    "            onlineEM_host.fit(data_for_host_train.values[:,[0,1,3]])\n",
    "\n",
    "            \"\"\"\n",
    "            plot_points(data_for_host.values[:, :2], onlineEM_host)\n",
    "            print('kplusplus', kplusplus.centers)\n",
    "            print(onlineEM_host.lambdas)\n",
    "            print(onlineEM_host.gammas)\n",
    "            \"\"\"\n",
    "            likelihoods.append(onlineEM_host.calculate_likelihood(data_for_host_test.values[:,[0,1,3]]) / len(data_for_host_test))\n",
    "            likelihoods_for_hosts.append(host)\n",
    "        except IndexError:\n",
    "            pass\n",
    "\n",
    "        if i% intervals == 0:\n",
    "            print('Done with', i)\n",
    "\n",
    "    return likelihoods, likelihoods_for_hosts"
   ]
  },
  {
   "cell_type": "code",
   "execution_count": 26,
   "metadata": {
    "collapsed": true
   },
   "outputs": [
    {
     "name": "stdout",
     "output_type": "stream",
     "text": [
      "Done with 0\n",
      "Done with 100\n",
      "Done with 200\n",
      "Done with 300\n",
      "Done with 400\n",
      "Done with 500\n",
      "Done with 600\n",
      "Done with 700\n",
      "Done with 800\n",
      "Done with 900\n",
      "Done with 1000\n",
      "Done with 1100\n"
     ]
    },
    {
     "name": "stderr",
     "output_type": "stream",
     "text": [
      "D:\\Sotiris\\Projects\\JupyterNotebooks\\onlineAnomalyDetection\\diploma\\kplusplus.py:57: RuntimeWarning: invalid value encountered in true_divide\n",
      "  self.probabilities = self.distances / self.distances.sum()\n",
      "D:\\Sotiris\\Projects\\JupyterNotebooks\\onlineAnomalyDetection\\diploma\\kplusplus.py:60: RuntimeWarning: invalid value encountered in greater_equal\n",
      "  ind = np.where(self.cumulativeProbabilities >= r)[0][0]\n"
     ]
    },
    {
     "name": "stdout",
     "output_type": "stream",
     "text": [
      "Done with 1200\n",
      "Done with 1300\n",
      "Done with 1400\n",
      "Done with 1500\n",
      "Done with 1600\n",
      "Done with 1700\n",
      "Done with 1800\n"
     ]
    }
   ],
   "source": [
    "likelihoods_3, likelihoods_for_hosts_3 = likelihood_mixture_per_host(mixtures=3)"
   ]
  },
  {
   "cell_type": "code",
   "execution_count": 27,
   "metadata": {},
   "outputs": [
    {
     "data": {
      "text/plain": [
       "-3.8904821673128946"
      ]
     },
     "execution_count": 27,
     "metadata": {},
     "output_type": "execute_result"
    }
   ],
   "source": [
    "sum(likelihoods_3) / len(likelihoods_3)"
   ]
  },
  {
   "cell_type": "code",
   "execution_count": 28,
   "metadata": {},
   "outputs": [
    {
     "data": {
      "text/plain": [
       "['likelihoods_for_hosts_3.pkl']"
      ]
     },
     "execution_count": 28,
     "metadata": {},
     "output_type": "execute_result"
    }
   ],
   "source": [
    "joblib.dump(likelihoods_3,'likelihoods_3.pkl')\n",
    "joblib.dump(likelihoods_for_hosts_3,'likelihoods_for_hosts_3.pkl')"
   ]
  },
  {
   "cell_type": "code",
   "execution_count": 59,
   "metadata": {},
   "outputs": [],
   "source": [
    "def likelihoods_non_zero(likelihoods, percentages, least_percentage):\n",
    "    \n",
    "    result_likelihoods = []\n",
    "    \n",
    "    for i, per in enumerate(percentages):\n",
    "        \n",
    "        if per >= least_percentage:\n",
    "            result_likelihoods.append(likelihoods[i])\n",
    "    \n",
    "    print('A total of', len(result_likelihoods), 'hosts satisfy the criteria')\n",
    "    return sum(result_likelihoods) / len(result_likelihoods)"
   ]
  },
  {
   "cell_type": "code",
   "execution_count": 52,
   "metadata": {},
   "outputs": [],
   "source": [
    "def calculate_percentages(groupped_data, hosts):\n",
    "    percentages = []\n",
    "    epochs = len(set(groupped_data['epoch'].values))\n",
    "    for host in hosts:\n",
    "        test = groupped_data[groupped_data['source computer'] == host]\n",
    "        non_zero = len(test[test['number of flows'] > 1])\n",
    "        \n",
    "        percentages.append(non_zero/epochs)\n",
    "    return np.array(percentages)\n",
    "\n",
    "percentages = calculate_percentages(groupped_data, likelihoods_for_hosts_3)"
   ]
  },
  {
   "cell_type": "code",
   "execution_count": null,
   "metadata": {},
   "outputs": [],
   "source": []
  },
  {
   "cell_type": "code",
   "execution_count": 66,
   "metadata": {
    "collapsed": true
   },
   "outputs": [
    {
     "name": "stdout",
     "output_type": "stream",
     "text": [
      "A total of 1893 hosts satisfy the criteria\n",
      "For percentage 0.0 likelihood is -3.8904821673128946\n",
      "A total of 1489 hosts satisfy the criteria\n",
      "For percentage 0.1 likelihood is -4.097219943727841\n",
      "A total of 681 hosts satisfy the criteria\n",
      "For percentage 0.2 likelihood is -5.10467065912003\n",
      "A total of 518 hosts satisfy the criteria\n",
      "For percentage 0.3 likelihood is -5.3782310925109496\n",
      "A total of 296 hosts satisfy the criteria\n",
      "For percentage 0.4 likelihood is -5.8996082766689595\n",
      "A total of 230 hosts satisfy the criteria\n",
      "For percentage 0.5 likelihood is -6.076545875813595\n",
      "A total of 157 hosts satisfy the criteria\n",
      "For percentage 0.6 likelihood is -6.408701573089469\n",
      "A total of 127 hosts satisfy the criteria\n",
      "For percentage 0.7 likelihood is -6.618488698865063\n",
      "A total of 93 hosts satisfy the criteria\n",
      "For percentage 0.8 likelihood is -6.934728204629115\n",
      "A total of 65 hosts satisfy the criteria\n",
      "For percentage 0.9 likelihood is -7.2397230929516265\n"
     ]
    }
   ],
   "source": [
    "for i in np.arange(0, 1, 0.1):\n",
    "    print('For percentage', i, 'likelihood is', likelihoods_non_zero(likelihoods_3, percentages, i))"
   ]
  },
  {
   "cell_type": "code",
   "execution_count": null,
   "metadata": {},
   "outputs": [],
   "source": []
  },
  {
   "cell_type": "code",
   "execution_count": null,
   "metadata": {},
   "outputs": [],
   "source": []
  },
  {
   "cell_type": "code",
   "execution_count": null,
   "metadata": {},
   "outputs": [],
   "source": []
  },
  {
   "cell_type": "code",
   "execution_count": null,
   "metadata": {},
   "outputs": [],
   "source": [
    "for host in hosts:\n",
    "    test = groupped_data[groupped_data['source computer'] == host]\n",
    "    non_zero = len(test[test['number of flows'] > 1])\n",
    "    \n",
    "    test1 = groupped_data1[groupped_data1['source computer'] == host]\n",
    "    non_zero1 = len(test1[test1['number of flows'] > 1])\n",
    "    \n",
    "    print('For host', host, 'groupped_data' , non_zero, 'test', non_zero1)"
   ]
  },
  {
   "cell_type": "markdown",
   "metadata": {},
   "source": [
    "### Pooled data hmm"
   ]
  },
  {
   "cell_type": "code",
   "execution_count": 53,
   "metadata": {},
   "outputs": [
    {
     "name": "stdout",
     "output_type": "stream",
     "text": [
      "Centers found: 1\n",
      "Centers found: 2\n",
      "Centers found: 3\n",
      "Centers found: 4\n",
      "Centers found: 5\n",
      "Centers found: 6\n",
      "Centers found: 7\n",
      "Centers found: 8\n",
      "Centers found: 9\n",
      "Centers found: 10\n",
      "Centers found: 11\n",
      "Centers found: 12\n",
      "Centers found: 13\n"
     ]
    }
   ],
   "source": [
    "mixtures = 13\n",
    "\n",
    "kplusplus = KPlusPlus(mixtures, groupped_data.values[:, :2], stochastic=True, stochastic_n_samples=10000)\n",
    "\n",
    "kplusplus.init_centers(verbose=1)"
   ]
  },
  {
   "cell_type": "code",
   "execution_count": 36,
   "metadata": {},
   "outputs": [],
   "source": []
  },
  {
   "cell_type": "code",
   "execution_count": 58,
   "metadata": {},
   "outputs": [
    {
     "data": {
      "image/png": "[encoded data removed]",
      "text/plain": [
       "<matplotlib.figure.Figure at 0x19e4ad000b8>"
      ]
     },
     "metadata": {},
     "output_type": "display_data"
    }
   ],
   "source": [
    "test = int(len(set(groupped_data['source computer'].values)))\n",
    "\n",
    "# random initialization\n",
    "onlineEM = OnlineEM([1/mixtures]*mixtures, kplusplus.centers, test, n_clusters=8, verbose=1, update_power=0.5)\n",
    "\n",
    "plot_points(groupped_data.values[:, :2], onlineEM)"
   ]
  },
  {
   "cell_type": "code",
   "execution_count": 59,
   "metadata": {
    "scrolled": false
   },
   "outputs": [
    {
     "name": "stdout",
     "output_type": "stream",
     "text": [
      "Running for data till position 1894 from total 947000\n",
      "Running for data till position 3788 from total 947000\n",
      "Running for data till position 5682 from total 947000\n",
      "Running for data till position 7576 from total 947000\n",
      "Running for data till position 9470 from total 947000\n",
      "Running for data till position 11364 from total 947000\n",
      "Running for data till position 13258 from total 947000\n",
      "Running for data till position 15152 from total 947000\n",
      "Running for data till position 17046 from total 947000\n",
      "Running for data till position 18940 from total 947000\n",
      "Running for data till position 20834 from total 947000\n",
      "Running for data till position 22728 from total 947000\n",
      "Running for data till position 24622 from total 947000\n",
      "Running for data till position 26516 from total 947000\n",
      "Running for data till position 28410 from total 947000\n",
      "Running for data till position 30304 from total 947000\n",
      "Running for data till position 32198 from total 947000\n",
      "Running for data till position 34092 from total 947000\n",
      "Running for data till position 35986 from total 947000\n",
      "Running for data till position 37880 from total 947000\n",
      "Running for data till position 39774 from total 947000\n",
      "Running for data till position 41668 from total 947000\n",
      "Running for data till position 43562 from total 947000\n",
      "Running for data till position 45456 from total 947000\n",
      "Running for data till position 47350 from total 947000\n",
      "Running for data till position 49244 from total 947000\n",
      "Running for data till position 51138 from total 947000\n",
      "Running for data till position 53032 from total 947000\n",
      "Running for data till position 54926 from total 947000\n",
      "Running for data till position 56820 from total 947000\n",
      "Running for data till position 58714 from total 947000\n",
      "Running for data till position 60608 from total 947000\n",
      "Running for data till position 62502 from total 947000\n",
      "Running for data till position 64396 from total 947000\n",
      "Running for data till position 66290 from total 947000\n",
      "Running for data till position 68184 from total 947000\n",
      "Running for data till position 70078 from total 947000\n",
      "Running for data till position 71972 from total 947000\n",
      "Running for data till position 73866 from total 947000\n",
      "Running for data till position 75760 from total 947000\n",
      "Running for data till position 77654 from total 947000\n",
      "Running for data till position 79548 from total 947000\n",
      "Running for data till position 81442 from total 947000\n",
      "Running for data till position 83336 from total 947000\n",
      "Running for data till position 85230 from total 947000\n",
      "Running for data till position 87124 from total 947000\n",
      "Running for data till position 89018 from total 947000\n",
      "Running for data till position 90912 from total 947000\n",
      "Running for data till position 92806 from total 947000\n",
      "Running for data till position 94700 from total 947000\n",
      "Running for data till position 96594 from total 947000\n",
      "Running for data till position 98488 from total 947000\n",
      "Running for data till position 100382 from total 947000\n",
      "Running for data till position 102276 from total 947000\n",
      "Running for data till position 104170 from total 947000\n",
      "Running for data till position 106064 from total 947000\n",
      "Running for data till position 107958 from total 947000\n",
      "Running for data till position 109852 from total 947000\n",
      "Running for data till position 111746 from total 947000\n",
      "Running for data till position 113640 from total 947000\n",
      "Running for data till position 115534 from total 947000\n",
      "Running for data till position 117428 from total 947000\n",
      "Running for data till position 119322 from total 947000\n",
      "Running for data till position 121216 from total 947000\n",
      "Running for data till position 123110 from total 947000\n",
      "Running for data till position 125004 from total 947000\n",
      "Running for data till position 126898 from total 947000\n",
      "Running for data till position 128792 from total 947000\n",
      "Running for data till position 130686 from total 947000\n",
      "Running for data till position 132580 from total 947000\n",
      "Running for data till position 134474 from total 947000\n",
      "Running for data till position 136368 from total 947000\n",
      "Running for data till position 138262 from total 947000\n",
      "Running for data till position 140156 from total 947000\n",
      "Running for data till position 142050 from total 947000\n",
      "Running for data till position 143944 from total 947000\n",
      "Running for data till position 145838 from total 947000\n",
      "Running for data till position 147732 from total 947000\n",
      "Running for data till position 149626 from total 947000\n",
      "Running for data till position 151520 from total 947000\n",
      "Running for data till position 153414 from total 947000\n",
      "Running for data till position 155308 from total 947000\n",
      "Running for data till position 157202 from total 947000\n",
      "Running for data till position 159096 from total 947000\n",
      "Running for data till position 160990 from total 947000\n",
      "Running for data till position 162884 from total 947000\n",
      "Running for data till position 164778 from total 947000\n",
      "Running for data till position 166672 from total 947000\n",
      "Running for data till position 168566 from total 947000\n",
      "Running for data till position 170460 from total 947000\n",
      "Running for data till position 172354 from total 947000\n",
      "Running for data till position 174248 from total 947000\n",
      "Running for data till position 176142 from total 947000\n",
      "Running for data till position 178036 from total 947000\n",
      "Running for data till position 179930 from total 947000\n",
      "Running for data till position 181824 from total 947000\n",
      "Running for data till position 183718 from total 947000\n",
      "Running for data till position 185612 from total 947000\n",
      "Running for data till position 187506 from total 947000\n",
      "Running for data till position 189400 from total 947000\n",
      "Running for data till position 191294 from total 947000\n",
      "Running for data till position 193188 from total 947000\n",
      "Running for data till position 195082 from total 947000\n",
      "Running for data till position 196976 from total 947000\n",
      "Running for data till position 198870 from total 947000\n",
      "Running for data till position 200764 from total 947000\n",
      "Running for data till position 202658 from total 947000\n",
      "Running for data till position 204552 from total 947000\n",
      "Running for data till position 206446 from total 947000\n",
      "Running for data till position 208340 from total 947000\n",
      "Running for data till position 210234 from total 947000\n",
      "Running for data till position 212128 from total 947000\n",
      "Running for data till position 214022 from total 947000\n",
      "Running for data till position 215916 from total 947000\n",
      "Running for data till position 217810 from total 947000\n",
      "Running for data till position 219704 from total 947000\n",
      "Running for data till position 221598 from total 947000\n",
      "Running for data till position 223492 from total 947000\n",
      "Running for data till position 225386 from total 947000\n",
      "Running for data till position 227280 from total 947000\n",
      "Running for data till position 229174 from total 947000\n",
      "Running for data till position 231068 from total 947000\n",
      "Running for data till position 232962 from total 947000\n",
      "Running for data till position 234856 from total 947000\n",
      "Running for data till position 236750 from total 947000\n",
      "Running for data till position 238644 from total 947000\n",
      "Running for data till position 240538 from total 947000\n",
      "Running for data till position 242432 from total 947000\n",
      "Running for data till position 244326 from total 947000\n",
      "Running for data till position 246220 from total 947000\n",
      "Running for data till position 248114 from total 947000\n",
      "Running for data till position 250008 from total 947000\n",
      "Running for data till position 251902 from total 947000\n",
      "Running for data till position 253796 from total 947000\n",
      "Running for data till position 255690 from total 947000\n",
      "Running for data till position 257584 from total 947000\n",
      "Running for data till position 259478 from total 947000\n",
      "Running for data till position 261372 from total 947000\n",
      "Running for data till position 263266 from total 947000\n",
      "Running for data till position 265160 from total 947000\n",
      "Running for data till position 267054 from total 947000\n",
      "Running for data till position 268948 from total 947000\n",
      "Running for data till position 270842 from total 947000\n",
      "Running for data till position 272736 from total 947000\n",
      "Running for data till position 274630 from total 947000\n",
      "Running for data till position 276524 from total 947000\n",
      "Running for data till position 278418 from total 947000\n",
      "Running for data till position 280312 from total 947000\n"
     ]
    },
    {
     "name": "stdout",
     "output_type": "stream",
     "text": [
      "Running for data till position 282206 from total 947000\n",
      "Running for data till position 284100 from total 947000\n",
      "Running for data till position 285994 from total 947000\n",
      "Running for data till position 287888 from total 947000\n",
      "Running for data till position 289782 from total 947000\n",
      "Running for data till position 291676 from total 947000\n",
      "Running for data till position 293570 from total 947000\n",
      "Running for data till position 295464 from total 947000\n",
      "Running for data till position 297358 from total 947000\n",
      "Running for data till position 299252 from total 947000\n",
      "Running for data till position 301146 from total 947000\n",
      "Running for data till position 303040 from total 947000\n",
      "Running for data till position 304934 from total 947000\n",
      "Running for data till position 306828 from total 947000\n",
      "Running for data till position 308722 from total 947000\n",
      "Running for data till position 310616 from total 947000\n",
      "Running for data till position 312510 from total 947000\n",
      "Running for data till position 314404 from total 947000\n",
      "Running for data till position 316298 from total 947000\n",
      "Running for data till position 318192 from total 947000\n",
      "Running for data till position 320086 from total 947000\n",
      "Running for data till position 321980 from total 947000\n",
      "Running for data till position 323874 from total 947000\n",
      "Running for data till position 325768 from total 947000\n",
      "Running for data till position 327662 from total 947000\n",
      "Running for data till position 329556 from total 947000\n",
      "Running for data till position 331450 from total 947000\n",
      "Running for data till position 333344 from total 947000\n",
      "Running for data till position 335238 from total 947000\n",
      "Running for data till position 337132 from total 947000\n",
      "Running for data till position 339026 from total 947000\n",
      "Running for data till position 340920 from total 947000\n",
      "Running for data till position 342814 from total 947000\n",
      "Running for data till position 344708 from total 947000\n",
      "Running for data till position 346602 from total 947000\n",
      "Running for data till position 348496 from total 947000\n",
      "Running for data till position 350390 from total 947000\n",
      "Running for data till position 352284 from total 947000\n",
      "Running for data till position 354178 from total 947000\n",
      "Running for data till position 356072 from total 947000\n",
      "Running for data till position 357966 from total 947000\n",
      "Running for data till position 359860 from total 947000\n",
      "Running for data till position 361754 from total 947000\n",
      "Running for data till position 363648 from total 947000\n",
      "Running for data till position 365542 from total 947000\n",
      "Running for data till position 367436 from total 947000\n",
      "Running for data till position 369330 from total 947000\n",
      "Running for data till position 371224 from total 947000\n",
      "Running for data till position 373118 from total 947000\n",
      "Running for data till position 375012 from total 947000\n",
      "Running for data till position 376906 from total 947000\n",
      "Running for data till position 378800 from total 947000\n",
      "Running for data till position 380694 from total 947000\n",
      "Running for data till position 382588 from total 947000\n",
      "Running for data till position 384482 from total 947000\n",
      "Running for data till position 386376 from total 947000\n",
      "Running for data till position 388270 from total 947000\n",
      "Running for data till position 390164 from total 947000\n",
      "Running for data till position 392058 from total 947000\n",
      "Running for data till position 393952 from total 947000\n",
      "Running for data till position 395846 from total 947000\n",
      "Running for data till position 397740 from total 947000\n",
      "Running for data till position 399634 from total 947000\n",
      "Running for data till position 401528 from total 947000\n",
      "Running for data till position 403422 from total 947000\n",
      "Running for data till position 405316 from total 947000\n",
      "Running for data till position 407210 from total 947000\n",
      "Running for data till position 409104 from total 947000\n",
      "Running for data till position 410998 from total 947000\n",
      "Running for data till position 412892 from total 947000\n",
      "Running for data till position 414786 from total 947000\n",
      "Running for data till position 416680 from total 947000\n",
      "Running for data till position 418574 from total 947000\n",
      "Running for data till position 420468 from total 947000\n",
      "Running for data till position 422362 from total 947000\n",
      "Running for data till position 424256 from total 947000\n",
      "Running for data till position 426150 from total 947000\n",
      "Running for data till position 428044 from total 947000\n",
      "Running for data till position 429938 from total 947000\n",
      "Running for data till position 431832 from total 947000\n",
      "Running for data till position 433726 from total 947000\n",
      "Running for data till position 435620 from total 947000\n",
      "Running for data till position 437514 from total 947000\n",
      "Running for data till position 439408 from total 947000\n",
      "Running for data till position 441302 from total 947000\n",
      "Running for data till position 443196 from total 947000\n",
      "Running for data till position 445090 from total 947000\n",
      "Running for data till position 446984 from total 947000\n",
      "Running for data till position 448878 from total 947000\n",
      "Running for data till position 450772 from total 947000\n",
      "Running for data till position 452666 from total 947000\n",
      "Running for data till position 454560 from total 947000\n",
      "Running for data till position 456454 from total 947000\n",
      "Running for data till position 458348 from total 947000\n",
      "Running for data till position 460242 from total 947000\n",
      "Running for data till position 462136 from total 947000\n",
      "Running for data till position 464030 from total 947000\n",
      "Running for data till position 465924 from total 947000\n",
      "Running for data till position 467818 from total 947000\n",
      "Running for data till position 469712 from total 947000\n",
      "Running for data till position 471606 from total 947000\n",
      "Running for data till position 473500 from total 947000\n",
      "Running for data till position 475394 from total 947000\n",
      "Running for data till position 477288 from total 947000\n",
      "Running for data till position 479182 from total 947000\n",
      "Running for data till position 481076 from total 947000\n",
      "Running for data till position 482970 from total 947000\n",
      "Running for data till position 484864 from total 947000\n",
      "Running for data till position 486758 from total 947000\n",
      "Running for data till position 488652 from total 947000\n",
      "Running for data till position 490546 from total 947000\n",
      "Running for data till position 492440 from total 947000\n",
      "Running for data till position 494334 from total 947000\n",
      "Running for data till position 496228 from total 947000\n",
      "Running for data till position 498122 from total 947000\n",
      "Running for data till position 500016 from total 947000\n",
      "Running for data till position 501910 from total 947000\n",
      "Running for data till position 503804 from total 947000\n",
      "Running for data till position 505698 from total 947000\n",
      "Running for data till position 507592 from total 947000\n",
      "Running for data till position 509486 from total 947000\n",
      "Running for data till position 511380 from total 947000\n",
      "Running for data till position 513274 from total 947000\n",
      "Running for data till position 515168 from total 947000\n",
      "Running for data till position 517062 from total 947000\n",
      "Running for data till position 518956 from total 947000\n",
      "Running for data till position 520850 from total 947000\n",
      "Running for data till position 522744 from total 947000\n",
      "Running for data till position 524638 from total 947000\n",
      "Running for data till position 526532 from total 947000\n",
      "Running for data till position 528426 from total 947000\n",
      "Running for data till position 530320 from total 947000\n",
      "Running for data till position 532214 from total 947000\n",
      "Running for data till position 534108 from total 947000\n",
      "Running for data till position 536002 from total 947000\n",
      "Running for data till position 537896 from total 947000\n",
      "Running for data till position 539790 from total 947000\n",
      "Running for data till position 541684 from total 947000\n",
      "Running for data till position 543578 from total 947000\n",
      "Running for data till position 545472 from total 947000\n",
      "Running for data till position 547366 from total 947000\n",
      "Running for data till position 549260 from total 947000\n",
      "Running for data till position 551154 from total 947000\n",
      "Running for data till position 553048 from total 947000\n",
      "Running for data till position 554942 from total 947000\n",
      "Running for data till position 556836 from total 947000\n",
      "Running for data till position 558730 from total 947000\n"
     ]
    },
    {
     "name": "stdout",
     "output_type": "stream",
     "text": [
      "Running for data till position 560624 from total 947000\n",
      "Running for data till position 562518 from total 947000\n",
      "Running for data till position 564412 from total 947000\n",
      "Running for data till position 566306 from total 947000\n",
      "Running for data till position 568200 from total 947000\n",
      "Running for data till position 570094 from total 947000\n",
      "Running for data till position 571988 from total 947000\n",
      "Running for data till position 573882 from total 947000\n",
      "Running for data till position 575776 from total 947000\n",
      "Running for data till position 577670 from total 947000\n",
      "Running for data till position 579564 from total 947000\n",
      "Running for data till position 581458 from total 947000\n",
      "Running for data till position 583352 from total 947000\n",
      "Running for data till position 585246 from total 947000\n",
      "Running for data till position 587140 from total 947000\n",
      "Running for data till position 589034 from total 947000\n",
      "Running for data till position 590928 from total 947000\n",
      "Running for data till position 592822 from total 947000\n",
      "Running for data till position 594716 from total 947000\n",
      "Running for data till position 596610 from total 947000\n",
      "Running for data till position 598504 from total 947000\n",
      "Running for data till position 600398 from total 947000\n",
      "Running for data till position 602292 from total 947000\n",
      "Running for data till position 604186 from total 947000\n",
      "Running for data till position 606080 from total 947000\n",
      "Running for data till position 607974 from total 947000\n",
      "Running for data till position 609868 from total 947000\n",
      "Running for data till position 611762 from total 947000\n",
      "Running for data till position 613656 from total 947000\n",
      "Running for data till position 615550 from total 947000\n",
      "Running for data till position 617444 from total 947000\n",
      "Running for data till position 619338 from total 947000\n",
      "Running for data till position 621232 from total 947000\n",
      "Running for data till position 623126 from total 947000\n",
      "Running for data till position 625020 from total 947000\n",
      "Running for data till position 626914 from total 947000\n",
      "Running for data till position 628808 from total 947000\n",
      "Running for data till position 630702 from total 947000\n",
      "Running for data till position 632596 from total 947000\n",
      "Running for data till position 634490 from total 947000\n",
      "Running for data till position 636384 from total 947000\n",
      "Running for data till position 638278 from total 947000\n",
      "Running for data till position 640172 from total 947000\n",
      "Running for data till position 642066 from total 947000\n",
      "Running for data till position 643960 from total 947000\n",
      "Running for data till position 645854 from total 947000\n",
      "Running for data till position 647748 from total 947000\n",
      "Running for data till position 649642 from total 947000\n",
      "Running for data till position 651536 from total 947000\n",
      "Running for data till position 653430 from total 947000\n",
      "Running for data till position 655324 from total 947000\n",
      "Running for data till position 657218 from total 947000\n",
      "Running for data till position 659112 from total 947000\n",
      "Running for data till position 661006 from total 947000\n",
      "Running for data till position 662900 from total 947000\n",
      "Running for data till position 664794 from total 947000\n",
      "Running for data till position 666688 from total 947000\n",
      "Running for data till position 668582 from total 947000\n",
      "Running for data till position 670476 from total 947000\n",
      "Running for data till position 672370 from total 947000\n",
      "Running for data till position 674264 from total 947000\n",
      "Running for data till position 676158 from total 947000\n",
      "Running for data till position 678052 from total 947000\n",
      "Running for data till position 679946 from total 947000\n",
      "Running for data till position 681840 from total 947000\n",
      "Running for data till position 683734 from total 947000\n",
      "Running for data till position 685628 from total 947000\n",
      "Running for data till position 687522 from total 947000\n",
      "Running for data till position 689416 from total 947000\n",
      "Running for data till position 691310 from total 947000\n",
      "Running for data till position 693204 from total 947000\n",
      "Running for data till position 695098 from total 947000\n",
      "Running for data till position 696992 from total 947000\n",
      "Running for data till position 698886 from total 947000\n",
      "Running for data till position 700780 from total 947000\n",
      "Running for data till position 702674 from total 947000\n",
      "Running for data till position 704568 from total 947000\n",
      "Running for data till position 706462 from total 947000\n",
      "Running for data till position 708356 from total 947000\n",
      "Running for data till position 710250 from total 947000\n",
      "Running for data till position 712144 from total 947000\n",
      "Running for data till position 714038 from total 947000\n",
      "Running for data till position 715932 from total 947000\n",
      "Running for data till position 717826 from total 947000\n",
      "Running for data till position 719720 from total 947000\n",
      "Running for data till position 721614 from total 947000\n",
      "Running for data till position 723508 from total 947000\n",
      "Running for data till position 725402 from total 947000\n",
      "Running for data till position 727296 from total 947000\n",
      "Running for data till position 729190 from total 947000\n",
      "Running for data till position 731084 from total 947000\n",
      "Running for data till position 732978 from total 947000\n",
      "Running for data till position 734872 from total 947000\n",
      "Running for data till position 736766 from total 947000\n",
      "Running for data till position 738660 from total 947000\n",
      "Running for data till position 740554 from total 947000\n",
      "Running for data till position 742448 from total 947000\n",
      "Running for data till position 744342 from total 947000\n",
      "Running for data till position 746236 from total 947000\n",
      "Running for data till position 748130 from total 947000\n",
      "Running for data till position 750024 from total 947000\n",
      "Running for data till position 751918 from total 947000\n",
      "Running for data till position 753812 from total 947000\n",
      "Running for data till position 755706 from total 947000\n",
      "Running for data till position 757600 from total 947000\n",
      "Running for data till position 759494 from total 947000\n",
      "Running for data till position 761388 from total 947000\n",
      "Running for data till position 763282 from total 947000\n",
      "Running for data till position 765176 from total 947000\n",
      "Running for data till position 767070 from total 947000\n",
      "Running for data till position 768964 from total 947000\n",
      "Running for data till position 770858 from total 947000\n",
      "Running for data till position 772752 from total 947000\n",
      "Running for data till position 774646 from total 947000\n",
      "Running for data till position 776540 from total 947000\n",
      "Running for data till position 778434 from total 947000\n",
      "Running for data till position 780328 from total 947000\n",
      "Running for data till position 782222 from total 947000\n",
      "Running for data till position 784116 from total 947000\n",
      "Running for data till position 786010 from total 947000\n",
      "Running for data till position 787904 from total 947000\n",
      "Running for data till position 789798 from total 947000\n",
      "Running for data till position 791692 from total 947000\n",
      "Running for data till position 793586 from total 947000\n",
      "Running for data till position 795480 from total 947000\n",
      "Running for data till position 797374 from total 947000\n",
      "Running for data till position 799268 from total 947000\n",
      "Running for data till position 801162 from total 947000\n",
      "Running for data till position 803056 from total 947000\n",
      "Running for data till position 804950 from total 947000\n",
      "Running for data till position 806844 from total 947000\n",
      "Running for data till position 808738 from total 947000\n",
      "Running for data till position 810632 from total 947000\n",
      "Running for data till position 812526 from total 947000\n",
      "Running for data till position 814420 from total 947000\n",
      "Running for data till position 816314 from total 947000\n",
      "Running for data till position 818208 from total 947000\n",
      "Running for data till position 820102 from total 947000\n",
      "Running for data till position 821996 from total 947000\n",
      "Running for data till position 823890 from total 947000\n",
      "Running for data till position 825784 from total 947000\n",
      "Running for data till position 827678 from total 947000\n",
      "Running for data till position 829572 from total 947000\n",
      "Running for data till position 831466 from total 947000\n",
      "Running for data till position 833360 from total 947000\n",
      "Running for data till position 835254 from total 947000\n",
      "Running for data till position 837148 from total 947000\n"
     ]
    },
    {
     "name": "stdout",
     "output_type": "stream",
     "text": [
      "Running for data till position 839042 from total 947000\n",
      "Running for data till position 840936 from total 947000\n",
      "Running for data till position 842830 from total 947000\n",
      "Running for data till position 844724 from total 947000\n",
      "Running for data till position 846618 from total 947000\n",
      "Running for data till position 848512 from total 947000\n",
      "Running for data till position 850406 from total 947000\n",
      "Running for data till position 852300 from total 947000\n",
      "Running for data till position 854194 from total 947000\n",
      "Running for data till position 856088 from total 947000\n",
      "Running for data till position 857982 from total 947000\n",
      "Running for data till position 859876 from total 947000\n",
      "Running for data till position 861770 from total 947000\n",
      "Running for data till position 863664 from total 947000\n",
      "Running for data till position 865558 from total 947000\n",
      "Running for data till position 867452 from total 947000\n",
      "Running for data till position 869346 from total 947000\n",
      "Running for data till position 871240 from total 947000\n",
      "Running for data till position 873134 from total 947000\n",
      "Running for data till position 875028 from total 947000\n",
      "Running for data till position 876922 from total 947000\n",
      "Running for data till position 878816 from total 947000\n",
      "Running for data till position 880710 from total 947000\n",
      "Running for data till position 882604 from total 947000\n",
      "Running for data till position 884498 from total 947000\n",
      "Running for data till position 886392 from total 947000\n",
      "Running for data till position 888286 from total 947000\n",
      "Running for data till position 890180 from total 947000\n",
      "Running for data till position 892074 from total 947000\n",
      "Running for data till position 893968 from total 947000\n",
      "Running for data till position 895862 from total 947000\n",
      "Running for data till position 897756 from total 947000\n",
      "Running for data till position 899650 from total 947000\n",
      "Running for data till position 901544 from total 947000\n",
      "Running for data till position 903438 from total 947000\n",
      "Running for data till position 905332 from total 947000\n",
      "Running for data till position 907226 from total 947000\n",
      "Running for data till position 909120 from total 947000\n",
      "Running for data till position 911014 from total 947000\n",
      "Running for data till position 912908 from total 947000\n",
      "Running for data till position 914802 from total 947000\n",
      "Running for data till position 916696 from total 947000\n",
      "Running for data till position 918590 from total 947000\n",
      "Running for data till position 920484 from total 947000\n",
      "Running for data till position 922378 from total 947000\n",
      "Running for data till position 924272 from total 947000\n",
      "Running for data till position 926166 from total 947000\n",
      "Running for data till position 928060 from total 947000\n",
      "Running for data till position 929954 from total 947000\n",
      "Running for data till position 931848 from total 947000\n",
      "Running for data till position 933742 from total 947000\n",
      "Running for data till position 935636 from total 947000\n",
      "Running for data till position 937530 from total 947000\n",
      "Running for data till position 939424 from total 947000\n",
      "Running for data till position 941318 from total 947000\n",
      "Running for data till position 943212 from total 947000\n",
      "Running for data till position 945106 from total 947000\n",
      "Running for data till position 947000 from total 947000\n",
      "Running clustering algorithm\n"
     ]
    }
   ],
   "source": [
    "data = groupped_data.values[:,[0,1,3]]\n",
    "\n",
    "onlineEM.fit(data)"
   ]
  },
  {
   "cell_type": "code",
   "execution_count": 62,
   "metadata": {},
   "outputs": [
    {
     "data": {
      "text/plain": [
       "['onlineEM_60_500_13_host_specific.pkl']"
      ]
     },
     "execution_count": 62,
     "metadata": {},
     "output_type": "execute_result"
    }
   ],
   "source": [
    "# joblib.dump(onlineEM,'onlineEM_60_500_13_host_specific.pkl')\n",
    "# onlineEM = joblib.load('onlineEM_60_500_13.pkl')"
   ]
  },
  {
   "cell_type": "code",
   "execution_count": 63,
   "metadata": {},
   "outputs": [],
   "source": [
    "from math import log\n",
    "import scipy.stats.distributions\n",
    "\n",
    "\n",
    "def poisson(x, l):\n",
    "    return_value = 1\n",
    "    for x_i, l_i in zip(x, l):\n",
    "        return_value *= scipy.stats.distributions.poisson.pmf(x_i, l_i)\n",
    "    return return_value\n",
    "\n",
    "def calculate_likelihood_em(data, host_specific=False):\n",
    "    # first reset previous point for all hosts for rerun\n",
    "\n",
    "    previous_points = {}\n",
    "    for host in onlineEM.hosts:\n",
    "        previous_points[host] = onlineEM.hosts[host]['hard_previous']\n",
    "\n",
    "    total_likelihood = []\n",
    "    \n",
    "    for point in data:\n",
    "        host = point[-1]\n",
    "\n",
    "        previous_point = previous_points[host]\n",
    "\n",
    "        point_center = onlineEM.closest_centers([point])\n",
    "        closest_center = np.argmax(point_center)\n",
    "\n",
    "        previous_points[host] = closest_center\n",
    "        \n",
    "        if host_specific:\n",
    "            probabilities = onlineEM.hosts[host]['transitiion_matrix'][previous_point]\n",
    "        else:\n",
    "            probabilities = onlineEM.hard_transition_matrix[previous_point]\n",
    "    \n",
    "        participation = probabilities * np.array([poisson(point, lambda_i) for lambda_i in onlineEM.lambdas])\n",
    "        \n",
    "        likelihood = log(np.sum(participation))\n",
    "    \n",
    "        total_likelihood.append(likelihood)\n",
    "\n",
    "    return sum(total_likelihood) / len(total_likelihood)"
   ]
  },
  {
   "cell_type": "code",
   "execution_count": null,
   "metadata": {},
   "outputs": [],
   "source": []
  },
  {
   "cell_type": "code",
   "execution_count": 66,
   "metadata": {},
   "outputs": [
    {
     "name": "stdout",
     "output_type": "stream",
     "text": [
      "-3.90872557826264\n"
     ]
    }
   ],
   "source": [
    "# likelihood_train = calculate_likelihood_em(groupped_data.values[:,[0,1,3]])\n",
    "# print(likelihood_train)\n",
    "\n",
    "likelihood_test = calculate_likelihood_em(groupped_data1.values[:,[0,1,3]])\n",
    "print(likelihood_test)"
   ]
  },
  {
   "cell_type": "code",
   "execution_count": null,
   "metadata": {},
   "outputs": [],
   "source": []
  },
  {
   "cell_type": "code",
   "execution_count": 67,
   "metadata": {},
   "outputs": [
    {
     "name": "stdout",
     "output_type": "stream",
     "text": [
      "-4.694235160457528\n"
     ]
    }
   ],
   "source": [
    "# likelihood_train_host = calculate_likelihood_em(groupped_data.values[:,[0,1,3]], host_specific=True)\n",
    "# print(likelihood_train_host)\n",
    "\n",
    "likelihood_test_host = calculate_likelihood_em(groupped_data1.values[:,[0,1,3]], host_specific=True)\n",
    "print(likelihood_test_host)"
   ]
  },
  {
   "cell_type": "code",
   "execution_count": 68,
   "metadata": {},
   "outputs": [
    {
     "name": "stdout",
     "output_type": "stream",
     "text": [
      "-3.3808095212273885\n"
     ]
    }
   ],
   "source": [
    "likelihood_train_host = calculate_likelihood_em(groupped_data.values[:,[0,1,3]], host_specific=True)\n",
    "print(likelihood_train_host)"
   ]
  },
  {
   "cell_type": "code",
   "execution_count": null,
   "metadata": {},
   "outputs": [],
   "source": []
  },
  {
   "cell_type": "code",
   "execution_count": null,
   "metadata": {},
   "outputs": [],
   "source": []
  }
 ],
 "metadata": {
  "kernelspec": {
   "display_name": "Python 3",
   "language": "python",
   "name": "python3"
  },
  "language_info": {
   "codemirror_mode": {
    "name": "ipython",
    "version": 3
   },
   "file_extension": ".py",
   "mimetype": "text/x-python",
   "name": "python",
   "nbconvert_exporter": "python",
   "pygments_lexer": "ipython3",
   "version": "3.6.0"
  }
 },
 "nbformat": 4,
 "nbformat_minor": 2
}
