{
 "cells": [
  {
   "cell_type": "markdown",
   "metadata": {},
   "source": [
    "### We will compare different methods"
   ]
  },
  {
   "cell_type": "code",
   "execution_count": 1,
   "metadata": {},
   "outputs": [
    {
     "name": "stderr",
     "output_type": "stream",
     "text": [
      "c:\\users\\sotiris\\appdata\\local\\programs\\python\\python36\\lib\\site-packages\\ipykernel_launcher.py:17: SettingWithCopyWarning: \n",
      "A value is trying to be set on a copy of a slice from a DataFrame\n",
      "\n",
      "See the caveats in the documentation: http://pandas.pydata.org/pandas-docs/stable/indexing.html#indexing-view-versus-copy\n"
     ]
    },
    {
     "data": {
      "text/html": [
       "<div>\n",
       "<style scoped>\n",
       "    .dataframe tbody tr th:only-of-type {\n",
       "        vertical-align: middle;\n",
       "    }\n",
       "\n",
       "    .dataframe tbody tr th {\n",
       "        vertical-align: top;\n",
       "    }\n",
       "\n",
       "    .dataframe thead th {\n",
       "        text-align: right;\n",
       "    }\n",
       "</style>\n",
       "<table border=\"1\" class=\"dataframe\">\n",
       "  <thead>\n",
       "    <tr style=\"text-align: right;\">\n",
       "      <th></th>\n",
       "      <th>duration</th>\n",
       "      <th>source computer</th>\n",
       "      <th>source port</th>\n",
       "      <th>destination computer</th>\n",
       "      <th>destination port</th>\n",
       "      <th>protocol</th>\n",
       "      <th>packet count</th>\n",
       "      <th>byte count</th>\n",
       "    </tr>\n",
       "    <tr>\n",
       "      <th>time</th>\n",
       "      <th></th>\n",
       "      <th></th>\n",
       "      <th></th>\n",
       "      <th></th>\n",
       "      <th></th>\n",
       "      <th></th>\n",
       "      <th></th>\n",
       "      <th></th>\n",
       "    </tr>\n",
       "  </thead>\n",
       "  <tbody>\n",
       "    <tr>\n",
       "      <th>1</th>\n",
       "      <td>0</td>\n",
       "      <td>C1065</td>\n",
       "      <td>389</td>\n",
       "      <td>C3799</td>\n",
       "      <td>N10451</td>\n",
       "      <td>6</td>\n",
       "      <td>10</td>\n",
       "      <td>5323</td>\n",
       "    </tr>\n",
       "    <tr>\n",
       "      <th>1</th>\n",
       "      <td>0</td>\n",
       "      <td>C1423</td>\n",
       "      <td>N1136</td>\n",
       "      <td>C1707</td>\n",
       "      <td>N1</td>\n",
       "      <td>6</td>\n",
       "      <td>5</td>\n",
       "      <td>847</td>\n",
       "    </tr>\n",
       "    <tr>\n",
       "      <th>1</th>\n",
       "      <td>0</td>\n",
       "      <td>C1423</td>\n",
       "      <td>N1142</td>\n",
       "      <td>C1707</td>\n",
       "      <td>N1</td>\n",
       "      <td>6</td>\n",
       "      <td>5</td>\n",
       "      <td>847</td>\n",
       "    </tr>\n",
       "    <tr>\n",
       "      <th>1</th>\n",
       "      <td>0</td>\n",
       "      <td>C14909</td>\n",
       "      <td>N8191</td>\n",
       "      <td>C5720</td>\n",
       "      <td>2049</td>\n",
       "      <td>6</td>\n",
       "      <td>1</td>\n",
       "      <td>52</td>\n",
       "    </tr>\n",
       "    <tr>\n",
       "      <th>1</th>\n",
       "      <td>0</td>\n",
       "      <td>C14909</td>\n",
       "      <td>N8192</td>\n",
       "      <td>C5720</td>\n",
       "      <td>2049</td>\n",
       "      <td>6</td>\n",
       "      <td>1</td>\n",
       "      <td>52</td>\n",
       "    </tr>\n",
       "  </tbody>\n",
       "</table>\n",
       "</div>"
      ],
      "text/plain": [
       "      duration source computer source port destination computer  \\\n",
       "time                                                              \n",
       "1            0           C1065         389                C3799   \n",
       "1            0           C1423       N1136                C1707   \n",
       "1            0           C1423       N1142                C1707   \n",
       "1            0          C14909       N8191                C5720   \n",
       "1            0          C14909       N8192                C5720   \n",
       "\n",
       "     destination port  protocol  packet count  byte count  \n",
       "time                                                       \n",
       "1              N10451         6            10        5323  \n",
       "1                  N1         6             5         847  \n",
       "1                  N1         6             5         847  \n",
       "1                2049         6             1          52  \n",
       "1                2049         6             1          52  "
      ]
     },
     "execution_count": 1,
     "metadata": {},
     "output_type": "execute_result"
    }
   ],
   "source": [
    "import pandas as pd\n",
    "import numpy as np\n",
    "%matplotlib inline\n",
    "\n",
    "time_epoch = 60\n",
    "epochs_per_batch = 100\n",
    "\n",
    "# hard coded nrows\n",
    "df_all = pd.read_csv('../../../diploma/multi-source-syber-security-events/flows.txt', header=None, nrows=500000)\n",
    "\n",
    "df_all.columns = ['time', 'duration', 'source computer', 'source port', 'destination computer', \n",
    "              'destination port', 'protocol', 'packet count', 'byte count']\n",
    "\n",
    "df = df_all[df_all['time'] <= epochs_per_batch * time_epoch]\n",
    "\n",
    "df.index = df['time']\n",
    "df.drop(columns=['time'],inplace=True)\n",
    "df.head()"
   ]
  },
  {
   "cell_type": "code",
   "execution_count": 2,
   "metadata": {},
   "outputs": [],
   "source": [
    "# get all the host in the buckets we are interested in \n",
    "\n",
    "hosts = np.array(list(set(df_all[df_all['time'] <= epochs_per_batch * time_epoch * 2]['source computer'].values))) "
   ]
  },
  {
   "cell_type": "code",
   "execution_count": 3,
   "metadata": {},
   "outputs": [],
   "source": [
    "from helper import group_scale_data, group_scale_data_batch\n",
    "\n",
    "groupped_data, hosts, parameters = group_scale_data(df, size_of_bin_seconds=time_epoch,\n",
    "                                                    doScale=True, scaler='log', hosts=hosts)"
   ]
  },
  {
   "cell_type": "code",
   "execution_count": 4,
   "metadata": {},
   "outputs": [
    {
     "name": "stdout",
     "output_type": "stream",
     "text": [
      "Total number of hosts: 1912\n",
      "Total datapoints: 191200\n"
     ]
    }
   ],
   "source": [
    "print('Total number of hosts:', len(hosts))\n",
    "print('Total datapoints:', len(groupped_data))"
   ]
  },
  {
   "cell_type": "markdown",
   "metadata": {},
   "source": [
    "# First method used will be a simple kmeans on the whole dataset \n",
    "\n",
    "Lets denote N the number of hosts, M the number of epochs. This will give us an NxM dataset with 2 points vector\n",
    "\n",
    "We simply cluster this points together "
   ]
  },
  {
   "cell_type": "code",
   "execution_count": 5,
   "metadata": {},
   "outputs": [],
   "source": [
    "from sklearn.cluster import KMeans\n",
    "import numpy as np\n",
    "\n",
    "number_of_clusters = 15\n",
    "\n",
    "all_raw_data = groupped_data.values[:,:2]\n",
    "\n",
    "kmeans_whole_data = KMeans(n_clusters=number_of_clusters, random_state=0).fit(all_raw_data)"
   ]
  },
  {
   "cell_type": "code",
   "execution_count": 6,
   "metadata": {},
   "outputs": [
    {
     "data": {
      "image/png": "[encoded data removed]",
      "text/plain": [
       "<matplotlib.figure.Figure at 0x2105738f710>"
      ]
     },
     "metadata": {},
     "output_type": "display_data"
    }
   ],
   "source": [
    "from plots import plot_points\n",
    "\n",
    "# Hack in order to display the plot\n",
    "kmeans_whole_data.lambdas = kmeans_whole_data.cluster_centers_\n",
    "\n",
    "num_clusters = len(kmeans_whole_data.cluster_centers_)\n",
    "kmeans_whole_data.gammas = [1/num_clusters] * num_clusters\n",
    "\n",
    "plot_points(all_raw_data, kmeans_whole_data)"
   ]
  },
  {
   "cell_type": "markdown",
   "metadata": {},
   "source": [
    "### Next we will use an average on each host\n",
    "\n",
    "That will generate N vectors of 2 points for the 2 features "
   ]
  },
  {
   "cell_type": "code",
   "execution_count": 7,
   "metadata": {},
   "outputs": [
    {
     "data": {
      "text/html": [
       "<div>\n",
       "<style scoped>\n",
       "    .dataframe tbody tr th:only-of-type {\n",
       "        vertical-align: middle;\n",
       "    }\n",
       "\n",
       "    .dataframe tbody tr th {\n",
       "        vertical-align: top;\n",
       "    }\n",
       "\n",
       "    .dataframe thead th {\n",
       "        text-align: right;\n",
       "    }\n",
       "</style>\n",
       "<table border=\"1\" class=\"dataframe\">\n",
       "  <thead>\n",
       "    <tr style=\"text-align: right;\">\n",
       "      <th></th>\n",
       "      <th>number of flows</th>\n",
       "      <th>mean(byte count)</th>\n",
       "      <th>epoch</th>\n",
       "    </tr>\n",
       "    <tr>\n",
       "      <th>source computer</th>\n",
       "      <th></th>\n",
       "      <th></th>\n",
       "      <th></th>\n",
       "    </tr>\n",
       "  </thead>\n",
       "  <tbody>\n",
       "    <tr>\n",
       "      <th>C10</th>\n",
       "      <td>1.45</td>\n",
       "      <td>2.10</td>\n",
       "      <td>50.5</td>\n",
       "    </tr>\n",
       "    <tr>\n",
       "      <th>C100</th>\n",
       "      <td>7.03</td>\n",
       "      <td>12.66</td>\n",
       "      <td>50.5</td>\n",
       "    </tr>\n",
       "    <tr>\n",
       "      <th>C1000</th>\n",
       "      <td>2.62</td>\n",
       "      <td>6.84</td>\n",
       "      <td>50.5</td>\n",
       "    </tr>\n",
       "    <tr>\n",
       "      <th>C1001</th>\n",
       "      <td>7.83</td>\n",
       "      <td>12.30</td>\n",
       "      <td>50.5</td>\n",
       "    </tr>\n",
       "    <tr>\n",
       "      <th>C1002</th>\n",
       "      <td>4.24</td>\n",
       "      <td>8.92</td>\n",
       "      <td>50.5</td>\n",
       "    </tr>\n",
       "  </tbody>\n",
       "</table>\n",
       "</div>"
      ],
      "text/plain": [
       "                 number of flows  mean(byte count)  epoch\n",
       "source computer                                          \n",
       "C10                         1.45              2.10   50.5\n",
       "C100                        7.03             12.66   50.5\n",
       "C1000                       2.62              6.84   50.5\n",
       "C1001                       7.83             12.30   50.5\n",
       "C1002                       4.24              8.92   50.5"
      ]
     },
     "execution_count": 7,
     "metadata": {},
     "output_type": "execute_result"
    }
   ],
   "source": [
    "groupped_data.groupby('source computer').mean().head()"
   ]
  },
  {
   "cell_type": "markdown",
   "metadata": {},
   "source": [
    "### Lets see the average for each host with and without the zeros\n",
    "\n",
    "Most hosts have almost zero traffic by average"
   ]
  },
  {
   "cell_type": "code",
   "execution_count": 8,
   "metadata": {},
   "outputs": [
    {
     "data": {
      "image/png": "[encoded data removed]",
      "text/plain": [
       "<matplotlib.figure.Figure at 0x21056d00ba8>"
      ]
     },
     "metadata": {},
     "output_type": "display_data"
    }
   ],
   "source": [
    "import matplotlib.pyplot as plt\n",
    "\n",
    "host_raw_data = groupped_data.groupby('source computer').mean().values[:,:2]\n",
    "host_raw_data_no_zeros = groupped_data[groupped_data['number of flows'] > 1].groupby('source computer').mean().values[:,:2]\n",
    "\n",
    "plt.subplot(1,2,1)\n",
    "plt.title('Host means with zeros')\n",
    "plt.ylabel('number of bytes')\n",
    "plt.xlabel('number of flows')\n",
    "plt.scatter(host_raw_data[:,0], host_raw_data[:,1])\n",
    "\n",
    "plt.subplot(1,2,2)\n",
    "plt.title('Host means without zeros')\n",
    "plt.ylabel('number of bytes')\n",
    "plt.xlabel('number of flows')\n",
    "plt.scatter(host_raw_data_no_zeros[:,0], host_raw_data_no_zeros[:,1])\n",
    "plt.show()"
   ]
  },
  {
   "cell_type": "code",
   "execution_count": null,
   "metadata": {},
   "outputs": [],
   "source": []
  },
  {
   "cell_type": "code",
   "execution_count": 9,
   "metadata": {},
   "outputs": [],
   "source": [
    "from sklearn.cluster import KMeans\n",
    "import numpy as np\n",
    "\n",
    "number_of_clusters = 15\n",
    "\n",
    "host_raw_data = groupped_data.groupby('source computer').mean().values[:,:2]\n",
    "\n",
    "kmeans_host_data = KMeans(n_clusters=number_of_clusters, random_state=0).fit(host_raw_data)"
   ]
  },
  {
   "cell_type": "code",
   "execution_count": 10,
   "metadata": {},
   "outputs": [
    {
     "data": {
      "image/png": "[encoded data removed]",
      "text/plain": [
       "<matplotlib.figure.Figure at 0x21044b933c8>"
      ]
     },
     "metadata": {},
     "output_type": "display_data"
    }
   ],
   "source": [
    "kmeans_host_data.lambdas = kmeans_host_data.cluster_centers_\n",
    "\n",
    "num_clusters = len(kmeans_host_data.cluster_centers_)\n",
    "kmeans_host_data.gammas = [1/num_clusters] * num_clusters\n",
    "\n",
    "plot_points(host_raw_data, kmeans_host_data)"
   ]
  },
  {
   "cell_type": "markdown",
   "metadata": {},
   "source": [
    "### Next we will use an average on each epoch\n",
    "That will generate M vectors of 2 points for the 2 features"
   ]
  },
  {
   "cell_type": "code",
   "execution_count": 11,
   "metadata": {},
   "outputs": [
    {
     "data": {
      "text/html": [
       "<div>\n",
       "<style scoped>\n",
       "    .dataframe tbody tr th:only-of-type {\n",
       "        vertical-align: middle;\n",
       "    }\n",
       "\n",
       "    .dataframe tbody tr th {\n",
       "        vertical-align: top;\n",
       "    }\n",
       "\n",
       "    .dataframe thead th {\n",
       "        text-align: right;\n",
       "    }\n",
       "</style>\n",
       "<table border=\"1\" class=\"dataframe\">\n",
       "  <thead>\n",
       "    <tr style=\"text-align: right;\">\n",
       "      <th></th>\n",
       "      <th>number of flows</th>\n",
       "      <th>mean(byte count)</th>\n",
       "    </tr>\n",
       "    <tr>\n",
       "      <th>epoch</th>\n",
       "      <th></th>\n",
       "      <th></th>\n",
       "    </tr>\n",
       "  </thead>\n",
       "  <tbody>\n",
       "    <tr>\n",
       "      <th>1</th>\n",
       "      <td>3.653243</td>\n",
       "      <td>7.591004</td>\n",
       "    </tr>\n",
       "    <tr>\n",
       "      <th>2</th>\n",
       "      <td>5.277720</td>\n",
       "      <td>10.564331</td>\n",
       "    </tr>\n",
       "    <tr>\n",
       "      <th>3</th>\n",
       "      <td>3.817992</td>\n",
       "      <td>7.851464</td>\n",
       "    </tr>\n",
       "    <tr>\n",
       "      <th>4</th>\n",
       "      <td>3.730649</td>\n",
       "      <td>7.799163</td>\n",
       "    </tr>\n",
       "    <tr>\n",
       "      <th>5</th>\n",
       "      <td>5.252092</td>\n",
       "      <td>11.057531</td>\n",
       "    </tr>\n",
       "  </tbody>\n",
       "</table>\n",
       "</div>"
      ],
      "text/plain": [
       "       number of flows  mean(byte count)\n",
       "epoch                                   \n",
       "1             3.653243          7.591004\n",
       "2             5.277720         10.564331\n",
       "3             3.817992          7.851464\n",
       "4             3.730649          7.799163\n",
       "5             5.252092         11.057531"
      ]
     },
     "execution_count": 11,
     "metadata": {},
     "output_type": "execute_result"
    }
   ],
   "source": [
    "groupped_data.groupby('epoch').mean().head()"
   ]
  },
  {
   "cell_type": "markdown",
   "metadata": {},
   "source": [
    "### Lets see the average for each epoch with and without the zeros\n",
    "\n",
    "if we ignore zeros averages are much closer together so the epoch means do not really change"
   ]
  },
  {
   "cell_type": "code",
   "execution_count": 12,
   "metadata": {},
   "outputs": [
    {
     "data": {
      "image/png": "[encoded data removed]",
      "text/plain": [
       "<matplotlib.figure.Figure at 0x21044b93b70>"
      ]
     },
     "metadata": {},
     "output_type": "display_data"
    }
   ],
   "source": [
    "import matplotlib.pyplot as plt\n",
    "\n",
    "epoch_raw_data = groupped_data.groupby('epoch').mean().values[:,:2]\n",
    "epoch_raw_data_no_zeros = groupped_data[groupped_data['number of flows'] > 1].groupby('epoch').mean().values[:,:2]\n",
    "\n",
    "plt.subplot(1,2,1)\n",
    "plt.title('Epoch means with zeros')\n",
    "plt.ylabel('number of bytes')\n",
    "plt.xlabel('number of flows')\n",
    "plt.scatter(epoch_raw_data[:,0], epoch_raw_data[:,1])\n",
    "\n",
    "plt.subplot(1,2,2)\n",
    "plt.title('Epoch means without zeros')\n",
    "plt.ylabel('number of bytes')\n",
    "plt.xlabel('number of flows')\n",
    "plt.scatter(epoch_raw_data_no_zeros[:,0], epoch_raw_data_no_zeros[:,1])\n",
    "plt.show()"
   ]
  },
  {
   "cell_type": "code",
   "execution_count": null,
   "metadata": {},
   "outputs": [],
   "source": []
  },
  {
   "cell_type": "code",
   "execution_count": null,
   "metadata": {},
   "outputs": [],
   "source": []
  },
  {
   "cell_type": "code",
   "execution_count": null,
   "metadata": {},
   "outputs": [],
   "source": []
  },
  {
   "cell_type": "code",
   "execution_count": 13,
   "metadata": {},
   "outputs": [],
   "source": [
    "from sklearn.cluster import KMeans\n",
    "import numpy as np\n",
    "\n",
    "number_of_clusters = 15\n",
    "\n",
    "epoch_raw_data = groupped_data.groupby('epoch').mean().values[:,:2]\n",
    "\n",
    "kmeans_epoch_data = KMeans(n_clusters=number_of_clusters, random_state=0).fit(epoch_raw_data)"
   ]
  },
  {
   "cell_type": "code",
   "execution_count": 14,
   "metadata": {},
   "outputs": [
    {
     "data": {
      "image/png": "[encoded data removed]",
      "text/plain": [
       "<matplotlib.figure.Figure at 0x2106fd6bf60>"
      ]
     },
     "metadata": {},
     "output_type": "display_data"
    }
   ],
   "source": [
    "kmeans_epoch_data.lambdas = kmeans_epoch_data.cluster_centers_\n",
    "\n",
    "num_clusters = len(kmeans_epoch_data.cluster_centers_)\n",
    "kmeans_epoch_data.gammas = [1/num_clusters] * num_clusters\n",
    "\n",
    "plot_points(epoch_raw_data, kmeans_epoch_data)"
   ]
  },
  {
   "cell_type": "markdown",
   "metadata": {},
   "source": [
    "### Now we will test how well they can score new datapoints"
   ]
  },
  {
   "cell_type": "code",
   "execution_count": 15,
   "metadata": {},
   "outputs": [
    {
     "name": "stderr",
     "output_type": "stream",
     "text": [
      "c:\\users\\sotiris\\appdata\\local\\programs\\python\\python36\\lib\\site-packages\\ipykernel_launcher.py:10: SettingWithCopyWarning: \n",
      "A value is trying to be set on a copy of a slice from a DataFrame\n",
      "\n",
      "See the caveats in the documentation: http://pandas.pydata.org/pandas-docs/stable/indexing.html#indexing-view-versus-copy\n",
      "  # Remove the CWD from sys.path while we load stuff.\n"
     ]
    },
    {
     "data": {
      "text/html": [
       "<div>\n",
       "<style scoped>\n",
       "    .dataframe tbody tr th:only-of-type {\n",
       "        vertical-align: middle;\n",
       "    }\n",
       "\n",
       "    .dataframe tbody tr th {\n",
       "        vertical-align: top;\n",
       "    }\n",
       "\n",
       "    .dataframe thead th {\n",
       "        text-align: right;\n",
       "    }\n",
       "</style>\n",
       "<table border=\"1\" class=\"dataframe\">\n",
       "  <thead>\n",
       "    <tr style=\"text-align: right;\">\n",
       "      <th></th>\n",
       "      <th>duration</th>\n",
       "      <th>source computer</th>\n",
       "      <th>source port</th>\n",
       "      <th>destination computer</th>\n",
       "      <th>destination port</th>\n",
       "      <th>protocol</th>\n",
       "      <th>packet count</th>\n",
       "      <th>byte count</th>\n",
       "    </tr>\n",
       "    <tr>\n",
       "      <th>time</th>\n",
       "      <th></th>\n",
       "      <th></th>\n",
       "      <th></th>\n",
       "      <th></th>\n",
       "      <th></th>\n",
       "      <th></th>\n",
       "      <th></th>\n",
       "      <th></th>\n",
       "    </tr>\n",
       "  </thead>\n",
       "  <tbody>\n",
       "    <tr>\n",
       "      <th>6001</th>\n",
       "      <td>0</td>\n",
       "      <td>C1514</td>\n",
       "      <td>123</td>\n",
       "      <td>C625</td>\n",
       "      <td>123</td>\n",
       "      <td>17</td>\n",
       "      <td>1</td>\n",
       "      <td>96</td>\n",
       "    </tr>\n",
       "    <tr>\n",
       "      <th>6001</th>\n",
       "      <td>0</td>\n",
       "      <td>C1543</td>\n",
       "      <td>N603</td>\n",
       "      <td>C586</td>\n",
       "      <td>389</td>\n",
       "      <td>17</td>\n",
       "      <td>1</td>\n",
       "      <td>193</td>\n",
       "    </tr>\n",
       "    <tr>\n",
       "      <th>6001</th>\n",
       "      <td>0</td>\n",
       "      <td>C1685</td>\n",
       "      <td>N7</td>\n",
       "      <td>C6482</td>\n",
       "      <td>N2481</td>\n",
       "      <td>6</td>\n",
       "      <td>4</td>\n",
       "      <td>445</td>\n",
       "    </tr>\n",
       "    <tr>\n",
       "      <th>6001</th>\n",
       "      <td>0</td>\n",
       "      <td>C1685</td>\n",
       "      <td>N7</td>\n",
       "      <td>C6482</td>\n",
       "      <td>N2482</td>\n",
       "      <td>6</td>\n",
       "      <td>6</td>\n",
       "      <td>5055</td>\n",
       "    </tr>\n",
       "    <tr>\n",
       "      <th>6001</th>\n",
       "      <td>0</td>\n",
       "      <td>C17</td>\n",
       "      <td>N177</td>\n",
       "      <td>C1883</td>\n",
       "      <td>445</td>\n",
       "      <td>6</td>\n",
       "      <td>1</td>\n",
       "      <td>52</td>\n",
       "    </tr>\n",
       "  </tbody>\n",
       "</table>\n",
       "</div>"
      ],
      "text/plain": [
       "      duration source computer source port destination computer  \\\n",
       "time                                                              \n",
       "6001         0           C1514         123                 C625   \n",
       "6001         0           C1543        N603                 C586   \n",
       "6001         0           C1685          N7                C6482   \n",
       "6001         0           C1685          N7                C6482   \n",
       "6001         0             C17        N177                C1883   \n",
       "\n",
       "     destination port  protocol  packet count  byte count  \n",
       "time                                                       \n",
       "6001              123        17             1          96  \n",
       "6001              389        17             1         193  \n",
       "6001            N2481         6             4         445  \n",
       "6001            N2482         6             6        5055  \n",
       "6001              445         6             1          52  "
      ]
     },
     "execution_count": 15,
     "metadata": {},
     "output_type": "execute_result"
    }
   ],
   "source": [
    "# hard coded nrows\n",
    "df_all = pd.read_csv('../../../diploma/multi-source-syber-security-events/flows.txt', header=None, nrows=500000)\n",
    "\n",
    "df_all.columns = ['time', 'duration', 'source computer', 'source port', 'destination computer', \n",
    "              'destination port', 'protocol', 'packet count', 'byte count']\n",
    "\n",
    "df = df_all[(df_all['time'] > epochs_per_batch * time_epoch) & (df_all['time'] <= epochs_per_batch * time_epoch * 2)]\n",
    "\n",
    "df.index = df['time']\n",
    "df.drop(columns=['time'],inplace=True)\n",
    "df.head()"
   ]
  },
  {
   "cell_type": "code",
   "execution_count": 16,
   "metadata": {},
   "outputs": [],
   "source": [
    "# scale the data using the same scaler\n",
    "\n",
    "groupped_data_test, _ = group_scale_data_batch(df, parameters)\n",
    "groupped_data_test['epoch'] += epochs_per_batch"
   ]
  },
  {
   "cell_type": "code",
   "execution_count": null,
   "metadata": {},
   "outputs": [],
   "source": []
  },
  {
   "cell_type": "code",
   "execution_count": 17,
   "metadata": {},
   "outputs": [],
   "source": [
    "from scipy.spatial.distance import euclidean\n",
    "\n",
    "def calculate_error(algorithm, data):\n",
    "    num_points = len(data)\n",
    "    \n",
    "    assert num_points > 0\n",
    "    \n",
    "    \n",
    "    total_error = 0\n",
    "    \n",
    "    if isinstance(algorithm, KMeans):\n",
    "        predictions = algorithm.predict(data)\n",
    "        for data_i, prediction_i in zip(data, predictions):\n",
    "            distance_to_closest_center = euclidean(data_i, algorithm.cluster_centers_[prediction_i])\n",
    "            total_error += distance_to_closest_center\n",
    "        \n",
    "    return total_error/num_points"
   ]
  },
  {
   "cell_type": "markdown",
   "metadata": {},
   "source": [
    "### First method: Calculate its data point seperately"
   ]
  },
  {
   "cell_type": "code",
   "execution_count": 18,
   "metadata": {},
   "outputs": [
    {
     "name": "stdout",
     "output_type": "stream",
     "text": [
      "These results correspond to average the average distance from each individual cluster point seperately\n",
      "This may be unwise for the clustering done for each individual host and epoch\n",
      "\n",
      "Error from whole kmeans clustering 0.523022695093\n",
      "Error from host kmeans clustering individual data points 1.8713369306\n",
      "Error from epoch kmeans clustering individual data points 11.3929740953\n"
     ]
    }
   ],
   "source": [
    "print('These results correspond to average the average distance from each individual cluster point seperately')\n",
    "print('This may be unwise for the clustering done for each individual host and epoch')\n",
    "print()\n",
    "\n",
    "print('Error from whole kmeans clustering', calculate_error(kmeans_whole_data, groupped_data_test.values[:, :2]))\n",
    "print('Error from host kmeans clustering individual data points', calculate_error(kmeans_host_data, groupped_data_test.values[:, :2]))\n",
    "print('Error from epoch kmeans clustering individual data points', calculate_error(kmeans_epoch_data, groupped_data_test.values[:, :2]))"
   ]
  },
  {
   "cell_type": "code",
   "execution_count": 19,
   "metadata": {},
   "outputs": [
    {
     "name": "stdout",
     "output_type": "stream",
     "text": [
      "The following scores correspond after the grouping by\n",
      "\n",
      "Error from host kmeans after group by 1.1458527636338465\n",
      "Error from epoch kmeans after group by 0.1272602781251249\n"
     ]
    }
   ],
   "source": [
    "print('The following scores correspond after the grouping by')\n",
    "print()\n",
    "\n",
    "print('Error from host kmeans after group by', \n",
    "      calculate_error(kmeans_host_data, groupped_data_test.groupby('source computer').mean().values[:,:2]))\n",
    "print('Error from epoch kmeans after group by', \n",
    "      calculate_error(kmeans_epoch_data, groupped_data_test.groupby('epoch').mean().values[:,:2]))"
   ]
  },
  {
   "cell_type": "markdown",
   "metadata": {},
   "source": [
    "### Finally distance scores based on each host past "
   ]
  },
  {
   "cell_type": "code",
   "execution_count": null,
   "metadata": {},
   "outputs": [],
   "source": []
  },
  {
   "cell_type": "code",
   "execution_count": 20,
   "metadata": {},
   "outputs": [
    {
     "name": "stdout",
     "output_type": "stream",
     "text": [
      "                 number of flows  mean(byte count)\n",
      "source computer                                   \n",
      "C10                         1.45              2.10\n",
      "C100                        7.03             12.66\n",
      "C1000                       2.62              6.84\n",
      "C1001                       7.83             12.30\n",
      "C1002                       4.24              8.92\n",
      "                 number of flows  mean(byte count)\n",
      "source computer                                   \n",
      "C10                         1.45              2.10\n",
      "C100                        6.97             13.10\n",
      "C1000                       2.62              6.48\n",
      "C1001                       7.62             11.32\n",
      "C1002                       4.15              8.70\n"
     ]
    }
   ],
   "source": [
    "train_data = groupped_data.groupby('source computer').mean()\n",
    "train_data.drop(columns=['epoch'],inplace=True)\n",
    "print(train_data.head())\n",
    "\n",
    "test_data = groupped_data_test.groupby('source computer').mean()\n",
    "test_data.drop(columns=['epoch'],inplace=True)\n",
    "print(test_data.head())"
   ]
  },
  {
   "cell_type": "code",
   "execution_count": 21,
   "metadata": {},
   "outputs": [],
   "source": [
    "def calculate_error_by_host(train, test):\n",
    "    num_points = len(test)\n",
    "    \n",
    "    assert num_points > 0\n",
    "    \n",
    "    total_error = 0\n",
    "    \n",
    "    for index, row in test.iterrows():\n",
    "        distance_to_closest_center = euclidean(row.values, train.loc[index].values)\n",
    "        total_error += distance_to_closest_center\n",
    "        \n",
    "    return total_error/num_points"
   ]
  },
  {
   "cell_type": "code",
   "execution_count": 22,
   "metadata": {},
   "outputs": [
    {
     "data": {
      "text/plain": [
       "0.9166643500940591"
      ]
     },
     "execution_count": 22,
     "metadata": {},
     "output_type": "execute_result"
    }
   ],
   "source": [
    "calculate_error_by_host(train_data, test_data)"
   ]
  },
  {
   "cell_type": "code",
   "execution_count": null,
   "metadata": {},
   "outputs": [],
   "source": []
  },
  {
   "cell_type": "markdown",
   "metadata": {},
   "source": [
    "### What is the difference between onlineEM with and without the different profile groups?"
   ]
  },
  {
   "cell_type": "code",
   "execution_count": 23,
   "metadata": {},
   "outputs": [],
   "source": [
    "from emClustering import OnlineEM\n",
    "from plots import plot_points, plot_results, plot_category, plot_all_categories"
   ]
  },
  {
   "cell_type": "code",
   "execution_count": 24,
   "metadata": {},
   "outputs": [
    {
     "name": "stdout",
     "output_type": "stream",
     "text": [
      "Centers found: 1\n",
      "Centers found: 2\n",
      "Centers found: 3\n",
      "Centers found: 4\n",
      "Centers found: 5\n",
      "Centers found: 6\n",
      "Centers found: 7\n",
      "Centers found: 8\n",
      "Centers found: 9\n",
      "Centers found: 10\n",
      "Centers found: 11\n",
      "Centers found: 12\n",
      "Centers found: 13\n",
      "Centers found: 14\n"
     ]
    }
   ],
   "source": [
    "from kplusplus import KPlusPlus\n",
    "\n",
    "\n",
    "kplusplus = KPlusPlus(number_of_clusters, groupped_data.values[:, :2], stochastic=True, stochastic_n_samples=3000)\n",
    "\n",
    "kplusplus.init_centers(verbose=1)"
   ]
  },
  {
   "cell_type": "code",
   "execution_count": 25,
   "metadata": {},
   "outputs": [
    {
     "data": {
      "text/plain": [
       "[array([1, 1], dtype=object),\n",
       " array([65, 85], dtype=object),\n",
       " array([10, 24], dtype=object),\n",
       " array([40, 32], dtype=object),\n",
       " array([16, 76], dtype=object),\n",
       " array([78, 26], dtype=object),\n",
       " array([20, 35], dtype=object),\n",
       " array([35, 63], dtype=object),\n",
       " array([10, 47], dtype=object),\n",
       " array([46, 51], dtype=object),\n",
       " array([10, 57], dtype=object),\n",
       " array([23, 58], dtype=object),\n",
       " array([31, 37], dtype=object),\n",
       " array([10, 32], dtype=object),\n",
       " array([20, 29], dtype=object)]"
      ]
     },
     "execution_count": 25,
     "metadata": {},
     "output_type": "execute_result"
    }
   ],
   "source": [
    "kplusplus.centers"
   ]
  },
  {
   "cell_type": "code",
   "execution_count": 26,
   "metadata": {},
   "outputs": [
    {
     "data": {
      "image/png": "[encoded data removed]",
      "text/plain": [
       "<matplotlib.figure.Figure at 0x2106f902a58>"
      ]
     },
     "metadata": {},
     "output_type": "display_data"
    }
   ],
   "source": [
    "# random initialization\n",
    "onlineEM = OnlineEM([1/number_of_clusters]*number_of_clusters, kplusplus.centers, 500, n_clusters=8, verbose=1)\n",
    "plot_points(groupped_data.values[:,:2], em=onlineEM)"
   ]
  },
  {
   "cell_type": "code",
   "execution_count": 27,
   "metadata": {},
   "outputs": [
    {
     "name": "stdout",
     "output_type": "stream",
     "text": [
      "Running for data till position 500 from total 191200\n",
      "Running for data till position 1000 from total 191200\n",
      "Running for data till position 1500 from total 191200\n",
      "Running for data till position 2000 from total 191200\n",
      "Running for data till position 2500 from total 191200\n",
      "Running for data till position 3000 from total 191200\n",
      "Running for data till position 3500 from total 191200\n",
      "Running for data till position 4000 from total 191200\n",
      "Running for data till position 4500 from total 191200\n",
      "Running for data till position 5000 from total 191200\n",
      "Running for data till position 5500 from total 191200\n",
      "Running for data till position 6000 from total 191200\n",
      "Running for data till position 6500 from total 191200\n",
      "Running for data till position 7000 from total 191200\n",
      "Running for data till position 7500 from total 191200\n",
      "Running for data till position 8000 from total 191200\n",
      "Running for data till position 8500 from total 191200\n",
      "Running for data till position 9000 from total 191200\n",
      "Running for data till position 9500 from total 191200\n",
      "Running for data till position 10000 from total 191200\n",
      "Running for data till position 10500 from total 191200\n",
      "Running for data till position 11000 from total 191200\n",
      "Running for data till position 11500 from total 191200\n",
      "Running for data till position 12000 from total 191200\n",
      "Running for data till position 12500 from total 191200\n",
      "Running for data till position 13000 from total 191200\n",
      "Running for data till position 13500 from total 191200\n",
      "Running for data till position 14000 from total 191200\n",
      "Running for data till position 14500 from total 191200\n",
      "Running for data till position 15000 from total 191200\n",
      "Running for data till position 15500 from total 191200\n",
      "Running for data till position 16000 from total 191200\n",
      "Running for data till position 16500 from total 191200\n",
      "Running for data till position 17000 from total 191200\n",
      "Running for data till position 17500 from total 191200\n",
      "Running for data till position 18000 from total 191200\n",
      "Running for data till position 18500 from total 191200\n",
      "Running for data till position 19000 from total 191200\n",
      "Running for data till position 19500 from total 191200\n",
      "Running for data till position 20000 from total 191200\n",
      "Running for data till position 20500 from total 191200\n",
      "Running for data till position 21000 from total 191200\n",
      "Running for data till position 21500 from total 191200\n",
      "Running for data till position 22000 from total 191200\n",
      "Running for data till position 22500 from total 191200\n",
      "Running for data till position 23000 from total 191200\n",
      "Running for data till position 23500 from total 191200\n",
      "Running for data till position 24000 from total 191200\n",
      "Running for data till position 24500 from total 191200\n",
      "Running for data till position 25000 from total 191200\n",
      "Running for data till position 25500 from total 191200\n",
      "Running for data till position 26000 from total 191200\n",
      "Running for data till position 26500 from total 191200\n",
      "Running for data till position 27000 from total 191200\n",
      "Running for data till position 27500 from total 191200\n",
      "Running for data till position 28000 from total 191200\n",
      "Running for data till position 28500 from total 191200\n",
      "Running for data till position 29000 from total 191200\n",
      "Running for data till position 29500 from total 191200\n",
      "Running for data till position 30000 from total 191200\n",
      "Running for data till position 30500 from total 191200\n",
      "Running for data till position 31000 from total 191200\n",
      "Running for data till position 31500 from total 191200\n",
      "Running for data till position 32000 from total 191200\n",
      "Running for data till position 32500 from total 191200\n",
      "Running for data till position 33000 from total 191200\n",
      "Running for data till position 33500 from total 191200\n",
      "Running for data till position 34000 from total 191200\n",
      "Running for data till position 34500 from total 191200\n",
      "Running for data till position 35000 from total 191200\n",
      "Running for data till position 35500 from total 191200\n",
      "Running for data till position 36000 from total 191200\n",
      "Running for data till position 36500 from total 191200\n",
      "Running for data till position 37000 from total 191200\n",
      "Running for data till position 37500 from total 191200\n",
      "Running for data till position 38000 from total 191200\n",
      "Running for data till position 38500 from total 191200\n",
      "Running for data till position 39000 from total 191200\n",
      "Running for data till position 39500 from total 191200\n",
      "Running for data till position 40000 from total 191200\n",
      "Running for data till position 40500 from total 191200\n",
      "Running for data till position 41000 from total 191200\n",
      "Running for data till position 41500 from total 191200\n",
      "Running for data till position 42000 from total 191200\n",
      "Running for data till position 42500 from total 191200\n",
      "Running for data till position 43000 from total 191200\n",
      "Running for data till position 43500 from total 191200\n",
      "Running for data till position 44000 from total 191200\n",
      "Running for data till position 44500 from total 191200\n",
      "Running for data till position 45000 from total 191200\n",
      "Running for data till position 45500 from total 191200\n",
      "Running for data till position 46000 from total 191200\n",
      "Running for data till position 46500 from total 191200\n",
      "Running for data till position 47000 from total 191200\n",
      "Running for data till position 47500 from total 191200\n",
      "Running for data till position 48000 from total 191200\n",
      "Running for data till position 48500 from total 191200\n",
      "Running for data till position 49000 from total 191200\n",
      "Running for data till position 49500 from total 191200\n",
      "Running for data till position 50000 from total 191200\n",
      "Running for data till position 50500 from total 191200\n",
      "Running for data till position 51000 from total 191200\n",
      "Running for data till position 51500 from total 191200\n",
      "Running for data till position 52000 from total 191200\n",
      "Running for data till position 52500 from total 191200\n",
      "Running for data till position 53000 from total 191200\n",
      "Running for data till position 53500 from total 191200\n",
      "Running for data till position 54000 from total 191200\n",
      "Running for data till position 54500 from total 191200\n",
      "Running for data till position 55000 from total 191200\n",
      "Running for data till position 55500 from total 191200\n",
      "Running for data till position 56000 from total 191200\n",
      "Running for data till position 56500 from total 191200\n",
      "Running for data till position 57000 from total 191200\n",
      "Running for data till position 57500 from total 191200\n",
      "Running for data till position 58000 from total 191200\n",
      "Running for data till position 58500 from total 191200\n",
      "Running for data till position 59000 from total 191200\n",
      "Running for data till position 59500 from total 191200\n",
      "Running for data till position 60000 from total 191200\n",
      "Running for data till position 60500 from total 191200\n",
      "Running for data till position 61000 from total 191200\n",
      "Running for data till position 61500 from total 191200\n",
      "Running for data till position 62000 from total 191200\n",
      "Running for data till position 62500 from total 191200\n",
      "Running for data till position 63000 from total 191200\n",
      "Running for data till position 63500 from total 191200\n",
      "Running for data till position 64000 from total 191200\n",
      "Running for data till position 64500 from total 191200\n",
      "Running for data till position 65000 from total 191200\n",
      "Running for data till position 65500 from total 191200\n",
      "Running for data till position 66000 from total 191200\n",
      "Running for data till position 66500 from total 191200\n",
      "Running for data till position 67000 from total 191200\n",
      "Running for data till position 67500 from total 191200\n",
      "Running for data till position 68000 from total 191200\n",
      "Running for data till position 68500 from total 191200\n",
      "Running for data till position 69000 from total 191200\n",
      "Running for data till position 69500 from total 191200\n",
      "Running for data till position 70000 from total 191200\n",
      "Running for data till position 70500 from total 191200\n",
      "Running for data till position 71000 from total 191200\n",
      "Running for data till position 71500 from total 191200\n",
      "Running for data till position 72000 from total 191200\n",
      "Running for data till position 72500 from total 191200\n",
      "Running for data till position 73000 from total 191200\n",
      "Running for data till position 73500 from total 191200\n",
      "Running for data till position 74000 from total 191200\n",
      "Running for data till position 74500 from total 191200\n",
      "Running for data till position 75000 from total 191200\n"
     ]
    },
    {
     "name": "stdout",
     "output_type": "stream",
     "text": [
      "Running for data till position 75500 from total 191200\n",
      "Running for data till position 76000 from total 191200\n",
      "Running for data till position 76500 from total 191200\n",
      "Running for data till position 77000 from total 191200\n",
      "Running for data till position 77500 from total 191200\n",
      "Running for data till position 78000 from total 191200\n",
      "Running for data till position 78500 from total 191200\n",
      "Running for data till position 79000 from total 191200\n",
      "Running for data till position 79500 from total 191200\n",
      "Running for data till position 80000 from total 191200\n",
      "Running for data till position 80500 from total 191200\n",
      "Running for data till position 81000 from total 191200\n",
      "Running for data till position 81500 from total 191200\n",
      "Running for data till position 82000 from total 191200\n",
      "Running for data till position 82500 from total 191200\n",
      "Running for data till position 83000 from total 191200\n",
      "Running for data till position 83500 from total 191200\n",
      "Running for data till position 84000 from total 191200\n",
      "Running for data till position 84500 from total 191200\n",
      "Running for data till position 85000 from total 191200\n",
      "Running for data till position 85500 from total 191200\n",
      "Running for data till position 86000 from total 191200\n",
      "Running for data till position 86500 from total 191200\n",
      "Running for data till position 87000 from total 191200\n",
      "Running for data till position 87500 from total 191200\n",
      "Running for data till position 88000 from total 191200\n",
      "Running for data till position 88500 from total 191200\n",
      "Running for data till position 89000 from total 191200\n",
      "Running for data till position 89500 from total 191200\n",
      "Running for data till position 90000 from total 191200\n",
      "Running for data till position 90500 from total 191200\n",
      "Running for data till position 91000 from total 191200\n",
      "Running for data till position 91500 from total 191200\n",
      "Running for data till position 92000 from total 191200\n",
      "Running for data till position 92500 from total 191200\n",
      "Running for data till position 93000 from total 191200\n",
      "Running for data till position 93500 from total 191200\n",
      "Running for data till position 94000 from total 191200\n",
      "Running for data till position 94500 from total 191200\n",
      "Running for data till position 95000 from total 191200\n",
      "Running for data till position 95500 from total 191200\n",
      "Running for data till position 96000 from total 191200\n",
      "Running for data till position 96500 from total 191200\n",
      "Running for data till position 97000 from total 191200\n",
      "Running for data till position 97500 from total 191200\n",
      "Running for data till position 98000 from total 191200\n",
      "Running for data till position 98500 from total 191200\n",
      "Running for data till position 99000 from total 191200\n",
      "Running for data till position 99500 from total 191200\n",
      "Running for data till position 100000 from total 191200\n",
      "Running for data till position 100500 from total 191200\n",
      "Running for data till position 101000 from total 191200\n",
      "Running for data till position 101500 from total 191200\n",
      "Running for data till position 102000 from total 191200\n",
      "Running for data till position 102500 from total 191200\n",
      "Running for data till position 103000 from total 191200\n",
      "Running for data till position 103500 from total 191200\n",
      "Running for data till position 104000 from total 191200\n",
      "Running for data till position 104500 from total 191200\n",
      "Running for data till position 105000 from total 191200\n",
      "Running for data till position 105500 from total 191200\n",
      "Running for data till position 106000 from total 191200\n",
      "Running for data till position 106500 from total 191200\n",
      "Running for data till position 107000 from total 191200\n",
      "Running for data till position 107500 from total 191200\n",
      "Running for data till position 108000 from total 191200\n",
      "Running for data till position 108500 from total 191200\n",
      "Running for data till position 109000 from total 191200\n",
      "Running for data till position 109500 from total 191200\n",
      "Running for data till position 110000 from total 191200\n",
      "Running for data till position 110500 from total 191200\n",
      "Running for data till position 111000 from total 191200\n",
      "Running for data till position 111500 from total 191200\n",
      "Running for data till position 112000 from total 191200\n",
      "Running for data till position 112500 from total 191200\n",
      "Running for data till position 113000 from total 191200\n",
      "Running for data till position 113500 from total 191200\n",
      "Running for data till position 114000 from total 191200\n",
      "Running for data till position 114500 from total 191200\n",
      "Running for data till position 115000 from total 191200\n",
      "Running for data till position 115500 from total 191200\n",
      "Running for data till position 116000 from total 191200\n",
      "Running for data till position 116500 from total 191200\n",
      "Running for data till position 117000 from total 191200\n",
      "Running for data till position 117500 from total 191200\n",
      "Running for data till position 118000 from total 191200\n",
      "Running for data till position 118500 from total 191200\n",
      "Running for data till position 119000 from total 191200\n",
      "Running for data till position 119500 from total 191200\n",
      "Running for data till position 120000 from total 191200\n",
      "Running for data till position 120500 from total 191200\n",
      "Running for data till position 121000 from total 191200\n",
      "Running for data till position 121500 from total 191200\n",
      "Running for data till position 122000 from total 191200\n",
      "Running for data till position 122500 from total 191200\n",
      "Running for data till position 123000 from total 191200\n",
      "Running for data till position 123500 from total 191200\n",
      "Running for data till position 124000 from total 191200\n",
      "Running for data till position 124500 from total 191200\n",
      "Running for data till position 125000 from total 191200\n",
      "Running for data till position 125500 from total 191200\n",
      "Running for data till position 126000 from total 191200\n",
      "Running for data till position 126500 from total 191200\n",
      "Running for data till position 127000 from total 191200\n",
      "Running for data till position 127500 from total 191200\n",
      "Running for data till position 128000 from total 191200\n",
      "Running for data till position 128500 from total 191200\n",
      "Running for data till position 129000 from total 191200\n",
      "Running for data till position 129500 from total 191200\n",
      "Running for data till position 130000 from total 191200\n",
      "Running for data till position 130500 from total 191200\n",
      "Running for data till position 131000 from total 191200\n",
      "Running for data till position 131500 from total 191200\n",
      "Running for data till position 132000 from total 191200\n",
      "Running for data till position 132500 from total 191200\n",
      "Running for data till position 133000 from total 191200\n",
      "Running for data till position 133500 from total 191200\n",
      "Running for data till position 134000 from total 191200\n",
      "Running for data till position 134500 from total 191200\n",
      "Running for data till position 135000 from total 191200\n",
      "Running for data till position 135500 from total 191200\n",
      "Running for data till position 136000 from total 191200\n",
      "Running for data till position 136500 from total 191200\n",
      "Running for data till position 137000 from total 191200\n",
      "Running for data till position 137500 from total 191200\n",
      "Running for data till position 138000 from total 191200\n",
      "Running for data till position 138500 from total 191200\n",
      "Running for data till position 139000 from total 191200\n",
      "Running for data till position 139500 from total 191200\n",
      "Running for data till position 140000 from total 191200\n",
      "Running for data till position 140500 from total 191200\n",
      "Running for data till position 141000 from total 191200\n",
      "Running for data till position 141500 from total 191200\n",
      "Running for data till position 142000 from total 191200\n",
      "Running for data till position 142500 from total 191200\n",
      "Running for data till position 143000 from total 191200\n",
      "Running for data till position 143500 from total 191200\n",
      "Running for data till position 144000 from total 191200\n",
      "Running for data till position 144500 from total 191200\n",
      "Running for data till position 145000 from total 191200\n",
      "Running for data till position 145500 from total 191200\n",
      "Running for data till position 146000 from total 191200\n",
      "Running for data till position 146500 from total 191200\n",
      "Running for data till position 147000 from total 191200\n",
      "Running for data till position 147500 from total 191200\n",
      "Running for data till position 148000 from total 191200\n",
      "Running for data till position 148500 from total 191200\n",
      "Running for data till position 149000 from total 191200\n"
     ]
    },
    {
     "name": "stdout",
     "output_type": "stream",
     "text": [
      "Running for data till position 149500 from total 191200\n",
      "Running for data till position 150000 from total 191200\n",
      "Running for data till position 150500 from total 191200\n",
      "Running for data till position 151000 from total 191200\n",
      "Running for data till position 151500 from total 191200\n",
      "Running for data till position 152000 from total 191200\n",
      "Running for data till position 152500 from total 191200\n",
      "Running for data till position 153000 from total 191200\n",
      "Running for data till position 153500 from total 191200\n",
      "Running for data till position 154000 from total 191200\n",
      "Running for data till position 154500 from total 191200\n",
      "Running for data till position 155000 from total 191200\n",
      "Running for data till position 155500 from total 191200\n",
      "Running for data till position 156000 from total 191200\n",
      "Running for data till position 156500 from total 191200\n",
      "Running for data till position 157000 from total 191200\n",
      "Running for data till position 157500 from total 191200\n",
      "Running for data till position 158000 from total 191200\n",
      "Running for data till position 158500 from total 191200\n",
      "Running for data till position 159000 from total 191200\n",
      "Running for data till position 159500 from total 191200\n",
      "Running for data till position 160000 from total 191200\n",
      "Running for data till position 160500 from total 191200\n",
      "Running for data till position 161000 from total 191200\n",
      "Running for data till position 161500 from total 191200\n",
      "Running for data till position 162000 from total 191200\n",
      "Running for data till position 162500 from total 191200\n",
      "Running for data till position 163000 from total 191200\n",
      "Running for data till position 163500 from total 191200\n",
      "Running for data till position 164000 from total 191200\n",
      "Running for data till position 164500 from total 191200\n",
      "Running for data till position 165000 from total 191200\n",
      "Running for data till position 165500 from total 191200\n",
      "Running for data till position 166000 from total 191200\n",
      "Running for data till position 166500 from total 191200\n",
      "Running for data till position 167000 from total 191200\n",
      "Running for data till position 167500 from total 191200\n",
      "Running for data till position 168000 from total 191200\n",
      "Running for data till position 168500 from total 191200\n",
      "Running for data till position 169000 from total 191200\n",
      "Running for data till position 169500 from total 191200\n",
      "Running for data till position 170000 from total 191200\n",
      "Running for data till position 170500 from total 191200\n",
      "Running for data till position 171000 from total 191200\n",
      "Running for data till position 171500 from total 191200\n",
      "Running for data till position 172000 from total 191200\n",
      "Running for data till position 172500 from total 191200\n",
      "Running for data till position 173000 from total 191200\n",
      "Running for data till position 173500 from total 191200\n",
      "Running for data till position 174000 from total 191200\n",
      "Running for data till position 174500 from total 191200\n",
      "Running for data till position 175000 from total 191200\n",
      "Running for data till position 175500 from total 191200\n",
      "Running for data till position 176000 from total 191200\n",
      "Running for data till position 176500 from total 191200\n",
      "Running for data till position 177000 from total 191200\n",
      "Running for data till position 177500 from total 191200\n",
      "Running for data till position 178000 from total 191200\n",
      "Running for data till position 178500 from total 191200\n",
      "Running for data till position 179000 from total 191200\n",
      "Running for data till position 179500 from total 191200\n",
      "Running for data till position 180000 from total 191200\n",
      "Running for data till position 180500 from total 191200\n",
      "Running for data till position 181000 from total 191200\n",
      "Running for data till position 181500 from total 191200\n",
      "Running for data till position 182000 from total 191200\n",
      "Running for data till position 182500 from total 191200\n",
      "Running for data till position 183000 from total 191200\n",
      "Running for data till position 183500 from total 191200\n",
      "Running for data till position 184000 from total 191200\n",
      "Running for data till position 184500 from total 191200\n",
      "Running for data till position 185000 from total 191200\n",
      "Running for data till position 185500 from total 191200\n",
      "Running for data till position 186000 from total 191200\n",
      "Running for data till position 186500 from total 191200\n",
      "Running for data till position 187000 from total 191200\n",
      "Running for data till position 187500 from total 191200\n",
      "Running for data till position 188000 from total 191200\n",
      "Running for data till position 188500 from total 191200\n",
      "Running for data till position 189000 from total 191200\n",
      "Running for data till position 189500 from total 191200\n",
      "Running for data till position 190000 from total 191200\n",
      "Running for data till position 190500 from total 191200\n",
      "Running for data till position 191000 from total 191200\n",
      "Running for data till position 191200 from total 191200\n",
      "Running clustering algorithm\n"
     ]
    }
   ],
   "source": [
    "data = groupped_data.values[:,[0,1,3]]\n",
    "np.random.shuffle(data)\n",
    "onlineEM.fit(data)"
   ]
  },
  {
   "cell_type": "markdown",
   "metadata": {},
   "source": [
    "### These are the centers after the fitting"
   ]
  },
  {
   "cell_type": "code",
   "execution_count": 28,
   "metadata": {},
   "outputs": [
    {
     "data": {
      "image/png": "[encoded data removed]",
      "text/plain": [
       "<matplotlib.figure.Figure at 0x2106fd6abe0>"
      ]
     },
     "metadata": {},
     "output_type": "display_data"
    }
   ],
   "source": [
    "plot_points(groupped_data.values[:,:2], em=onlineEM)"
   ]
  },
  {
   "cell_type": "markdown",
   "metadata": {},
   "source": [
    "### Next we will test what is the log likelihood with and without the use of group profiling \n",
    "\n",
    "We will use as test data the next 50 epochs"
   ]
  },
  {
   "cell_type": "code",
   "execution_count": 29,
   "metadata": {},
   "outputs": [
    {
     "name": "stderr",
     "output_type": "stream",
     "text": [
      "c:\\users\\sotiris\\appdata\\local\\programs\\python\\python36\\lib\\site-packages\\ipykernel_launcher.py:4: SettingWithCopyWarning: \n",
      "A value is trying to be set on a copy of a slice from a DataFrame\n",
      "\n",
      "See the caveats in the documentation: http://pandas.pydata.org/pandas-docs/stable/indexing.html#indexing-view-versus-copy\n",
      "  after removing the cwd from sys.path.\n"
     ]
    },
    {
     "data": {
      "text/html": [
       "<div>\n",
       "<style scoped>\n",
       "    .dataframe tbody tr th:only-of-type {\n",
       "        vertical-align: middle;\n",
       "    }\n",
       "\n",
       "    .dataframe tbody tr th {\n",
       "        vertical-align: top;\n",
       "    }\n",
       "\n",
       "    .dataframe thead th {\n",
       "        text-align: right;\n",
       "    }\n",
       "</style>\n",
       "<table border=\"1\" class=\"dataframe\">\n",
       "  <thead>\n",
       "    <tr style=\"text-align: right;\">\n",
       "      <th></th>\n",
       "      <th>duration</th>\n",
       "      <th>source computer</th>\n",
       "      <th>source port</th>\n",
       "      <th>destination computer</th>\n",
       "      <th>destination port</th>\n",
       "      <th>protocol</th>\n",
       "      <th>packet count</th>\n",
       "      <th>byte count</th>\n",
       "    </tr>\n",
       "    <tr>\n",
       "      <th>time</th>\n",
       "      <th></th>\n",
       "      <th></th>\n",
       "      <th></th>\n",
       "      <th></th>\n",
       "      <th></th>\n",
       "      <th></th>\n",
       "      <th></th>\n",
       "      <th></th>\n",
       "    </tr>\n",
       "  </thead>\n",
       "  <tbody>\n",
       "    <tr>\n",
       "      <th>6001</th>\n",
       "      <td>0</td>\n",
       "      <td>C1514</td>\n",
       "      <td>123</td>\n",
       "      <td>C625</td>\n",
       "      <td>123</td>\n",
       "      <td>17</td>\n",
       "      <td>1</td>\n",
       "      <td>96</td>\n",
       "    </tr>\n",
       "    <tr>\n",
       "      <th>6001</th>\n",
       "      <td>0</td>\n",
       "      <td>C1543</td>\n",
       "      <td>N603</td>\n",
       "      <td>C586</td>\n",
       "      <td>389</td>\n",
       "      <td>17</td>\n",
       "      <td>1</td>\n",
       "      <td>193</td>\n",
       "    </tr>\n",
       "    <tr>\n",
       "      <th>6001</th>\n",
       "      <td>0</td>\n",
       "      <td>C1685</td>\n",
       "      <td>N7</td>\n",
       "      <td>C6482</td>\n",
       "      <td>N2481</td>\n",
       "      <td>6</td>\n",
       "      <td>4</td>\n",
       "      <td>445</td>\n",
       "    </tr>\n",
       "    <tr>\n",
       "      <th>6001</th>\n",
       "      <td>0</td>\n",
       "      <td>C1685</td>\n",
       "      <td>N7</td>\n",
       "      <td>C6482</td>\n",
       "      <td>N2482</td>\n",
       "      <td>6</td>\n",
       "      <td>6</td>\n",
       "      <td>5055</td>\n",
       "    </tr>\n",
       "    <tr>\n",
       "      <th>6001</th>\n",
       "      <td>0</td>\n",
       "      <td>C17</td>\n",
       "      <td>N177</td>\n",
       "      <td>C1883</td>\n",
       "      <td>445</td>\n",
       "      <td>6</td>\n",
       "      <td>1</td>\n",
       "      <td>52</td>\n",
       "    </tr>\n",
       "  </tbody>\n",
       "</table>\n",
       "</div>"
      ],
      "text/plain": [
       "      duration source computer source port destination computer  \\\n",
       "time                                                              \n",
       "6001         0           C1514         123                 C625   \n",
       "6001         0           C1543        N603                 C586   \n",
       "6001         0           C1685          N7                C6482   \n",
       "6001         0           C1685          N7                C6482   \n",
       "6001         0             C17        N177                C1883   \n",
       "\n",
       "     destination port  protocol  packet count  byte count  \n",
       "time                                                       \n",
       "6001              123        17             1          96  \n",
       "6001              389        17             1         193  \n",
       "6001            N2481         6             4         445  \n",
       "6001            N2482         6             6        5055  \n",
       "6001              445         6             1          52  "
      ]
     },
     "execution_count": 29,
     "metadata": {},
     "output_type": "execute_result"
    }
   ],
   "source": [
    "df1 = df_all[(df_all['time'] > epochs_per_batch * time_epoch) & (df_all['time'] <= epochs_per_batch * time_epoch * 2)]\n",
    "\n",
    "df1.index = df1['time']\n",
    "df1.drop(columns=['time'], inplace=True)\n",
    "df1.head()"
   ]
  },
  {
   "cell_type": "code",
   "execution_count": 30,
   "metadata": {},
   "outputs": [
    {
     "data": {
      "text/html": [
       "<div>\n",
       "<style scoped>\n",
       "    .dataframe tbody tr th:only-of-type {\n",
       "        vertical-align: middle;\n",
       "    }\n",
       "\n",
       "    .dataframe tbody tr th {\n",
       "        vertical-align: top;\n",
       "    }\n",
       "\n",
       "    .dataframe thead th {\n",
       "        text-align: right;\n",
       "    }\n",
       "</style>\n",
       "<table border=\"1\" class=\"dataframe\">\n",
       "  <thead>\n",
       "    <tr style=\"text-align: right;\">\n",
       "      <th></th>\n",
       "      <th>number of flows</th>\n",
       "      <th>mean(byte count)</th>\n",
       "      <th>epoch</th>\n",
       "      <th>source computer</th>\n",
       "    </tr>\n",
       "  </thead>\n",
       "  <tbody>\n",
       "    <tr>\n",
       "      <th>0</th>\n",
       "      <td>35</td>\n",
       "      <td>27</td>\n",
       "      <td>101</td>\n",
       "      <td>C1015</td>\n",
       "    </tr>\n",
       "    <tr>\n",
       "      <th>143047</th>\n",
       "      <td>1</td>\n",
       "      <td>1</td>\n",
       "      <td>101</td>\n",
       "      <td>C1630</td>\n",
       "    </tr>\n",
       "    <tr>\n",
       "      <th>142958</th>\n",
       "      <td>1</td>\n",
       "      <td>1</td>\n",
       "      <td>101</td>\n",
       "      <td>C3371</td>\n",
       "    </tr>\n",
       "    <tr>\n",
       "      <th>142745</th>\n",
       "      <td>1</td>\n",
       "      <td>1</td>\n",
       "      <td>101</td>\n",
       "      <td>C3100</td>\n",
       "    </tr>\n",
       "    <tr>\n",
       "      <th>142660</th>\n",
       "      <td>1</td>\n",
       "      <td>1</td>\n",
       "      <td>101</td>\n",
       "      <td>C326</td>\n",
       "    </tr>\n",
       "  </tbody>\n",
       "</table>\n",
       "</div>"
      ],
      "text/plain": [
       "        number of flows  mean(byte count)  epoch source computer\n",
       "0                    35                27    101           C1015\n",
       "143047                1                 1    101           C1630\n",
       "142958                1                 1    101           C3371\n",
       "142745                1                 1    101           C3100\n",
       "142660                1                 1    101            C326"
      ]
     },
     "execution_count": 30,
     "metadata": {},
     "output_type": "execute_result"
    }
   ],
   "source": [
    "groupped_data_test, _ = group_scale_data_batch(df1, parameters)\n",
    "groupped_data_test['epoch'] += epochs_per_batch\n",
    "\n",
    "assert len(groupped_data) == len(groupped_data_test)\n",
    "groupped_data_test.head()"
   ]
  },
  {
   "cell_type": "code",
   "execution_count": 31,
   "metadata": {},
   "outputs": [
    {
     "name": "stdout",
     "output_type": "stream",
     "text": [
      "whole data (-3.6312875412472256, -3.3963426982978864, -6.470014844063921)\n"
     ]
    }
   ],
   "source": [
    "import scipy.stats.distributions\n",
    "from math import log\n",
    "\n",
    "def poisson(x, l):\n",
    "    return_value = 1\n",
    "    for x_i, l_i in zip(x, l):\n",
    "        return_value *= scipy.stats.distributions.poisson.pmf(x_i, l_i)\n",
    "    return return_value\n",
    "\n",
    "# log likelihoods with and without clusters\n",
    "def likelihoods(em, data):\n",
    "    total_likelihood = 0\n",
    "    total_likelihood_clusters = 0\n",
    "    \n",
    "    for x_i in data:\n",
    "        host = x_i[-1]\n",
    "        x = x_i[:-1]\n",
    "        \n",
    "        participations = np.array([poisson(x, lambda_i) for lambda_i in em.lambdas])\n",
    "        \n",
    "        total_likelihood = total_likelihood + log(np.sum(em.gammas * participations))\n",
    "        \n",
    "        total_likelihood_clusters = total_likelihood_clusters + log(np.sum(em.probabilities_per_kMean_cluster[em.hosts[host]['category']] * participations))\n",
    "        \n",
    "    no_clusters = total_likelihood / len(data)\n",
    "    with_clusters = total_likelihood_clusters / len(data)\n",
    "    percentage_change = (with_clusters - no_clusters)*100 / no_clusters \n",
    "    return no_clusters, with_clusters, percentage_change\n",
    "\n",
    "print('whole data', likelihoods(onlineEM, groupped_data_test.values[:,[0,1,3]]))"
   ]
  },
  {
   "cell_type": "markdown",
   "metadata": {},
   "source": [
    "### The difference may be bigger for host we have more information about"
   ]
  },
  {
   "cell_type": "code",
   "execution_count": 33,
   "metadata": {},
   "outputs": [
    {
     "name": "stdout",
     "output_type": "stream",
     "text": [
      "Hosts with at least 10 points in the train data (-4.087242998691092, -3.7833462083620133, -7.435251352229353)\n",
      "Hosts with at least 20 points in the train data (-5.186688808946443, -4.635245083751837, -10.631903040788359)\n",
      "Hosts with at least 30 points in the train data (-5.5225003593316115, -4.847762346161681, -12.217980430364229)\n",
      "Hosts with at least 40 points in the train data (-6.731977648742329, -5.699675561538076, -15.334306515368606)\n",
      "Hosts with at least 50 points in the train data (-7.277079593832801, -6.015830345269428, -17.331805050370203)\n",
      "Hosts with at least 60 points in the train data (-8.08202114201826, -6.462394522064342, -20.039871110130026)\n",
      "Hosts with at least 70 points in the train data (-8.686661396046166, -6.770860476954265, -22.05451360132328)\n",
      "Hosts with at least 80 points in the train data (-9.256247988819212, -7.050644460506015, -23.828267468388756)\n",
      "Hosts with at least 90 points in the train data (-9.636140358218952, -7.2720248464643245, -24.53384263688317)\n"
     ]
    }
   ],
   "source": [
    "number_of_points = range(10, epochs_per_batch, 10)\n",
    "for points in number_of_points:\n",
    "    host_count = groupped_data[groupped_data['number of flows'] > 1].groupby('source computer').count()\n",
    "    hosts_with_at_least_N_points = host_count[host_count['epoch'] > points].index.values\n",
    "\n",
    "    data_for_host_with_lots_of_traffic = groupped_data_test[groupped_data_test['source computer'].isin(hosts_with_at_least_N_points)]\n",
    "\n",
    "    print('Hosts with at least', points, 'points in the train data', likelihoods(onlineEM, data_for_host_with_lots_of_traffic.values[:,[0,1,3]]))"
   ]
  },
  {
   "cell_type": "code",
   "execution_count": null,
   "metadata": {},
   "outputs": [],
   "source": []
  }
 ],
 "metadata": {
  "kernelspec": {
   "display_name": "Python 3",
   "language": "python",
   "name": "python3"
  },
  "language_info": {
   "codemirror_mode": {
    "name": "ipython",
    "version": 3
   },
   "file_extension": ".py",
   "mimetype": "text/x-python",
   "name": "python",
   "nbconvert_exporter": "python",
   "pygments_lexer": "ipython3",
   "version": "3.6.0"
  }
 },
 "nbformat": 4,
 "nbformat_minor": 2
}
