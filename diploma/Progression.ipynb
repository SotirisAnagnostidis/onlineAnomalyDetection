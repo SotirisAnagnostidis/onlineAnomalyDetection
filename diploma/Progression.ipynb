{
 "cells": [
  {
   "cell_type": "markdown",
   "metadata": {},
   "source": [
    "### Outlier Factors for Device Profiling\n",
    "\n",
    "TODO\n",
    "\n",
    "For this first part of the presentation, we will be using data in the form of (timestamp, source computer, number of bytes) where each data point represents a data flow. Data will be binned and so two different features will be extracted per source computer, per bin. That is count of flows and average number of flows per bin.\n",
    "\n",
    "For testing purposes a generated dataset will be used.\n",
    "\n",
    "For our initial review time index will not be treated differently between different flows.\n",
    "For this dataset, 5 different source computers (or users) will be simulated."
   ]
  },
  {
   "cell_type": "code",
   "execution_count": 128,
   "metadata": {},
   "outputs": [],
   "source": [
    "#generate data for users\n",
    "import numpy as np\n",
    "from random import randint\n",
    "%matplotlib inline\n",
    "\n",
    "number_of_hosts = 5\n",
    "time_limits = [1,10]\n",
    "\n",
    "flows = []\n",
    "\n",
    "def create_flow(user, number_of_flows, time_limits, byte_limits):\n",
    "    for _ in range(number_of_flows):\n",
    "        time = randint(time_limits[0], time_limits[1])\n",
    "        byte_count = randint(byte_limits[0], byte_limits[1])\n",
    "        flows.append([time, user, byte_count])\n",
    "\n",
    "# users C0 and C1 have a total of 10 flows randomly in the timelimits with a total byte count uniformly selected from [50,200] bytes\n",
    "create_flow('C' + str(0), 20, time_limits, [50,200])\n",
    "create_flow('C' + str(1), 20, time_limits, [100,1000])\n",
    "        \n",
    "# user C2 initialy has 5 flows with byte count [50,200] and then 5 with byte count [500,1000] and user C3 the reverse\n",
    "create_flow('C' + str(2), 10, [time_limits[0], int(time_limits[1]/2)], [50,200])\n",
    "create_flow('C' + str(2), 10, [int(time_limits[1]/2) + 1, time_limits[1]], [500,1000])\n",
    "\n",
    "create_flow('C' + str(3), 10, [time_limits[0], int(time_limits[1]/2)], [500,1000])\n",
    "create_flow('C' + str(3), 10, [int(time_limits[1]/2) + 1, time_limits[1]], [50,200])\n",
    "\n",
    "# user C4 has 5 flows  in [50, 200] and an outliers\n",
    "create_flow('C' + str(4), 10, [time_limits[0], time_limits[1]], [50,200])\n",
    "flows.append([7, 'C' + str(4), 5500])\n",
    "flows.append([7, 'C' + str(4), 9500])\n",
    "flows.append([7, 'C' + str(4), 5500])\n"
   ]
  },
  {
   "cell_type": "code",
   "execution_count": 129,
   "metadata": {},
   "outputs": [],
   "source": [
    "import pandas as pd\n",
    "\n",
    "df = pd.DataFrame(flows)"
   ]
  },
  {
   "cell_type": "code",
   "execution_count": 130,
   "metadata": {},
   "outputs": [],
   "source": [
    "# Save data for future work\n",
    "\n",
    "df.to_csv('../../../diploma/generated_data/flows.txt', header=False, index=False)"
   ]
  },
  {
   "cell_type": "markdown",
   "metadata": {},
   "source": [
    "From these flows per user, we can generate the features count and average byte count.\n",
    "\n",
    "Next we will display the in a scatter plot the points generated"
   ]
  },
  {
   "cell_type": "code",
   "execution_count": 20,
   "metadata": {},
   "outputs": [
    {
     "data": {
      "text/html": [
       "<div>\n",
       "<style scoped>\n",
       "    .dataframe tbody tr th:only-of-type {\n",
       "        vertical-align: middle;\n",
       "    }\n",
       "\n",
       "    .dataframe tbody tr th {\n",
       "        vertical-align: top;\n",
       "    }\n",
       "\n",
       "    .dataframe thead th {\n",
       "        text-align: right;\n",
       "    }\n",
       "</style>\n",
       "<table border=\"1\" class=\"dataframe\">\n",
       "  <thead>\n",
       "    <tr style=\"text-align: right;\">\n",
       "      <th></th>\n",
       "      <th>source computer</th>\n",
       "      <th>byte count</th>\n",
       "    </tr>\n",
       "    <tr>\n",
       "      <th>time</th>\n",
       "      <th></th>\n",
       "      <th></th>\n",
       "    </tr>\n",
       "  </thead>\n",
       "  <tbody>\n",
       "    <tr>\n",
       "      <th>1</th>\n",
       "      <td>C0</td>\n",
       "      <td>188</td>\n",
       "    </tr>\n",
       "    <tr>\n",
       "      <th>1</th>\n",
       "      <td>C4</td>\n",
       "      <td>70</td>\n",
       "    </tr>\n",
       "    <tr>\n",
       "      <th>1</th>\n",
       "      <td>C4</td>\n",
       "      <td>107</td>\n",
       "    </tr>\n",
       "    <tr>\n",
       "      <th>1</th>\n",
       "      <td>C3</td>\n",
       "      <td>527</td>\n",
       "    </tr>\n",
       "    <tr>\n",
       "      <th>1</th>\n",
       "      <td>C3</td>\n",
       "      <td>537</td>\n",
       "    </tr>\n",
       "  </tbody>\n",
       "</table>\n",
       "</div>"
      ],
      "text/plain": [
       "     source computer  byte count\n",
       "time                            \n",
       "1                 C0         188\n",
       "1                 C4          70\n",
       "1                 C4         107\n",
       "1                 C3         527\n",
       "1                 C3         537"
      ]
     },
     "execution_count": 20,
     "metadata": {},
     "output_type": "execute_result"
    }
   ],
   "source": [
    "import pandas as pd\n",
    "import numpy as np\n",
    "%matplotlib inline\n",
    "\n",
    "number_of_hosts = 5\n",
    "time_limits = [1,10]\n",
    "\n",
    "df = pd.read_csv('../../../diploma/generated_data/flows.txt', header=None)\n",
    "\n",
    "df.columns = ['time', 'source computer', 'byte count']\n",
    "\n",
    "df.index = df['time']\n",
    "df.drop(columns=['time'],inplace=True)\n",
    "df.sort_index(inplace=True)\n",
    "df.head()"
   ]
  },
  {
   "cell_type": "markdown",
   "metadata": {},
   "source": [
    "For better illustration we will plot these points in a two dimensional grid"
   ]
  },
  {
   "cell_type": "markdown",
   "metadata": {},
   "source": [
    "In the following we plot the for each host the flows per bin and after temporal bins format."
   ]
  },
  {
   "cell_type": "code",
   "execution_count": 21,
   "metadata": {},
   "outputs": [
    {
     "name": "stdout",
     "output_type": "stream",
     "text": [
      "The borders of the bins created:  [ 1  2  3  4  5  6  7  8  9 10 11]\n"
     ]
    }
   ],
   "source": [
    "# keep track of the different host TODO\n",
    "\n",
    "hosts = np.array(list(set(df['source computer'].values)))\n",
    "hosts.sort()\n",
    "\n",
    "# Create buckets based on the time of the events, a bucker for every size_of_bin_seconds seconds\n",
    "\n",
    "size_of_bin_seconds = 1\n",
    "bins = np.arange(df.index.min(), df.index.max() + size_of_bin_seconds + 1, size_of_bin_seconds)\n",
    "print('The borders of the bins created: ', bins)"
   ]
  },
  {
   "cell_type": "markdown",
   "metadata": {},
   "source": [
    "In this ty example we create a bin for each time index. In the final dataset this will correspond to a bin every second"
   ]
  },
  {
   "cell_type": "code",
   "execution_count": 22,
   "metadata": {},
   "outputs": [],
   "source": [
    "# group by the correct bin and the source computer\n",
    "\n",
    "groups = df[['byte count','source computer']].groupby([np.digitize(df.index, bins),'source computer'])\n",
    "\n",
    "mean_values = groups.mean().values\n",
    "count_values = groups.count().values"
   ]
  },
  {
   "cell_type": "code",
   "execution_count": 23,
   "metadata": {},
   "outputs": [
    {
     "data": {
      "image/png": "[encoded data removed]",
      "text/plain": [
       "<matplotlib.figure.Figure at 0x1b72e972080>"
      ]
     },
     "metadata": {},
     "output_type": "display_data"
    }
   ],
   "source": [
    "import matplotlib.pyplot as plt\n",
    "\n",
    "from pylab import rcParams\n",
    "rcParams['figure.figsize'] = 16, 9\n",
    "\n",
    "for i in range(number_of_hosts):\n",
    "    if number_of_hosts % 2 == 0:\n",
    "        plt.subplot(number_of_hosts/2, 2, i + 1)\n",
    "    else:\n",
    "        if i < number_of_hosts - 1:\n",
    "            plt.subplot(int(number_of_hosts/2) + 1, 2, i + 1)\n",
    "        else:\n",
    "            plt.subplot(int(number_of_hosts/2) + 1, 1, int(number_of_hosts/2) + 1)\n",
    "\n",
    "    df_for_host = df[df['source computer'].isin([hosts[i]])]\n",
    "    plt.bar(df_for_host.index, df_for_host['byte count'], label=hosts[i], color='blue')\n",
    "\n",
    "    plt.title('Flows for host ' + hosts[i])\n",
    "    plt.xlim([time_limits[0] - 1, time_limits[1] + 1])\n",
    "    plt.legend()\n",
    "    \n",
    "plt.tight_layout()\n",
    "plt.show()"
   ]
  },
  {
   "cell_type": "code",
   "execution_count": 24,
   "metadata": {},
   "outputs": [
    {
     "data": {
      "image/png": "[encoded data removed]",
      "text/plain": [
       "<matplotlib.figure.Figure at 0x1b72b24eb38>"
      ]
     },
     "metadata": {},
     "output_type": "display_data"
    }
   ],
   "source": [
    "markers = ['v', 'x', '.', 's', 'p']\n",
    "\n",
    "for i in range(number_of_hosts):\n",
    "    filter_list = [x for x in groups.apply(lambda x:  (x['source computer'] == hosts[i]).values[0])]\n",
    "    \n",
    "    plt.scatter(count_values[filter_list], mean_values[filter_list], s=200, \n",
    "                marker=markers[i % len(markers)], label=hosts[i])\n",
    "    \n",
    "plt.title('Average bytes by count of flows in bins', fontsize=18)\n",
    "plt.legend()\n",
    "plt.grid()\n",
    "plt.tight_layout()\n",
    "plt.show()"
   ]
  },
  {
   "cell_type": "code",
   "execution_count": null,
   "metadata": {},
   "outputs": [],
   "source": []
  },
  {
   "cell_type": "markdown",
   "metadata": {},
   "source": [
    "### Global and host - specific means\n",
    "\n",
    "As a first naive approach we calculate the mean for each individual host and the global mean generated from these meassurements\n",
    "\n",
    "First we preprocess the data\n",
    "\n",
    "As all data will have a positive value we could just scale them using a simple approach:\n",
    "\n",
    "$$log(x + 1)$$"
   ]
  },
  {
   "cell_type": "code",
   "execution_count": 25,
   "metadata": {},
   "outputs": [
    {
     "data": {
      "text/html": [
       "<div>\n",
       "<style scoped>\n",
       "    .dataframe tbody tr th:only-of-type {\n",
       "        vertical-align: middle;\n",
       "    }\n",
       "\n",
       "    .dataframe tbody tr th {\n",
       "        vertical-align: top;\n",
       "    }\n",
       "\n",
       "    .dataframe thead th {\n",
       "        text-align: right;\n",
       "    }\n",
       "</style>\n",
       "<table border=\"1\" class=\"dataframe\">\n",
       "  <thead>\n",
       "    <tr style=\"text-align: right;\">\n",
       "      <th></th>\n",
       "      <th></th>\n",
       "      <th>number of flows</th>\n",
       "      <th>mean(byte count)</th>\n",
       "    </tr>\n",
       "    <tr>\n",
       "      <th></th>\n",
       "      <th>source computer</th>\n",
       "      <th></th>\n",
       "      <th></th>\n",
       "    </tr>\n",
       "  </thead>\n",
       "  <tbody>\n",
       "    <tr>\n",
       "      <th rowspan=\"5\" valign=\"top\">1</th>\n",
       "      <th>C0</th>\n",
       "      <td>3</td>\n",
       "      <td>160.333333</td>\n",
       "    </tr>\n",
       "    <tr>\n",
       "      <th>C1</th>\n",
       "      <td>1</td>\n",
       "      <td>977.000000</td>\n",
       "    </tr>\n",
       "    <tr>\n",
       "      <th>C2</th>\n",
       "      <td>1</td>\n",
       "      <td>125.000000</td>\n",
       "    </tr>\n",
       "    <tr>\n",
       "      <th>C3</th>\n",
       "      <td>3</td>\n",
       "      <td>536.333333</td>\n",
       "    </tr>\n",
       "    <tr>\n",
       "      <th>C4</th>\n",
       "      <td>2</td>\n",
       "      <td>88.500000</td>\n",
       "    </tr>\n",
       "  </tbody>\n",
       "</table>\n",
       "</div>"
      ],
      "text/plain": [
       "                   number of flows  mean(byte count)\n",
       "  source computer                                   \n",
       "1 C0                             3        160.333333\n",
       "  C1                             1        977.000000\n",
       "  C2                             1        125.000000\n",
       "  C3                             3        536.333333\n",
       "  C4                             2         88.500000"
      ]
     },
     "execution_count": 25,
     "metadata": {},
     "output_type": "execute_result"
    }
   ],
   "source": [
    "data = groups.count()\n",
    "data.columns = ['number of flows']\n",
    "data['mean(byte count)'] = groups.mean().values\n",
    "\n",
    "data.head()"
   ]
  },
  {
   "cell_type": "code",
   "execution_count": 26,
   "metadata": {},
   "outputs": [],
   "source": [
    "def scale(x):\n",
    "    return np.log(x + 1)"
   ]
  },
  {
   "cell_type": "code",
   "execution_count": 27,
   "metadata": {},
   "outputs": [],
   "source": [
    "data_by_host = {}\n",
    "\n",
    "for host in hosts:\n",
    "    for i in range(len(bins) - 1):\n",
    "        try:\n",
    "            values = scale(data.loc[(i + 1, host)].values)\n",
    "        except:\n",
    "            values = scale(np.array([0, 0]))\n",
    "        if i == 0:\n",
    "            data_by_host[host] = np.array([values])\n",
    "        else:\n",
    "            data_by_host[host] = np.append(data_by_host[host], np.array([values]), axis=0)"
   ]
  },
  {
   "cell_type": "code",
   "execution_count": null,
   "metadata": {},
   "outputs": [],
   "source": []
  },
  {
   "cell_type": "markdown",
   "metadata": {},
   "source": [
    "Perhaps the log function will \"hide\" potential outliers and will not be a good match for the metric distance used later.\n",
    "Instead we will use a standard "
   ]
  },
  {
   "cell_type": "code",
   "execution_count": 28,
   "metadata": {},
   "outputs": [
    {
     "data": {
      "text/plain": [
       "MinMaxScaler(copy=True, feature_range=(0, 1))"
      ]
     },
     "execution_count": 28,
     "metadata": {},
     "output_type": "execute_result"
    }
   ],
   "source": [
    "from sklearn.preprocessing import MinMaxScaler\n",
    "\n",
    "scaler = MinMaxScaler()\n",
    "\n",
    "# to all data append [0, 0] so that [0, 0] is the mapped to [0, 0] with our new scaler\n",
    "scaler.fit(np.append(data.values, np.array([[0, 0]]), axis=0))"
   ]
  },
  {
   "cell_type": "code",
   "execution_count": 29,
   "metadata": {},
   "outputs": [],
   "source": [
    "data_by_host = {}\n",
    "\n",
    "for host in hosts:\n",
    "    for i in range(len(bins) - 1):\n",
    "        try:\n",
    "            values = scaler.transform([data.loc[(i + 1, host)].values])\n",
    "        except:\n",
    "            values = scaler.transform([np.array([0, 0])])\n",
    "        if i == 0:\n",
    "            data_by_host[host] = np.array(values)\n",
    "        else:\n",
    "            data_by_host[host] = np.append(data_by_host[host], np.array(values), axis=0)"
   ]
  },
  {
   "cell_type": "code",
   "execution_count": 30,
   "metadata": {},
   "outputs": [
    {
     "data": {
      "image/png": "[encoded data removed]",
      "text/plain": [
       "<matplotlib.figure.Figure at 0x1b72f5b5a58>"
      ]
     },
     "metadata": {},
     "output_type": "display_data"
    }
   ],
   "source": [
    "# the shrinkage\n",
    "shrinkage = 0.5\n",
    "\n",
    "i = 0\n",
    "means = []\n",
    "for host, data_for_host in data_by_host.items():\n",
    "    # two features used\n",
    "    x = data_for_host[:,0]\n",
    "    y = data_for_host[:,1]\n",
    "    plt.scatter(x, y, marker=markers[i % len(markers)], s=150, color='black', label='Host' + str(i + 1))\n",
    "    mean_x = sum(x)/len(x)\n",
    "    mean_y = sum(y)/len(y)\n",
    "    means.append([mean_x, mean_y])\n",
    "    \n",
    "    plt.scatter(mean_x, mean_y, marker=markers[i % len(markers)], s=150, color='red', label='Avg' + str(i + 1))\n",
    "    i += 1\n",
    "    if i == number_of_hosts:\n",
    "        break\n",
    "\n",
    "global_mean = [float(sum(col))/len(col) for col in zip(*means)]\n",
    "\n",
    "plt.scatter(global_mean[0], global_mean[1], marker='*', s=150, color='blue', label='Avg total')\n",
    "\n",
    "i = 0\n",
    "for mean in means:\n",
    "    if i == 0:\n",
    "        plt.plot([mean[0], global_mean[0]], [mean[1], global_mean[1]], '--', label='Shrinking', color='pink')\n",
    "    else:\n",
    "        plt.plot([mean[0], global_mean[0]], [mean[1], global_mean[1]], '--', color='pink')\n",
    "    i += 1\n",
    "\n",
    "i = 0\n",
    "for mean in means:\n",
    "    shrinked = np.array(mean) * (1 - shrinkage) + np.array(global_mean) * shrinkage\n",
    "    plt.scatter(shrinked[0], shrinked[1], marker=markers[i % len(markers)], s=150, color='pink', label='Host' + str(i + 1) + ' after shrinking')\n",
    "    i += 1\n",
    "\n",
    "plt.legend()\n",
    "\n",
    "\n",
    "# this is an inset axes over the main axes\n",
    "plt.axes([.15, .55, .33, .3])\n",
    "for i, mean in enumerate(means):\n",
    "    plt.scatter(mean[0], mean[1], marker=markers[i % len(markers)], s=100)\n",
    "    plt.plot([mean[0], global_mean[0]], [mean[1], global_mean[1]], '--', color='pink')\n",
    "    \n",
    "    shrinked = np.array(mean) * (1 - shrinkage) + np.array(global_mean) * shrinkage\n",
    "    plt.scatter(shrinked[0], shrinked[1], marker=markers[i % len(markers)], color='pink', s=100)\n",
    "    \n",
    "plt.scatter(global_mean[0], global_mean[1], marker='*', s=150, color='blue')\n",
    "\n",
    "plt.title('Average means')\n",
    "plt.xticks([])\n",
    "plt.yticks([])\n",
    "\n",
    "\n",
    "plt.show()"
   ]
  },
  {
   "cell_type": "code",
   "execution_count": null,
   "metadata": {},
   "outputs": [],
   "source": []
  },
  {
   "cell_type": "code",
   "execution_count": null,
   "metadata": {},
   "outputs": [],
   "source": []
  },
  {
   "cell_type": "markdown",
   "metadata": {},
   "source": [
    "First we will attempt a naive clustering of these points"
   ]
  },
  {
   "cell_type": "code",
   "execution_count": 31,
   "metadata": {},
   "outputs": [],
   "source": [
    "import itertools\n",
    "\n",
    "all_data = list(itertools.chain(*list(data_by_host.values())))"
   ]
  },
  {
   "cell_type": "code",
   "execution_count": 32,
   "metadata": {},
   "outputs": [
    {
     "name": "stdout",
     "output_type": "stream",
     "text": [
      "[[ 0.10526316  0.04211553]\n",
      " [ 0.43548387  0.08067899]]\n"
     ]
    }
   ],
   "source": [
    "from sklearn.cluster import KMeans\n",
    "\n",
    "kmeans = KMeans(n_clusters=2, random_state=0).fit(all_data)\n",
    "\n",
    "print(kmeans.cluster_centers_)"
   ]
  },
  {
   "cell_type": "markdown",
   "metadata": {},
   "source": [
    "A possible error that can occur is if the number of clusters in high and anomalies are similar, clusters may be formed around the anomalies.\n",
    "\n",
    "This can probably be accpted"
   ]
  },
  {
   "cell_type": "code",
   "execution_count": 33,
   "metadata": {},
   "outputs": [
    {
     "data": {
      "image/png": "[encoded data removed]",
      "text/plain": [
       "<matplotlib.figure.Figure at 0x1b72ebab198>"
      ]
     },
     "metadata": {},
     "output_type": "display_data"
    }
   ],
   "source": [
    "def distance_to_closest_cluster(X, kmeans):\n",
    "    distances = kmeans.transform(X)\n",
    "    return np.min(distances, axis=1)\n",
    "\n",
    "# plot the level sets of the decision function\n",
    "xx, yy = np.meshgrid(np.linspace(-0.2, 1.2, 50), np.linspace(-0.2, 1.2, 50))\n",
    "#Z = clf._decision_function(np.c_[xx.ravel(), yy.ravel()])\n",
    "Z = distance_to_closest_cluster(np.c_[xx.ravel(), yy.ravel()], kmeans)\n",
    "Z = Z.reshape(xx.shape)\n",
    "\n",
    "plt.title(\"Clustering distances\", fontsize=18)\n",
    "plt.contourf(xx, yy, Z, cmap=plt.cm.Blues_r)\n",
    "\n",
    "for center in kmeans.cluster_centers_:\n",
    "    a = plt.scatter(center[0], center[1], color='red', marker='x', s=150, linewidth=5)\n",
    "    \n",
    "for point in all_data:\n",
    "    b = plt.scatter(point[0], point[1], color='green', marker='o') \n",
    "\n",
    "plt.axis('tight')\n",
    "plt.xlim(-0.2,1.2)\n",
    "plt.ylim(-0.2,1.2)\n",
    "plt.legend([a, b], [\"cluster centers\",\"flow points\"], fontsize=14)\n",
    "plt.show()"
   ]
  },
  {
   "cell_type": "markdown",
   "metadata": {},
   "source": [
    "For the rest of this excercise we will be using the dataset provided at https://csr.lanl.gov/data/cyber1/ \n",
    "\n",
    "From the file flows.txt the first 100,000 lines will be initially used"
   ]
  },
  {
   "cell_type": "code",
   "execution_count": 34,
   "metadata": {},
   "outputs": [],
   "source": [
    "N = 20000\n",
    "\n",
    "df_N = pd.read_csv('../../../diploma/multi-source-syber-security-events/flows.txt', header=None, nrows=100000)"
   ]
  },
  {
   "cell_type": "code",
   "execution_count": 35,
   "metadata": {
    "scrolled": true
   },
   "outputs": [
    {
     "data": {
      "text/html": [
       "<div>\n",
       "<style scoped>\n",
       "    .dataframe tbody tr th:only-of-type {\n",
       "        vertical-align: middle;\n",
       "    }\n",
       "\n",
       "    .dataframe tbody tr th {\n",
       "        vertical-align: top;\n",
       "    }\n",
       "\n",
       "    .dataframe thead th {\n",
       "        text-align: right;\n",
       "    }\n",
       "</style>\n",
       "<table border=\"1\" class=\"dataframe\">\n",
       "  <thead>\n",
       "    <tr style=\"text-align: right;\">\n",
       "      <th></th>\n",
       "      <th>duration</th>\n",
       "      <th>source computer</th>\n",
       "      <th>source port</th>\n",
       "      <th>destination computer</th>\n",
       "      <th>destination port</th>\n",
       "      <th>protocol</th>\n",
       "      <th>packet count</th>\n",
       "      <th>byte count</th>\n",
       "    </tr>\n",
       "    <tr>\n",
       "      <th>time</th>\n",
       "      <th></th>\n",
       "      <th></th>\n",
       "      <th></th>\n",
       "      <th></th>\n",
       "      <th></th>\n",
       "      <th></th>\n",
       "      <th></th>\n",
       "      <th></th>\n",
       "    </tr>\n",
       "  </thead>\n",
       "  <tbody>\n",
       "    <tr>\n",
       "      <th>1</th>\n",
       "      <td>0</td>\n",
       "      <td>C1065</td>\n",
       "      <td>389</td>\n",
       "      <td>C3799</td>\n",
       "      <td>N10451</td>\n",
       "      <td>6</td>\n",
       "      <td>10</td>\n",
       "      <td>5323</td>\n",
       "    </tr>\n",
       "    <tr>\n",
       "      <th>1</th>\n",
       "      <td>0</td>\n",
       "      <td>C1423</td>\n",
       "      <td>N1136</td>\n",
       "      <td>C1707</td>\n",
       "      <td>N1</td>\n",
       "      <td>6</td>\n",
       "      <td>5</td>\n",
       "      <td>847</td>\n",
       "    </tr>\n",
       "    <tr>\n",
       "      <th>1</th>\n",
       "      <td>0</td>\n",
       "      <td>C1423</td>\n",
       "      <td>N1142</td>\n",
       "      <td>C1707</td>\n",
       "      <td>N1</td>\n",
       "      <td>6</td>\n",
       "      <td>5</td>\n",
       "      <td>847</td>\n",
       "    </tr>\n",
       "    <tr>\n",
       "      <th>1</th>\n",
       "      <td>0</td>\n",
       "      <td>C14909</td>\n",
       "      <td>N8191</td>\n",
       "      <td>C5720</td>\n",
       "      <td>2049</td>\n",
       "      <td>6</td>\n",
       "      <td>1</td>\n",
       "      <td>52</td>\n",
       "    </tr>\n",
       "    <tr>\n",
       "      <th>1</th>\n",
       "      <td>0</td>\n",
       "      <td>C14909</td>\n",
       "      <td>N8192</td>\n",
       "      <td>C5720</td>\n",
       "      <td>2049</td>\n",
       "      <td>6</td>\n",
       "      <td>1</td>\n",
       "      <td>52</td>\n",
       "    </tr>\n",
       "  </tbody>\n",
       "</table>\n",
       "</div>"
      ],
      "text/plain": [
       "      duration source computer source port destination computer  \\\n",
       "time                                                              \n",
       "1            0           C1065         389                C3799   \n",
       "1            0           C1423       N1136                C1707   \n",
       "1            0           C1423       N1142                C1707   \n",
       "1            0          C14909       N8191                C5720   \n",
       "1            0          C14909       N8192                C5720   \n",
       "\n",
       "     destination port  protocol  packet count  byte count  \n",
       "time                                                       \n",
       "1              N10451         6            10        5323  \n",
       "1                  N1         6             5         847  \n",
       "1                  N1         6             5         847  \n",
       "1                2049         6             1          52  \n",
       "1                2049         6             1          52  "
      ]
     },
     "execution_count": 35,
     "metadata": {},
     "output_type": "execute_result"
    }
   ],
   "source": [
    "df_N.columns = ['time', 'duration', 'source computer', 'source port', 'destination computer', \n",
    "              'destination port', 'protocol', 'packet count', 'byte count']\n",
    "\n",
    "df_N.index = df_N['time']\n",
    "df_N.drop(columns=['time'],inplace=True)\n",
    "df_N.head()"
   ]
  },
  {
   "cell_type": "code",
   "execution_count": 40,
   "metadata": {},
   "outputs": [],
   "source": [
    "from sklearn.preprocessing import MinMaxScaler\n",
    "\n",
    "def get_data_by_dataframe(df, size_of_bin_seconds=50):\n",
    "    \"\"\"\n",
    "    :param size_of_bin_seconds: the time period of each bin,\n",
    "                assumes the dataframe has a column names 'source computer' and a name 'byte count'\n",
    "    :return: a dictionary containing for each host the features, the hosts \n",
    "    \"\"\"\n",
    "    hosts = np.array(list(set(df['source computer'].values)))\n",
    "    \n",
    "    bins = np.arange(df.index.min(), df.index.max() + size_of_bin_seconds + 1, size_of_bin_seconds)\n",
    "    \n",
    "    groups = df[['byte count','source computer']].groupby([np.digitize(df.index, bins),'source computer'])\n",
    "\n",
    "    data = groups.count()\n",
    "    data.columns = ['number of flows']\n",
    "    data['mean(byte count)'] = groups.mean().values\n",
    "    \n",
    "    scaler = MinMaxScaler()\n",
    "    \n",
    "    # to all data append [0, 0] so that [0, 0] is the mapped to [0, 0] with our new scaler\n",
    "    scaler.fit(np.append(data.values, np.array([[0, 0]]), axis=0))\n",
    "    \n",
    "    data_by_host = {}\n",
    "     \n",
    "    for host in hosts:\n",
    "        for i in range(len(bins) - 1):\n",
    "            try:\n",
    "                values = scaler.transform([data.loc[(i + 1, host)].values])\n",
    "            except:\n",
    "                values = scaler.transform([np.array([0, 0])])\n",
    "            if i == 0:\n",
    "                data_by_host[host] = np.array(values)\n",
    "            else:\n",
    "                data_by_host[host] = np.append(data_by_host[host], np.array(values), axis=0)\n",
    "                \n",
    "    return data_by_host, hosts\n",
    "\n",
    "data_by_host_N, hosts_N = get_data_by_dataframe(df_N)"
   ]
  },
  {
   "cell_type": "markdown",
   "metadata": {},
   "source": [
    "For completeness display the two dimensional space created in this real dataset"
   ]
  },
  {
   "cell_type": "code",
   "execution_count": 43,
   "metadata": {},
   "outputs": [
    {
     "name": "stdout",
     "output_type": "stream",
     "text": [
      "[[  4.66933345e-04   1.68882257e-04]\n",
      " [  4.75772215e-03   5.66899773e-01]\n",
      " [  5.44701675e-01   5.68643147e-06]]\n"
     ]
    },
    {
     "data": {
      "image/png": "[encoded data removed]",
      "text/plain": [
       "<matplotlib.figure.Figure at 0x1b738684e80>"
      ]
     },
     "metadata": {},
     "output_type": "display_data"
    }
   ],
   "source": [
    "import itertools\n",
    "from sklearn.cluster import KMeans\n",
    "\n",
    "all_data_N = list(itertools.chain(*list(data_by_host_N.values())))\n",
    "\n",
    "kmeans_N = KMeans(n_clusters=3, random_state=0).fit(all_data_N)\n",
    "\n",
    "print(kmeans_N.cluster_centers_)\n",
    "\n",
    "# plot the level sets of the decision function\n",
    "xx, yy = np.meshgrid(np.linspace(-0.2, 1.2, 50), np.linspace(-0.2, 1.2, 50))\n",
    "#Z = clf._decision_function(np.c_[xx.ravel(), yy.ravel()])\n",
    "Z = distance_to_closest_cluster(np.c_[xx.ravel(), yy.ravel()], kmeans_N)\n",
    "Z = Z.reshape(xx.shape)\n",
    "\n",
    "plt.title(\"Clustering distances\", fontsize=18)\n",
    "plt.contourf(xx, yy, Z, cmap=plt.cm.Blues_r)\n",
    "\n",
    "\n",
    "# randomly scatter some only points\n",
    "choices = np.random.choice(len(all_data_N), 5000)\n",
    "\n",
    "for choice in choices:\n",
    "    point = all_data_N[choice]\n",
    "    b = plt.scatter(point[0], point[1], color='green', marker='o') \n",
    "\n",
    "for center in kmeans_N.cluster_centers_:\n",
    "    a = plt.scatter(center[0], center[1], color='red', marker='x', s=150, linewidth=5)\n",
    "        \n",
    "plt.axis('tight')\n",
    "plt.xlim(-0.2,1.2)\n",
    "plt.ylim(-0.2,1.2)\n",
    "plt.legend([a, b], [\"cluster centers\",\"flow points\"], fontsize=14)\n",
    "plt.show()"
   ]
  },
  {
   "cell_type": "code",
   "execution_count": null,
   "metadata": {},
   "outputs": [],
   "source": []
  }
 ],
 "metadata": {
  "kernelspec": {
   "display_name": "Python 3",
   "language": "python",
   "name": "python3"
  },
  "language_info": {
   "codemirror_mode": {
    "name": "ipython",
    "version": 3
   },
   "file_extension": ".py",
   "mimetype": "text/x-python",
   "name": "python",
   "nbconvert_exporter": "python",
   "pygments_lexer": "ipython3",
   "version": "3.6.0"
  }
 },
 "nbformat": 4,
 "nbformat_minor": 2
}
