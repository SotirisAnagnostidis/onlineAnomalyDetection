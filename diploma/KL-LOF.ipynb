{
 "cells": [
  {
   "cell_type": "code",
   "execution_count": 1,
   "metadata": {},
   "outputs": [],
   "source": [
    "from sklearn.externals import joblib\n",
    "\n",
    "onlineEM = joblib.load('pkl/onlineEM_15_days_7_alligned.pkl')"
   ]
  },
  {
   "cell_type": "code",
   "execution_count": 2,
   "metadata": {},
   "outputs": [],
   "source": [
    "import numpy as np\n",
    "\n",
    "m = onlineEM.m\n",
    "\n",
    "initialize = np.eye(m)\n",
    "\n",
    "for i in range(m):\n",
    "    for j in range(m):\n",
    "        if i != j:\n",
    "            initialize[i][j] = 0.5\n",
    "            \n",
    "    initialize[i] /= (1 + 0.5 * (m - 1))\n",
    "    \n",
    "for host in onlineEM.hosts:\n",
    "    tm = onlineEM.hosts[host]['transition_matrix']\n",
    "    for i, points in enumerate(onlineEM.hosts[host]['points_per_cluster']):\n",
    "        tm[i] = tm[i] * (points / (points + 1)) + initialize[i] / (points + 1)"
   ]
  },
  {
   "cell_type": "code",
   "execution_count": 3,
   "metadata": {},
   "outputs": [],
   "source": [
    "from numpy.linalg import norm\n",
    "import random as ran\n",
    "import numpy as np\n",
    "from math import log\n",
    "from scipy.linalg import eig \n",
    "import sys\n",
    "\n",
    "def my_kl_distance2(P, Q):\n",
    "    total_distance = 0\n",
    "    for i in range(len(P)):\n",
    "        if P[i] == 0:\n",
    "            continue\n",
    "        total_distance += P[i] * log(P[i]/Q[i])\n",
    "    return total_distance\n",
    "\n",
    "def my_solveStationary(A):\n",
    "    \"\"\" x = xA where x is the answer\n",
    "    x - xA = 0\n",
    "    x( I - A ) = 0 and sum(x) = 1\n",
    "    \"\"\"\n",
    "    n = A.shape[0]\n",
    "    a = np.eye( n ) - A\n",
    "    a = np.vstack( (a.T, np.ones( n )) )\n",
    "    b = np.matrix( [0] * n + [ 1 ] ).T\n",
    "    return np.squeeze(np.asarray(np.linalg.lstsq( a, b )[0]))\n",
    "\n",
    "def my_distance(A1, A2):\n",
    "    stationary = my_solveStationary(A1)\n",
    "    return sum([stationary[i] * (2*my_kl_distance2(A1[i], A2[i])) for i in range(len(stationary))])\n",
    "    #return sum([(2*kl_distance2(A1[i], A2[i])) for i in range(len(stationary))])\n",
    "\n",
    "def my_hmm_distance(A1, A2, K=7):\n",
    "    A1 = np.reshape(A1, (K, K))\n",
    "    A2 = np.reshape(A2, (K, K))\n",
    "    return (my_distance(A1, A2) + my_distance(A2, A1)) / 2"
   ]
  },
  {
   "cell_type": "code",
   "execution_count": 6,
   "metadata": {},
   "outputs": [],
   "source": [
    "X = []\n",
    "\n",
    "for host in onlineEM.hosts:\n",
    "    X.append(onlineEM.hosts[host]['transition_matrix'].ravel())"
   ]
  },
  {
   "cell_type": "code",
   "execution_count": 5,
   "metadata": {},
   "outputs": [],
   "source": [
    "from sklearn.neighbors import LocalOutlierFactor \n",
    "\n",
    "lof = LocalOutlierFactor(n_neighbors=10, algorithm='auto', leaf_size=30, metric=my_hmm_distance,contamination=0.005)\n",
    "\n",
    "y_pred = lof.fit_predict(X)"
   ]
  },
  {
   "cell_type": "code",
   "execution_count": 6,
   "metadata": {},
   "outputs": [
    {
     "name": "stdout",
     "output_type": "stream",
     "text": [
      "C5732\n",
      "C22271\n",
      "C5739\n",
      "C15086\n",
      "C20690\n",
      "C12366\n",
      "C4436\n",
      "C21986\n",
      "C2217\n",
      "C25525\n",
      "C2685\n",
      "C4473\n"
     ]
    }
   ],
   "source": [
    "i = 0\n",
    "for host in onlineEM.hosts:\n",
    "    if y_pred[i] == -1:\n",
    "        print(host)\n",
    "    i += 1"
   ]
  },
  {
   "cell_type": "code",
   "execution_count": 7,
   "metadata": {},
   "outputs": [
    {
     "data": {
      "text/plain": [
       "[['C27137', array([-0.88837353])],\n",
       " ['C12473', array([-0.89410751])],\n",
       " ['C6469', array([-0.89654995])],\n",
       " ['C6353', array([-0.89800753])],\n",
       " ['C4643', array([-0.89949698])],\n",
       " ['C6229', array([-0.90027119])],\n",
       " ['C144', array([-0.9009236])],\n",
       " ['C23382', array([-0.90177968])],\n",
       " ['C4593', array([-0.90525202])],\n",
       " ['C4745', array([-0.90541913])]]"
      ]
     },
     "execution_count": 7,
     "metadata": {},
     "output_type": "execute_result"
    }
   ],
   "source": [
    "distances = []\n",
    "for host in onlineEM.hosts:\n",
    "    distances.append([host, lof._decision_function([onlineEM.hosts[host]['transition_matrix'].ravel()])])\n",
    "\n",
    "sorted(distances, key=lambda x: -x[1])[:10]"
   ]
  },
  {
   "cell_type": "code",
   "execution_count": 8,
   "metadata": {},
   "outputs": [
    {
     "data": {
      "text/plain": [
       "[['C2685', array([-22360400.31721617])],\n",
       " ['C5732', array([-14373039.841265])],\n",
       " ['C2217', array([-8551388.23352829])],\n",
       " ['C20690', array([-3587592.5357136])],\n",
       " ['C22271', array([-2044197.29270694])],\n",
       " ['C4473', array([-1927185.73624539])],\n",
       " ['C15086', array([-1732276.38833306])],\n",
       " ['C5739', array([-1517944.372956])],\n",
       " ['C12366', array([-1501514.32207707])],\n",
       " ['C4436', array([-931478.59931947])]]"
      ]
     },
     "execution_count": 8,
     "metadata": {},
     "output_type": "execute_result"
    }
   ],
   "source": [
    "sorted(distances, key=lambda x: x[1])[:10]"
   ]
  },
  {
   "cell_type": "markdown",
   "metadata": {},
   "source": [
    "neighbors = 20\n",
    "\n",
    "0.02\n",
    "\n",
    "C6177\n",
    "C24135\n",
    "C5732\n",
    "C6016\n",
    "C18263\n",
    "C3873\n",
    "C23304\n",
    "C17185\n",
    "C2972\n",
    "C18261\n",
    "C4207\n",
    "C11573\n",
    "C3268\n",
    "C473\n",
    "C14014\n",
    "C2040\n",
    "C16029\n",
    "C6144\n",
    "C25059\n",
    "C21072\n",
    "C22967\n",
    "C6383\n",
    "C979\n",
    "C743\n",
    "C1059\n",
    "C5089\n",
    "C5688\n",
    "C5653\n",
    "C18057\n",
    "C9156\n",
    "C16712\n",
    "C21986\n",
    "C2217\n",
    "C5730\n",
    "C1592\n",
    "C3871\n",
    "C5624\n",
    "C1968\n",
    "C23769\n",
    "C5741\n",
    "C5753\n",
    "C4979\n",
    "C17874\n",
    "C25466\n",
    "C24136\n",
    "C6339\n",
    "\n",
    "0.005\n",
    "\n",
    "C18263\n",
    "C3873\n",
    "C23304\n",
    "C2972\n",
    "C18261\n",
    "C4207\n",
    "C14014\n",
    "C21072\n",
    "C5089\n",
    "C5653\n",
    "C18057\n",
    "C16712\n",
    "\n",
    "neighbors = 15\n",
    "\n",
    "0.005\n",
    "\n",
    "[['C23304', array([-21953.71514166])],\n",
    " ['C5653', array([-15267.28601233])],\n",
    " ['C5732', array([-6990.14215418])],\n",
    " ['C2685', array([-6002.80012367])],\n",
    " ['C2217', array([-5479.61569629])],\n",
    " ['C21986', array([-5057.10818874])],\n",
    " ['C22271', array([-4537.11154405])],\n",
    " ['C2040', array([-2438.24801088])],\n",
    " ['C20690', array([-1487.46729654])],\n",
    " ['C15459', array([-1273.65808549])]]\n",
    " \n",
    "neighbors = 10\n",
    "\n",
    "0.005\n",
    "\n",
    "[['C2685', array([-22360400.31721617])],\n",
    " ['C5732', array([-14373039.841265])],\n",
    " ['C2217', array([-8551388.23352829])],\n",
    " ['C20690', array([-3587592.5357136])],\n",
    " ['C22271', array([-2044197.29270694])],\n",
    " ['C4473', array([-1927185.73624539])],\n",
    " ['C15086', array([-1732276.38833306])],\n",
    " ['C5739', array([-1517944.372956])],\n",
    " ['C12366', array([-1501514.32207707])],\n",
    " ['C4436', array([-931478.59931947])]]"
   ]
  },
  {
   "cell_type": "code",
   "execution_count": 10,
   "metadata": {},
   "outputs": [],
   "source": [
    "import pandas as pd\n",
    "\n",
    "test1 = joblib.load('pkl/groupped_data_15_days_00001_04320.pkl')\n",
    "test2 = joblib.load('pkl/groupped_data_15_days_04321_08640.pkl')\n",
    "test3 = joblib.load('pkl/groupped_data_15_days_08641_12960.pkl')\n",
    "test4 = joblib.load('pkl/groupped_data_15_days_12961_17280.pkl')\n",
    "groupped_data = pd.concat([test1, test2, test3, test4])"
   ]
  },
  {
   "cell_type": "code",
   "execution_count": null,
   "metadata": {},
   "outputs": [],
   "source": []
  },
  {
   "cell_type": "code",
   "execution_count": 11,
   "metadata": {},
   "outputs": [
    {
     "name": "stderr",
     "output_type": "stream",
     "text": [
      "D:\\Sotiris\\Projects\\JupyterNotebooks\\onlineAnomalyDetection\\diploma\\emClustering.py:209: RuntimeWarning: invalid value encountered in true_divide\n",
      "  previous)\n"
     ]
    }
   ],
   "source": [
    "# RANDOM COMBINATION OF FLOWS AND NUMBER OF BYTES\n",
    "import random as ran\n",
    "import random\n",
    "\n",
    "random_flows = list(set(groupped_data['number of flows'].values))\n",
    "random_average_bytes = list(set(groupped_data['mean(byte count)'].values))\n",
    "\n",
    "anomalous_host = 'A50'\n",
    "epochs = 1500\n",
    "\n",
    "data = []\n",
    "for i in range(epochs):\n",
    "    #flows = ran.randint(1,50)\n",
    "    #average_bytes = ran.randint(1,50)\n",
    "    flows = random.choice(random_flows)\n",
    "    average_bytes = random.choice(random_average_bytes)\n",
    "    data.append([flows, average_bytes, anomalous_host])\n",
    "\n",
    "    \n",
    "for data_point in data:\n",
    "    onlineEM.update_host(data_point)"
   ]
  },
  {
   "cell_type": "code",
   "execution_count": null,
   "metadata": {},
   "outputs": [],
   "source": []
  },
  {
   "cell_type": "code",
   "execution_count": 14,
   "metadata": {},
   "outputs": [
    {
     "name": "stderr",
     "output_type": "stream",
     "text": [
      "D:\\Sotiris\\Projects\\JupyterNotebooks\\onlineAnomalyDetection\\diploma\\emClustering.py:209: RuntimeWarning: invalid value encountered in true_divide\n",
      "  previous)\n"
     ]
    }
   ],
   "source": [
    "#RANDOM VALUE ENCOUNTERED IN THE SET OF GROUPED_DATA\n",
    "import random as ran\n",
    "import random\n",
    "\n",
    "size = 10000\n",
    "\n",
    "test_df = groupped_data.head(size)\n",
    "unique_values = np.vstack({tuple(row) for row in test_df.values[:,:2]})\n",
    "\n",
    "anomalous_host = 'A61'\n",
    "epochs = 1500\n",
    "\n",
    "data = []\n",
    "for i in range(epochs):\n",
    "    values = random.choice(unique_values)\n",
    "    data.append([values[0], values[1], anomalous_host])\n",
    "\n",
    "    \n",
    "for data_point in data:\n",
    "    onlineEM.update_host(data_point)"
   ]
  },
  {
   "cell_type": "code",
   "execution_count": null,
   "metadata": {},
   "outputs": [],
   "source": []
  },
  {
   "cell_type": "code",
   "execution_count": 17,
   "metadata": {},
   "outputs": [],
   "source": [
    "#RANDOM VALUE ENCOUNTERED IN GROUPED_DATA\n",
    "import random as ran\n",
    "import random\n",
    "\n",
    "size = 10000\n",
    "\n",
    "test_df = groupped_data.head(size)\n",
    "\n",
    "anomalous_host = 'A72'\n",
    "epochs = 1500\n",
    "\n",
    "data = []\n",
    "for i in range(epochs):\n",
    "    values = random.choice(test_df.values[:,:2])\n",
    "    data.append([values[0], values[1], anomalous_host])\n",
    "\n",
    "    \n",
    "for data_point in data:\n",
    "    onlineEM.update_host(data_point)"
   ]
  },
  {
   "cell_type": "code",
   "execution_count": null,
   "metadata": {},
   "outputs": [],
   "source": []
  },
  {
   "cell_type": "code",
   "execution_count": 18,
   "metadata": {},
   "outputs": [],
   "source": [
    "tm = onlineEM.hosts[anomalous_host]['transition_matrix']\n",
    "for i, points in enumerate(onlineEM.hosts[anomalous_host]['points_per_cluster']):\n",
    "    tm[i] = tm[i] * (points / (points + 1)) + initialize[i] / (points + 1)"
   ]
  },
  {
   "cell_type": "code",
   "execution_count": null,
   "metadata": {},
   "outputs": [],
   "source": []
  },
  {
   "cell_type": "code",
   "execution_count": null,
   "metadata": {},
   "outputs": [],
   "source": []
  },
  {
   "cell_type": "code",
   "execution_count": 13,
   "metadata": {},
   "outputs": [
    {
     "name": "stdout",
     "output_type": "stream",
     "text": [
      "For host A50\n"
     ]
    },
    {
     "data": {
      "text/plain": [
       "array([-189.37802117])"
      ]
     },
     "execution_count": 13,
     "metadata": {},
     "output_type": "execute_result"
    }
   ],
   "source": [
    "print('For host', anomalous_host)\n",
    "lof._decision_function([onlineEM.hosts[anomalous_host]['transition_matrix'].ravel()])"
   ]
  },
  {
   "cell_type": "code",
   "execution_count": 16,
   "metadata": {},
   "outputs": [
    {
     "name": "stdout",
     "output_type": "stream",
     "text": [
      "For host A61\n"
     ]
    },
    {
     "data": {
      "text/plain": [
       "array([-1.68110665])"
      ]
     },
     "execution_count": 16,
     "metadata": {},
     "output_type": "execute_result"
    }
   ],
   "source": [
    "print('For host', anomalous_host)\n",
    "lof._decision_function([onlineEM.hosts[anomalous_host]['transition_matrix'].ravel()])"
   ]
  },
  {
   "cell_type": "code",
   "execution_count": 19,
   "metadata": {},
   "outputs": [
    {
     "name": "stdout",
     "output_type": "stream",
     "text": [
      "For host A72\n"
     ]
    },
    {
     "data": {
      "text/plain": [
       "array([-2.06129155])"
      ]
     },
     "execution_count": 19,
     "metadata": {},
     "output_type": "execute_result"
    }
   ],
   "source": [
    "print('For host', anomalous_host)\n",
    "lof._decision_function([onlineEM.hosts[anomalous_host]['transition_matrix'].ravel()])"
   ]
  },
  {
   "cell_type": "code",
   "execution_count": 20,
   "metadata": {},
   "outputs": [],
   "source": [
    "import random as ran\n",
    "\n",
    "def random_vector(size=7):\n",
    "    vec = [ran.random() for i in range(size)]\n",
    "    return np.array(vec) / sum(vec)\n",
    "\n",
    "def random_transition_matrix(size=7):\n",
    "    return np.vstack([random_vector(size=size) for i in range(size)])"
   ]
  },
  {
   "cell_type": "code",
   "execution_count": 25,
   "metadata": {},
   "outputs": [
    {
     "data": {
      "text/plain": [
       "array([-6.3504255])"
      ]
     },
     "execution_count": 25,
     "metadata": {},
     "output_type": "execute_result"
    }
   ],
   "source": [
    "lof._decision_function([random_transition_matrix().ravel()])"
   ]
  },
  {
   "cell_type": "code",
   "execution_count": 45,
   "metadata": {},
   "outputs": [
    {
     "data": {
      "text/plain": [
       "0.2896825396825397"
      ]
     },
     "execution_count": 45,
     "metadata": {},
     "output_type": "execute_result"
    }
   ],
   "source": [
    "def percentage_anomalous(sorted_distances, value):\n",
    "    total = len(sorted_distances)\n",
    "    values_smaller = len(np.where(np.vstack(np.array(sorted_distances, dtype=object))[:, 1] < value)[0])\n",
    "    return values_smaller / total\n",
    "\n",
    "percentage_anomalous(sorted(distances, key=lambda x: -x[1]), -1.6)"
   ]
  },
  {
   "cell_type": "code",
   "execution_count": null,
   "metadata": {},
   "outputs": [],
   "source": []
  },
  {
   "cell_type": "code",
   "execution_count": null,
   "metadata": {},
   "outputs": [],
   "source": []
  },
  {
   "cell_type": "code",
   "execution_count": null,
   "metadata": {},
   "outputs": [],
   "source": []
  },
  {
   "cell_type": "code",
   "execution_count": null,
   "metadata": {},
   "outputs": [],
   "source": []
  },
  {
   "cell_type": "code",
   "execution_count": 8,
   "metadata": {},
   "outputs": [],
   "source": [
    "from sklearn.decomposition import PCA\n",
    "\n",
    "pca = PCA(n_components=2)\n",
    "Y = pca.fit_transform(X)"
   ]
  },
  {
   "cell_type": "code",
   "execution_count": 9,
   "metadata": {},
   "outputs": [
    {
     "data": {
      "text/plain": [
       "array([ 0.63973451, -0.33119189])"
      ]
     },
     "execution_count": 9,
     "metadata": {},
     "output_type": "execute_result"
    }
   ],
   "source": [
    "import matplotlib.pyplot as plt\n",
    "%matplotlib inlin"
   ]
  }
 ],
 "metadata": {
  "kernelspec": {
   "display_name": "Python 3",
   "language": "python",
   "name": "python3"
  },
  "language_info": {
   "codemirror_mode": {
    "name": "ipython",
    "version": 3
   },
   "file_extension": ".py",
   "mimetype": "text/x-python",
   "name": "python",
   "nbconvert_exporter": "python",
   "pygments_lexer": "ipython3",
   "version": "3.6.0"
  }
 },
 "nbformat": 4,
 "nbformat_minor": 2
}
