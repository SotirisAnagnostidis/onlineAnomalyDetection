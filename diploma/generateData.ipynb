{
 "cells": [
  {
   "cell_type": "code",
   "execution_count": 30,
   "metadata": {},
   "outputs": [],
   "source": [
    "#generate data for users\n",
    "import numpy as np\n",
    "from random import randint\n",
    "%matplotlib inline\n",
    "\n",
    "flows = []\n",
    "\n",
    "def create_flow(user, number_of_flows, time_limits, byte_limits):\n",
    "    for _ in range(number_of_flows):\n",
    "        time = randint(time_limits[0], time_limits[1])\n",
    "        byte_count = randint(byte_limits[0], byte_limits[1])\n",
    "        flows.append([time, user, byte_count])\n",
    "\n",
    "for i in range(100):\n",
    "    create_flow('C' + str(i), 2000, [1,200], [100, 130])\n",
    "for i in range(100):\n",
    "    create_flow('C' + str(100 + i), 1000, [1,200], [100, 130])\n",
    "for i in range(100):\n",
    "    create_flow('C' + str(200 + i), 400, [1,200], [500, 1000])\n",
    "for i in range(100):\n",
    "    create_flow('C' + str(300 + i), 200, [1,200], [500, 1000])\n",
    "for i in range(100):\n",
    "    create_flow('C' + str(400 + i), 100, [1,200], [100, 130])\n",
    "        \n",
    "flows.append([7, 'C' + str(404), 45500])\n",
    "flows.append([7, 'C' + str(404), 59500])\n",
    "flows.append([7, 'C' + str(404), 65500])\n"
   ]
  },
  {
   "cell_type": "code",
   "execution_count": 31,
   "metadata": {},
   "outputs": [],
   "source": [
    "import pandas as pd\n",
    "\n",
    "df = pd.DataFrame(flows)"
   ]
  },
  {
   "cell_type": "code",
   "execution_count": 32,
   "metadata": {},
   "outputs": [
    {
     "data": {
      "text/html": [
       "<div>\n",
       "<style scoped>\n",
       "    .dataframe tbody tr th:only-of-type {\n",
       "        vertical-align: middle;\n",
       "    }\n",
       "\n",
       "    .dataframe tbody tr th {\n",
       "        vertical-align: top;\n",
       "    }\n",
       "\n",
       "    .dataframe thead th {\n",
       "        text-align: right;\n",
       "    }\n",
       "</style>\n",
       "<table border=\"1\" class=\"dataframe\">\n",
       "  <thead>\n",
       "    <tr style=\"text-align: right;\">\n",
       "      <th></th>\n",
       "      <th>0</th>\n",
       "      <th>1</th>\n",
       "      <th>2</th>\n",
       "    </tr>\n",
       "  </thead>\n",
       "  <tbody>\n",
       "    <tr>\n",
       "      <th>248747</th>\n",
       "      <td>44</td>\n",
       "      <td>C148</td>\n",
       "      <td>113</td>\n",
       "    </tr>\n",
       "    <tr>\n",
       "      <th>258803</th>\n",
       "      <td>5</td>\n",
       "      <td>C158</td>\n",
       "      <td>123</td>\n",
       "    </tr>\n",
       "    <tr>\n",
       "      <th>248565</th>\n",
       "      <td>10</td>\n",
       "      <td>C148</td>\n",
       "      <td>120</td>\n",
       "    </tr>\n",
       "    <tr>\n",
       "      <th>142556</th>\n",
       "      <td>182</td>\n",
       "      <td>C71</td>\n",
       "      <td>127</td>\n",
       "    </tr>\n",
       "    <tr>\n",
       "      <th>106930</th>\n",
       "      <td>146</td>\n",
       "      <td>C53</td>\n",
       "      <td>110</td>\n",
       "    </tr>\n",
       "  </tbody>\n",
       "</table>\n",
       "</div>"
      ],
      "text/plain": [
       "          0     1    2\n",
       "248747   44  C148  113\n",
       "258803    5  C158  123\n",
       "248565   10  C148  120\n",
       "142556  182   C71  127\n",
       "106930  146   C53  110"
      ]
     },
     "execution_count": 32,
     "metadata": {},
     "output_type": "execute_result"
    }
   ],
   "source": [
    "df = df.sample(frac=1)\n",
    "df.head()"
   ]
  },
  {
   "cell_type": "code",
   "execution_count": 33,
   "metadata": {},
   "outputs": [],
   "source": [
    "# Save data for future work\n",
    "\n",
    "df.to_csv('../../../diploma/generated_data/500_400000(non_uniform)_1-200_True_C4_7.txt', header=False, index=False)"
   ]
  },
  {
   "cell_type": "code",
   "execution_count": null,
   "metadata": {},
   "outputs": [],
   "source": []
  }
 ],
 "metadata": {
  "kernelspec": {
   "display_name": "Python 3",
   "language": "python",
   "name": "python3"
  },
  "language_info": {
   "codemirror_mode": {
    "name": "ipython",
    "version": 3
   },
   "file_extension": ".py",
   "mimetype": "text/x-python",
   "name": "python",
   "nbconvert_exporter": "python",
   "pygments_lexer": "ipython3",
   "version": "3.6.0"
  }
 },
 "nbformat": 4,
 "nbformat_minor": 2
}
