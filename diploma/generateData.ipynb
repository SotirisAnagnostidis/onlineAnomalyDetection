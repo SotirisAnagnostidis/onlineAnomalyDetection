{
 "cells": [
  {
   "cell_type": "code",
   "execution_count": 16,
   "metadata": {},
   "outputs": [],
   "source": [
    "#generate data for users\n",
    "import numpy as np\n",
    "from random import randint\n",
    "%matplotlib inline\n",
    "\n",
    "flows = []\n",
    "\n",
    "def create_flow(user, number_of_flows, time_limits, byte_limits):\n",
    "    for _ in range(number_of_flows):\n",
    "        time = randint(time_limits[0], time_limits[1])\n",
    "        byte_count = randint(byte_limits[0], byte_limits[1])\n",
    "        flows.append([time, user, byte_count])\n",
    "\n",
    "for i in range(100):\n",
    "    create_flow('C' + str(i), 1000, [1,100], [100, 130])\n",
    "for i in range(100):\n",
    "    create_flow('C' + str(100 + i), 500, [1,100], [80, 130])\n",
    "for i in range(100):\n",
    "    create_flow('C' + str(200 + i), 200, [1,100], [50, 150])\n",
    "for i in range(100):\n",
    "    create_flow('C' + str(300 + i), 100, [1,100], [120, 180])\n",
    "for i in range(100):\n",
    "    create_flow('C' + str(400 + i), 50, [1,100], [100, 130])\n",
    "        \n",
    "flows.append([7, 'C' + str(404), 45500])\n",
    "flows.append([7, 'C' + str(404), 59500])\n",
    "flows.append([7, 'C' + str(404), 65500])\n"
   ]
  },
  {
   "cell_type": "code",
   "execution_count": 17,
   "metadata": {},
   "outputs": [],
   "source": [
    "import pandas as pd\n",
    "\n",
    "df = pd.DataFrame(flows)"
   ]
  },
  {
   "cell_type": "code",
   "execution_count": 18,
   "metadata": {},
   "outputs": [],
   "source": [
    "# Save data for future work\n",
    "\n",
    "df.to_csv('../../../diploma/generated_data/500_200000(non_uniform)_1-100_True_C4_7.txt', header=False, index=False)"
   ]
  },
  {
   "cell_type": "code",
   "execution_count": null,
   "metadata": {},
   "outputs": [],
   "source": []
  }
 ],
 "metadata": {
  "kernelspec": {
   "display_name": "Python 3",
   "language": "python",
   "name": "python3"
  },
  "language_info": {
   "codemirror_mode": {
    "name": "ipython",
    "version": 3
   },
   "file_extension": ".py",
   "mimetype": "text/x-python",
   "name": "python",
   "nbconvert_exporter": "python",
   "pygments_lexer": "ipython3",
   "version": "3.6.0"
  }
 },
 "nbformat": 4,
 "nbformat_minor": 2
}
