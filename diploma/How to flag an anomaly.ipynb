{
 "cells": [
  {
   "cell_type": "markdown",
   "metadata": {},
   "source": [
    "### Poisson distribution\n",
    "\n",
    "As poisson is not a symmetrical distribution it is harder to mark an anomaly\n",
    "\n",
    "An approach could be consider as normal all points with the largest mass function value summing up to a percentage"
   ]
  },
  {
   "cell_type": "code",
   "execution_count": 11,
   "metadata": {},
   "outputs": [
    {
     "data": {
      "text/plain": [
       "<matplotlib.collections.LineCollection at 0x23151b4bf60>"
      ]
     },
     "execution_count": 11,
     "metadata": {},
     "output_type": "execute_result"
    },
    {
     "data": {
      "image/png": "[encoded data removed]",
      "text/plain": [
       "<matplotlib.figure.Figure at 0x23151a294a8>"
      ]
     },
     "metadata": {},
     "output_type": "display_data"
    }
   ],
   "source": [
    "# Example \n",
    "# consider the following Poisson distribution\n",
    "\n",
    "from scipy.stats import poisson\n",
    "import matplotlib.pyplot as plt\n",
    "import numpy as np\n",
    "\n",
    "mu = 42\n",
    "\n",
    "threshold = 0.01\n",
    "\n",
    "fig, ax = plt.subplots(1, 1)\n",
    "\n",
    "x = np.arange(poisson.ppf(threshold, mu),\n",
    "               poisson.ppf(1 - threshold, mu))\n",
    "ax.plot(x, poisson.pmf(x, mu), 'bo', ms=8, label='poisson pmf')\n",
    "ax.vlines(x, 0, poisson.pmf(x, mu), colors='b', lw=5, alpha=0.5)"
   ]
  },
  {
   "cell_type": "markdown",
   "metadata": {},
   "source": [
    "Points poisson.ppf(threshold, mu) and poisson.ppf(1 - threshold, mu) could be considered as the anomalies pointers\n",
    "\n",
    "For example consider we have the following centers for the poisson distributions\n",
    "\n",
    "$$array([1,10,15,28]) $$\n",
    "       \n",
    "with probabilities \n",
    "\n",
    "$$ gammas = [0.25, 0.25, 0.25, 0.25] $$"
   ]
  },
  {
   "cell_type": "code",
   "execution_count": 15,
   "metadata": {},
   "outputs": [],
   "source": [
    "lambdas = np.array([1,10,15,28])\n",
    "\n",
    "gammas = np.array([0.25, 0.25, 0.25, 0.25])"
   ]
  },
  {
   "cell_type": "markdown",
   "metadata": {},
   "source": [
    "Check if it part of any any of the distribution"
   ]
  },
  {
   "cell_type": "code",
   "execution_count": 17,
   "metadata": {},
   "outputs": [
    {
     "name": "stdout",
     "output_type": "stream",
     "text": [
      "Testing for value 5\n",
      "The thresholds are: 0.0 and: 3.0\n",
      "Outside the bounds\n",
      "\n",
      "The thresholds are: 5.0 and: 16.0\n",
      "It is within the bounds\n",
      "\n",
      "The thresholds are: 9.0 and: 22.0\n",
      "Outside the bounds\n",
      "\n",
      "The thresholds are: 19.0 and: 38.0\n",
      "Outside the bounds\n",
      "\n"
     ]
    }
   ],
   "source": [
    "threshold = 0.01\n",
    "test_value = 5\n",
    "print('Testing for value', test_value)\n",
    "\n",
    "for lamdba_i, gamma_i in zip(lambdas, gammas):\n",
    "    low_bound = poisson.ppf(threshold/gamma_i, lamdba_i)\n",
    "    high_bound = poisson.ppf(1 - threshold/gamma_i, lamdba_i)\n",
    "    print('The thresholds are:', low_bound, 'and:', high_bound)\n",
    "    if test_value >= low_bound and test_value <= high_bound:\n",
    "        print('It is within the bounds')\n",
    "    else:\n",
    "        print('Outside the bounds')\n",
    "    print()"
   ]
  },
  {
   "cell_type": "code",
   "execution_count": 27,
   "metadata": {},
   "outputs": [
    {
     "data": {
      "text/plain": [
       "True"
      ]
     },
     "execution_count": 27,
     "metadata": {},
     "output_type": "execute_result"
    }
   ],
   "source": [
    "np.any(np.array([test_value >= poisson.ppf(threshold/gamma_i, lamdba_i) and test_value <= poisson.ppf(1 - threshold/gamma_i, lamdba_i)\n",
    "          for lamdba_i, gamma_i in zip(lambdas, gammas)]))"
   ]
  },
  {
   "cell_type": "markdown",
   "metadata": {},
   "source": [
    "An alternative for an easier anomaly score would be to consider as normal all points with a mass function value larger than a threshold."
   ]
  },
  {
   "cell_type": "code",
   "execution_count": 37,
   "metadata": {},
   "outputs": [
    {
     "data": {
      "text/plain": [
       "0.014605089858124745"
      ]
     },
     "execution_count": 37,
     "metadata": {},
     "output_type": "execute_result"
    }
   ],
   "source": [
    "poisson.pmf(42, 53.9632079711726)"
   ]
  }
 ],
 "metadata": {
  "kernelspec": {
   "display_name": "Python 3",
   "language": "python",
   "name": "python3"
  },
  "language_info": {
   "codemirror_mode": {
    "name": "ipython",
    "version": 3
   },
   "file_extension": ".py",
   "mimetype": "text/x-python",
   "name": "python",
   "nbconvert_exporter": "python",
   "pygments_lexer": "ipython3",
   "version": "3.6.0"
  }
 },
 "nbformat": 4,
 "nbformat_minor": 2
}
