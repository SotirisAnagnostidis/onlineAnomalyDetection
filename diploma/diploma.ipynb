{
 "cells": [
  {
   "cell_type": "markdown",
   "metadata": {},
   "source": [
    "### Outlier Factors for Device Profiling"
   ]
  },
  {
   "cell_type": "markdown",
   "metadata": {},
   "source": [
    "From https://csr.lanl.gov/data/cyber1/ the flows.txt file is originally used\n",
    "\n",
    "Each line is a individual event based on he format:\n",
    "\n",
    "\"time,duration,source computer,source port,destination computer,destination port,protocol,packet count,byte count\""
   ]
  },
  {
   "cell_type": "code",
   "execution_count": 2,
   "metadata": {},
   "outputs": [],
   "source": [
    "import pandas as pd\n",
    "%matplotlib inline"
   ]
  },
  {
   "cell_type": "code",
   "execution_count": 356,
   "metadata": {},
   "outputs": [],
   "source": [
    "df = pd.read_csv('D:/Sotiris/Projects/diploma/multi-source-syber-security-events/flows_10000_lines.txt', header=None)"
   ]
  },
  {
   "cell_type": "markdown",
   "metadata": {},
   "source": [
    "For this example all "
   ]
  },
  {
   "cell_type": "code",
   "execution_count": 357,
   "metadata": {},
   "outputs": [
    {
     "data": {
      "text/html": [
       "<div>\n",
       "<style scoped>\n",
       "    .dataframe tbody tr th:only-of-type {\n",
       "        vertical-align: middle;\n",
       "    }\n",
       "\n",
       "    .dataframe tbody tr th {\n",
       "        vertical-align: top;\n",
       "    }\n",
       "\n",
       "    .dataframe thead th {\n",
       "        text-align: right;\n",
       "    }\n",
       "</style>\n",
       "<table border=\"1\" class=\"dataframe\">\n",
       "  <thead>\n",
       "    <tr style=\"text-align: right;\">\n",
       "      <th></th>\n",
       "      <th>duration</th>\n",
       "      <th>source computer</th>\n",
       "      <th>source port</th>\n",
       "      <th>destination computer</th>\n",
       "      <th>destination port</th>\n",
       "      <th>protocol</th>\n",
       "      <th>packet count</th>\n",
       "      <th>byte count</th>\n",
       "    </tr>\n",
       "    <tr>\n",
       "      <th>time</th>\n",
       "      <th></th>\n",
       "      <th></th>\n",
       "      <th></th>\n",
       "      <th></th>\n",
       "      <th></th>\n",
       "      <th></th>\n",
       "      <th></th>\n",
       "      <th></th>\n",
       "    </tr>\n",
       "  </thead>\n",
       "  <tbody>\n",
       "    <tr>\n",
       "      <th>1</th>\n",
       "      <td>0</td>\n",
       "      <td>C1065</td>\n",
       "      <td>389</td>\n",
       "      <td>C3799</td>\n",
       "      <td>N10451</td>\n",
       "      <td>6</td>\n",
       "      <td>10</td>\n",
       "      <td>5323</td>\n",
       "    </tr>\n",
       "    <tr>\n",
       "      <th>1</th>\n",
       "      <td>0</td>\n",
       "      <td>C1423</td>\n",
       "      <td>N1136</td>\n",
       "      <td>C1707</td>\n",
       "      <td>N1</td>\n",
       "      <td>6</td>\n",
       "      <td>5</td>\n",
       "      <td>847</td>\n",
       "    </tr>\n",
       "    <tr>\n",
       "      <th>1</th>\n",
       "      <td>0</td>\n",
       "      <td>C1423</td>\n",
       "      <td>N1142</td>\n",
       "      <td>C1707</td>\n",
       "      <td>N1</td>\n",
       "      <td>6</td>\n",
       "      <td>5</td>\n",
       "      <td>847</td>\n",
       "    </tr>\n",
       "    <tr>\n",
       "      <th>1</th>\n",
       "      <td>0</td>\n",
       "      <td>C14909</td>\n",
       "      <td>N8191</td>\n",
       "      <td>C5720</td>\n",
       "      <td>2049</td>\n",
       "      <td>6</td>\n",
       "      <td>1</td>\n",
       "      <td>52</td>\n",
       "    </tr>\n",
       "    <tr>\n",
       "      <th>1</th>\n",
       "      <td>0</td>\n",
       "      <td>C14909</td>\n",
       "      <td>N8192</td>\n",
       "      <td>C5720</td>\n",
       "      <td>2049</td>\n",
       "      <td>6</td>\n",
       "      <td>1</td>\n",
       "      <td>52</td>\n",
       "    </tr>\n",
       "  </tbody>\n",
       "</table>\n",
       "</div>"
      ],
      "text/plain": [
       "      duration source computer source port destination computer  \\\n",
       "time                                                              \n",
       "1            0           C1065         389                C3799   \n",
       "1            0           C1423       N1136                C1707   \n",
       "1            0           C1423       N1142                C1707   \n",
       "1            0          C14909       N8191                C5720   \n",
       "1            0          C14909       N8192                C5720   \n",
       "\n",
       "     destination port  protocol  packet count  byte count  \n",
       "time                                                       \n",
       "1              N10451         6            10        5323  \n",
       "1                  N1         6             5         847  \n",
       "1                  N1         6             5         847  \n",
       "1                2049         6             1          52  \n",
       "1                2049         6             1          52  "
      ]
     },
     "execution_count": 357,
     "metadata": {},
     "output_type": "execute_result"
    }
   ],
   "source": [
    "df.columns = ['time', 'duration', 'source computer', 'source port', 'destination computer', \n",
    "              'destination port', 'protocol', 'packet count', 'byte count']\n",
    "\n",
    "df.index = df['time']\n",
    "df.drop(columns=['time'],inplace=True)\n",
    "df.head()"
   ]
  },
  {
   "cell_type": "markdown",
   "metadata": {},
   "source": [
    "We need to group by time and source comuter name\n",
    "\n",
    "In the final application, due to the streaming nature of the data, only a group by on the filed of source computer will be needed"
   ]
  },
  {
   "cell_type": "code",
   "execution_count": 358,
   "metadata": {},
   "outputs": [],
   "source": [
    "# keep track of the different host\n",
    "hosts = np.array(list(set(df['source computer'].values)))"
   ]
  },
  {
   "cell_type": "code",
   "execution_count": 359,
   "metadata": {},
   "outputs": [
    {
     "name": "stdout",
     "output_type": "stream",
     "text": [
      "The borders of the bins created:  [  1  51 101 151 201 251 301 351 401]\n"
     ]
    }
   ],
   "source": [
    "import numpy as np\n",
    "\n",
    "# Create buckets based on the time of the events, a bucker for every size_of_bin_seconds seconds\n",
    "size_of_bin_seconds = 50\n",
    "bins = np.arange(df.index.min(), df.index.max() + size_of_bin_seconds, size_of_bin_seconds)\n",
    "print('The borders of the bins created: ', bins)"
   ]
  },
  {
   "cell_type": "code",
   "execution_count": null,
   "metadata": {},
   "outputs": [],
   "source": []
  },
  {
   "cell_type": "code",
   "execution_count": 360,
   "metadata": {},
   "outputs": [],
   "source": [
    "#groups = df[['byte count']].groupby(np.digitize(df.index, bins))"
   ]
  },
  {
   "cell_type": "code",
   "execution_count": 361,
   "metadata": {},
   "outputs": [],
   "source": [
    "#number_of_flows = [i for [i]  in groups.count().values]\n",
    "#avg_bytes_sent = [i for [i] in groups.mean().values]"
   ]
  },
  {
   "cell_type": "code",
   "execution_count": 368,
   "metadata": {},
   "outputs": [],
   "source": [
    "\n",
    "# plot results only for the 10 random hosts\n",
    "# choose 10 random hosts to plot results\n",
    "num_of_random_hosts = 10\n",
    "\n",
    "random_hosts = hosts[np.random.choice(len(hosts), num_of_random_hosts)]\n",
    "\n",
    "\n",
    "df_for_random_hosts = df[df['source computer'].isin(random_hosts)]\n",
    "\n",
    "groups = df_for_random_hosts[['byte count','source computer']].groupby([np.digitize(df_for_random_hosts.index, bins),'source computer'])"
   ]
  },
  {
   "cell_type": "code",
   "execution_count": null,
   "metadata": {},
   "outputs": [],
   "source": []
  },
  {
   "cell_type": "code",
   "execution_count": 369,
   "metadata": {
    "scrolled": false
   },
   "outputs": [
    {
     "data": {
      "image/png": "[encoded data removed]",
      "text/plain": [
       "<matplotlib.figure.Figure at 0x232455ab0b8>"
      ]
     },
     "metadata": {},
     "output_type": "display_data"
    }
   ],
   "source": [
    "from matplotlib.ticker import FuncFormatter\n",
    "import matplotlib.pyplot as plt\n",
    "\n",
    "from pylab import rcParams\n",
    "rcParams['figure.figsize'] = 16, 10\n",
    "\n",
    "colors = ['black', 'blue', 'red', 'darkred', 'darkblue', 'green', 'lightgreen', 'darkgreen', 'orchid', 'orange']\n",
    "\n",
    "mean_values = groups.mean().values\n",
    "count_values = groups.count().values\n",
    "\n",
    "plt.subplot(2, 1, 1)\n",
    "\n",
    "for i in range(num_of_random_hosts):\n",
    "    df_for_host = df_for_random_hosts[df_for_random_hosts['source computer'].isin([random_hosts[i]])]\n",
    "    plt.bar(df_for_host.index, df_for_host['byte count'], label=random_hosts[i], color=colors[i % len(colors)])\n",
    "\n",
    "    \n",
    "plt.title('Every flow and the bytes sent')\n",
    "plt.legend()\n",
    "\n",
    "\n",
    "plt.subplot(2, 1, 2)\n",
    "\n",
    "for i in range(num_of_random_hosts):\n",
    "    filter_list = test = [x for x in groups.apply(lambda x:  (x['source computer'] == random_hosts[i]).values[0])]\n",
    "    \n",
    "    plt.scatter(count_values[filter_list], mean_values[filter_list], s=200, facecolors='none', \n",
    "                edgecolors=colors[i % len(colors)], label=random_hosts[i])\n",
    "    \n",
    "plt.title('Average bytes by count of flows in bins')\n",
    "plt.legend()\n",
    "plt.grid()\n",
    "plt.tight_layout()\n",
    "plt.show()\n"
   ]
  },
  {
   "cell_type": "code",
   "execution_count": null,
   "metadata": {},
   "outputs": [],
   "source": []
  },
  {
   "cell_type": "code",
   "execution_count": null,
   "metadata": {},
   "outputs": [],
   "source": []
  },
  {
   "cell_type": "markdown",
   "metadata": {},
   "source": [
    "For the following example we are considering only the bytes sent attribute"
   ]
  },
  {
   "cell_type": "code",
   "execution_count": 370,
   "metadata": {},
   "outputs": [],
   "source": [
    "groups = df[['byte count','source computer']].groupby([np.digitize(df.index, bins),'source computer'])"
   ]
  },
  {
   "cell_type": "code",
   "execution_count": 371,
   "metadata": {},
   "outputs": [
    {
     "data": {
      "text/html": [
       "<div>\n",
       "<style scoped>\n",
       "    .dataframe tbody tr th:only-of-type {\n",
       "        vertical-align: middle;\n",
       "    }\n",
       "\n",
       "    .dataframe tbody tr th {\n",
       "        vertical-align: top;\n",
       "    }\n",
       "\n",
       "    .dataframe thead th {\n",
       "        text-align: right;\n",
       "    }\n",
       "</style>\n",
       "<table border=\"1\" class=\"dataframe\">\n",
       "  <thead>\n",
       "    <tr style=\"text-align: right;\">\n",
       "      <th></th>\n",
       "      <th></th>\n",
       "      <th>mean(byte count)</th>\n",
       "      <th>number of flows</th>\n",
       "    </tr>\n",
       "    <tr>\n",
       "      <th></th>\n",
       "      <th>source computer</th>\n",
       "      <th></th>\n",
       "      <th></th>\n",
       "    </tr>\n",
       "  </thead>\n",
       "  <tbody>\n",
       "    <tr>\n",
       "      <th rowspan=\"5\" valign=\"top\">1</th>\n",
       "      <th>C1015</th>\n",
       "      <td>92.000000</td>\n",
       "      <td>10</td>\n",
       "    </tr>\n",
       "    <tr>\n",
       "      <th>C1056</th>\n",
       "      <td>46.000000</td>\n",
       "      <td>2</td>\n",
       "    </tr>\n",
       "    <tr>\n",
       "      <th>C1065</th>\n",
       "      <td>1252.222222</td>\n",
       "      <td>9</td>\n",
       "    </tr>\n",
       "    <tr>\n",
       "      <th>C113</th>\n",
       "      <td>152.000000</td>\n",
       "      <td>1</td>\n",
       "    </tr>\n",
       "    <tr>\n",
       "      <th>C1135</th>\n",
       "      <td>52.000000</td>\n",
       "      <td>1</td>\n",
       "    </tr>\n",
       "  </tbody>\n",
       "</table>\n",
       "</div>"
      ],
      "text/plain": [
       "                   mean(byte count)  number of flows\n",
       "  source computer                                   \n",
       "1 C1015                   92.000000               10\n",
       "  C1056                   46.000000                2\n",
       "  C1065                 1252.222222                9\n",
       "  C113                   152.000000                1\n",
       "  C1135                   52.000000                1"
      ]
     },
     "execution_count": 371,
     "metadata": {},
     "output_type": "execute_result"
    }
   ],
   "source": [
    "data = groups.mean()\n",
    "data.columns = ['mean(byte count)']\n",
    "data['number of flows'] = groups.count().values\n",
    "\n",
    "data.head()"
   ]
  },
  {
   "cell_type": "markdown",
   "metadata": {},
   "source": [
    "Preprecess the data according to a standard scaler\n",
    "\n",
    "Should (0, 0) values be included in this preprocessing"
   ]
  },
  {
   "cell_type": "code",
   "execution_count": 372,
   "metadata": {},
   "outputs": [
    {
     "name": "stdout",
     "output_type": "stream",
     "text": [
      "[  2.81082396e+04   3.62713094e+00] [  2.79275446e+05   1.33513483e+01]\n"
     ]
    }
   ],
   "source": [
    "from sklearn import preprocessing\n",
    "\n",
    "scaler = preprocessing.StandardScaler().fit(data.values)\n",
    "# μέση τιμη και απόκλιση του train set (δεν έχουμε εφαρμόση το scaling) \n",
    "print(scaler.mean_ , scaler.scale_ )"
   ]
  },
  {
   "cell_type": "code",
   "execution_count": 398,
   "metadata": {},
   "outputs": [],
   "source": [
    "data_by_host = {}\n",
    "\n",
    "for host in hosts:\n",
    "    for i in range(len(bins) - 1):\n",
    "        try:\n",
    "            values = scaler.transform([data.loc[(i + 1, host)].values])\n",
    "        except:\n",
    "            values = np.array([[0, 0]])\n",
    "        if i == 0:\n",
    "            data_by_host[host] = values\n",
    "        else:\n",
    "            data_by_host[host] = np.append(data_by_host[host], values, axis=0)"
   ]
  },
  {
   "cell_type": "code",
   "execution_count": 435,
   "metadata": {},
   "outputs": [
    {
     "data": {
      "image/png": "[encoded data removed]",
      "text/plain": [
       "<matplotlib.figure.Figure at 0x23245103278>"
      ]
     },
     "metadata": {},
     "output_type": "display_data"
    }
   ],
   "source": [
    "# how many different source computers to plot\n",
    "number_plot_source_computers = 3\n",
    "\n",
    "markers = ['v', 'x', '.', 's', 'p']\n",
    "\n",
    "# the shrinkage\n",
    "shrinkage = 0.5\n",
    "\n",
    "i = 0\n",
    "means_x = []\n",
    "means_y = []\n",
    "for host, data_for_host in data_by_host.items():\n",
    "    # two features used\n",
    "    x = data_for_host[:,0]\n",
    "    y = data_for_host[:,1]\n",
    "    plt.scatter(x, y, marker=markers[i % len(markers)], s=150, color='black', label='Host' + str(i + 1))\n",
    "    mean_x = sum(x)/len(x)\n",
    "    mean_y = sum(y)/len(y)\n",
    "    means_x.append(mean_x)\n",
    "    means_y.append(mean_y)\n",
    "    plt.scatter(mean_x, mean_y, marker=markers[i % len(markers)], s=150, color='red', label='Avg' + str(i + 1))\n",
    "    i += 1\n",
    "    if i == number_plot_source_computers:\n",
    "        break\n",
    "\n",
    "global_mean_x = sum(means_x)/i\n",
    "global_mean_y = sum(means_y)/i\n",
    "plt.scatter(global_mean_x, global_mean_y, marker='*', s=150, color='blue', label='Avg total')\n",
    "\n",
    "i = 0\n",
    "for mean_x, mean_y in zip(means_x, means_y):\n",
    "    if i == 0:\n",
    "        plt.plot([mean_x, global_mean_x], [mean_y, global_mean_y], '--', label='Shrinking', color='pink')\n",
    "    else:\n",
    "        plt.plot([mean_x, global_mean_x], [mean_y, global_mean_y], '--', color='pink')\n",
    "    i += 1\n",
    "\n",
    "i = 0\n",
    "for mean_x, mean_y in zip(means_x, means_y):\n",
    "    shrinked_x = mean_x * (1 - shrinkage) + global_mean_x * shrinkage\n",
    "    shrinked_y = mean_y * (1 - shrinkage) + global_mean_y * shrinkage\n",
    "    plt.scatter(shrinked_x, shrinked_y, marker=markers[i % len(markers)], s=150, color='pink', label='Host' + str(i + 1))\n",
    "    i += 1\n",
    "\n",
    "plt.legend()\n",
    "\n",
    "plt.show()"
   ]
  },
  {
   "cell_type": "code",
   "execution_count": null,
   "metadata": {},
   "outputs": [],
   "source": []
  }
 ],
 "metadata": {
  "kernelspec": {
   "display_name": "Python 3",
   "language": "python",
   "name": "python3"
  },
  "language_info": {
   "codemirror_mode": {
    "name": "ipython",
    "version": 3
   },
   "file_extension": ".py",
   "mimetype": "text/x-python",
   "name": "python",
   "nbconvert_exporter": "python",
   "pygments_lexer": "ipython3",
   "version": "3.6.0"
  }
 },
 "nbformat": 4,
 "nbformat_minor": 2
}
