{
 "cells": [
  {
   "cell_type": "code",
   "execution_count": 33,
   "metadata": {},
   "outputs": [],
   "source": [
    "import pandas as pd\n",
    "import numpy as np\n",
    "%matplotlib inline\n",
    "\n",
    "time_epoch = 60\n",
    "total_epochs = 7\n",
    "\n",
    "# hard coded nrows\n",
    "df_all = pd.read_csv('../../../diploma/multi-source-syber-security-events/flows.txt', header=None, nrows=120000)\n",
    "\n",
    "df_all.columns = ['time', 'duration', 'source computer', 'source port', 'destination computer', \n",
    "              'destination port', 'protocol', 'packet count', 'byte count']\n",
    "\n",
    "df_all = df_all[df_all['time'] <= time_epoch * total_epochs]\n",
    "df_all.index = df_all['time']\n",
    "df_all.drop(columns=['time'],inplace=True)"
   ]
  },
  {
   "cell_type": "code",
   "execution_count": 34,
   "metadata": {},
   "outputs": [
    {
     "name": "stdout",
     "output_type": "stream",
     "text": [
      "Testing a total of 1269 hosts\n"
     ]
    }
   ],
   "source": [
    "# get all the host in the buckets we are interested in \n",
    "\n",
    "hosts = np.array(list(set(df_all['source computer'].values))) \n",
    "\n",
    "print('Testing a total of', len(hosts), 'hosts')"
   ]
  },
  {
   "cell_type": "code",
   "execution_count": 35,
   "metadata": {},
   "outputs": [
    {
     "name": "stdout",
     "output_type": "stream",
     "text": [
      "A total of 7 time epochs have been encountered\n",
      "Done with 0 hosts out of 1269\n",
      "Done with 63 hosts out of 1269\n",
      "Done with 126 hosts out of 1269\n",
      "Done with 189 hosts out of 1269\n",
      "Done with 252 hosts out of 1269\n",
      "Done with 315 hosts out of 1269\n",
      "Done with 378 hosts out of 1269\n",
      "Done with 441 hosts out of 1269\n",
      "Done with 504 hosts out of 1269\n",
      "Done with 567 hosts out of 1269\n",
      "Done with 630 hosts out of 1269\n",
      "Done with 693 hosts out of 1269\n",
      "Done with 756 hosts out of 1269\n",
      "Done with 819 hosts out of 1269\n",
      "Done with 882 hosts out of 1269\n",
      "Done with 945 hosts out of 1269\n",
      "Done with 1008 hosts out of 1269\n",
      "Done with 1071 hosts out of 1269\n",
      "Done with 1134 hosts out of 1269\n",
      "Done with 1197 hosts out of 1269\n",
      "Done with 1260 hosts out of 1269\n",
      "Scaeling...\n"
     ]
    }
   ],
   "source": [
    "from helper import group_scale_data, group_scale_data_batch\n",
    "\n",
    "groupped_data, hosts, parameters = group_scale_data(df_all, size_of_bin_seconds=time_epoch,\n",
    "                                                    doScale=True, addZeros=True, scaler='log', hosts=hosts, verbose=1)"
   ]
  },
  {
   "cell_type": "code",
   "execution_count": 36,
   "metadata": {},
   "outputs": [],
   "source": [
    "from emClustering import OnlineEM\n",
    "from plots import plot_points, plot_results, plot_category, plot_all_categories\n",
    "from kplusplus import KPlusPlus"
   ]
  },
  {
   "cell_type": "code",
   "execution_count": 37,
   "metadata": {
    "scrolled": false
   },
   "outputs": [
    {
     "name": "stdout",
     "output_type": "stream",
     "text": [
      "For number of mixtures 5 and update_power 0.1 log likelihood is -38178.03474664777\n",
      "For number of mixtures 5 and update_power 0.2 log likelihood is -38161.683250303795\n",
      "For number of mixtures 5 and update_power 0.3 log likelihood is -38171.276862600214\n",
      "For number of mixtures 5 and update_power 0.4 log likelihood is -38134.64214329028\n",
      "For number of mixtures 5 and update_power 0.5 log likelihood is -38128.840088970304\n",
      "For number of mixtures 5 and update_power 0.6 log likelihood is -38136.690505355\n",
      "For number of mixtures 5 and update_power 0.7 log likelihood is -38573.805531509526\n",
      "For number of mixtures 5 and update_power 0.8 log likelihood is -38571.89190847797\n",
      "For number of mixtures 5 and update_power 0.9 log likelihood is -38558.27194820311\n",
      "For number of mixtures 5 and update_power 1.0 log likelihood is -38824.359426200775\n",
      "For number of mixtures 6 and update_power 0.1 log likelihood is -37944.09712786438\n",
      "For number of mixtures 6 and update_power 0.2 log likelihood is -37830.73450194946\n",
      "For number of mixtures 6 and update_power 0.3 log likelihood is -37811.281609595666\n",
      "For number of mixtures 6 and update_power 0.4 log likelihood is -37806.26874175771\n",
      "For number of mixtures 6 and update_power 0.5 log likelihood is -37813.012807104074\n",
      "For number of mixtures 6 and update_power 0.6 log likelihood is -37792.61459406088\n",
      "For number of mixtures 6 and update_power 0.7 log likelihood is -37823.264004584205\n",
      "For number of mixtures 6 and update_power 0.8 log likelihood is -37855.843643513006\n",
      "For number of mixtures 6 and update_power 0.9 log likelihood is -37831.49151964997\n",
      "For number of mixtures 6 and update_power 1.0 log likelihood is -37908.033878078255\n",
      "For number of mixtures 7 and update_power 0.1 log likelihood is -37754.25814080156\n",
      "For number of mixtures 7 and update_power 0.2 log likelihood is -37830.83402851687\n",
      "For number of mixtures 7 and update_power 0.3 log likelihood is -37726.831966246325\n",
      "For number of mixtures 7 and update_power 0.4 log likelihood is -37723.38343936631\n",
      "For number of mixtures 7 and update_power 0.5 log likelihood is -37711.91889561975\n",
      "For number of mixtures 7 and update_power 0.6 log likelihood is -37718.42588745629\n",
      "For number of mixtures 7 and update_power 0.7 log likelihood is -37744.50441564241\n",
      "For number of mixtures 7 and update_power 0.8 log likelihood is -37735.06527732483\n",
      "For number of mixtures 7 and update_power 0.9 log likelihood is -37764.719217859936\n",
      "For number of mixtures 7 and update_power 1.0 log likelihood is -37794.91555844431\n",
      "For number of mixtures 8 and update_power 0.1 log likelihood is -37823.552130112716\n",
      "For number of mixtures 8 and update_power 0.2 log likelihood is -37864.23460947248\n",
      "For number of mixtures 8 and update_power 0.3 log likelihood is -37677.85061601755\n",
      "For number of mixtures 8 and update_power 0.4 log likelihood is -37662.12065672176\n",
      "For number of mixtures 8 and update_power 0.5 log likelihood is -37654.36607444176\n",
      "For number of mixtures 8 and update_power 0.6 log likelihood is -37664.27105313405\n",
      "For number of mixtures 8 and update_power 0.7 log likelihood is -37652.51331836676\n",
      "For number of mixtures 8 and update_power 0.8 log likelihood is -37674.895312497894\n",
      "For number of mixtures 8 and update_power 0.9 log likelihood is -37704.62971990611\n",
      "For number of mixtures 8 and update_power 1.0 log likelihood is -37746.025745760024\n",
      "For number of mixtures 9 and update_power 0.1 log likelihood is -37814.66010897442\n",
      "For number of mixtures 9 and update_power 0.2 log likelihood is -37749.61301691831\n",
      "For number of mixtures 9 and update_power 0.3 log likelihood is -37744.79873920059\n",
      "For number of mixtures 9 and update_power 0.4 log likelihood is -37694.58164958934\n",
      "For number of mixtures 9 and update_power 0.5 log likelihood is -37692.878669917794\n",
      "For number of mixtures 9 and update_power 0.6 log likelihood is -37706.26381786273\n",
      "For number of mixtures 9 and update_power 0.7 log likelihood is -37723.038961928905\n",
      "For number of mixtures 9 and update_power 0.8 log likelihood is -37721.550579000206\n",
      "For number of mixtures 9 and update_power 0.9 log likelihood is -37748.91223752415\n",
      "For number of mixtures 9 and update_power 1.0 log likelihood is -37808.922510942095\n",
      "For number of mixtures 10 and update_power 0.1 log likelihood is -37739.06423206632\n",
      "For number of mixtures 10 and update_power 0.2 log likelihood is -37682.938888979224\n",
      "For number of mixtures 10 and update_power 0.3 log likelihood is -37690.95189580469\n",
      "For number of mixtures 10 and update_power 0.4 log likelihood is -37664.8928605126\n",
      "For number of mixtures 10 and update_power 0.5 log likelihood is -37791.46280300259\n",
      "For number of mixtures 10 and update_power 0.6 log likelihood is -37717.405015069875\n",
      "For number of mixtures 10 and update_power 0.7 log likelihood is -37843.0840720625\n",
      "For number of mixtures 10 and update_power 0.8 log likelihood is -37724.69170653857\n",
      "For number of mixtures 10 and update_power 0.9 log likelihood is -37783.15648380789\n",
      "For number of mixtures 10 and update_power 1.0 log likelihood is -37885.536123085294\n",
      "For number of mixtures 11 and update_power 0.1 log likelihood is -37729.69429394684\n",
      "For number of mixtures 11 and update_power 0.2 log likelihood is -37652.752471521155\n",
      "For number of mixtures 11 and update_power 0.3 log likelihood is -37668.39688626251\n",
      "For number of mixtures 11 and update_power 0.4 log likelihood is -37636.6530539971\n",
      "For number of mixtures 11 and update_power 0.5 log likelihood is -37624.41284632703\n",
      "For number of mixtures 11 and update_power 0.6 log likelihood is -37658.33910834316\n",
      "For number of mixtures 11 and update_power 0.7 log likelihood is -37651.546494053124\n",
      "For number of mixtures 11 and update_power 0.8 log likelihood is -37641.39018621774\n",
      "For number of mixtures 11 and update_power 0.9 log likelihood is -37656.52111148328\n",
      "For number of mixtures 11 and update_power 1.0 log likelihood is -37716.073045244215\n",
      "For number of mixtures 12 and update_power 0.1 log likelihood is -37792.736865627914\n",
      "For number of mixtures 12 and update_power 0.2 log likelihood is -37695.33463212249\n",
      "For number of mixtures 12 and update_power 0.3 log likelihood is -37728.4755569227\n",
      "For number of mixtures 12 and update_power 0.4 log likelihood is -37633.87601030592\n",
      "For number of mixtures 12 and update_power 0.5 log likelihood is -37619.46999743974\n",
      "For number of mixtures 12 and update_power 0.6 log likelihood is -37690.032253082136\n",
      "For number of mixtures 12 and update_power 0.7 log likelihood is -37646.03775015591\n",
      "For number of mixtures 12 and update_power 0.8 log likelihood is -37642.859464650435\n",
      "For number of mixtures 12 and update_power 0.9 log likelihood is -37684.83790191079\n",
      "For number of mixtures 12 and update_power 1.0 log likelihood is -37723.386728617894\n",
      "For number of mixtures 13 and update_power 0.1 log likelihood is -37817.50440974774\n",
      "For number of mixtures 13 and update_power 0.2 log likelihood is -37700.42272113494\n",
      "For number of mixtures 13 and update_power 0.3 log likelihood is -37673.95210612294\n",
      "For number of mixtures 13 and update_power 0.4 log likelihood is -37664.62932237849\n",
      "For number of mixtures 13 and update_power 0.5 log likelihood is -37643.82390511645\n",
      "For number of mixtures 13 and update_power 0.6 log likelihood is -37619.51260671813\n",
      "For number of mixtures 13 and update_power 0.7 log likelihood is -37641.11569321277\n",
      "For number of mixtures 13 and update_power 0.8 log likelihood is -37648.562611938716\n",
      "For number of mixtures 13 and update_power 0.9 log likelihood is -37665.65736410288\n",
      "For number of mixtures 13 and update_power 1.0 log likelihood is -37728.34973130271\n",
      "For number of mixtures 14 and update_power 0.1 log likelihood is -37745.610125335945\n",
      "For number of mixtures 14 and update_power 0.2 log likelihood is -37729.29090506763\n",
      "For number of mixtures 14 and update_power 0.3 log likelihood is -37668.111853318216\n",
      "For number of mixtures 14 and update_power 0.4 log likelihood is -37642.681430692486\n",
      "For number of mixtures 14 and update_power 0.5 log likelihood is -37666.25636517093\n",
      "For number of mixtures 14 and update_power 0.6 log likelihood is -37635.610707351596\n",
      "For number of mixtures 14 and update_power 0.7 log likelihood is -37692.23935794234\n",
      "For number of mixtures 14 and update_power 0.8 log likelihood is -37679.1836319899\n"
     ]
    },
    {
     "name": "stdout",
     "output_type": "stream",
     "text": [
      "For number of mixtures 14 and update_power 0.9 log likelihood is -37709.84759522461\n",
      "For number of mixtures 14 and update_power 1.0 log likelihood is -37766.90701781976\n",
      "For number of mixtures 15 and update_power 0.1 log likelihood is -37694.88712401722\n",
      "For number of mixtures 15 and update_power 0.2 log likelihood is -37730.313867384866\n",
      "For number of mixtures 15 and update_power 0.3 log likelihood is -37713.8609047008\n",
      "For number of mixtures 15 and update_power 0.4 log likelihood is -37620.61314002834\n",
      "For number of mixtures 15 and update_power 0.5 log likelihood is -37671.64232071783\n",
      "For number of mixtures 15 and update_power 0.6 log likelihood is -37667.80539678107\n",
      "For number of mixtures 15 and update_power 0.7 log likelihood is -37649.45262547122\n",
      "For number of mixtures 15 and update_power 0.8 log likelihood is -37676.42137654463\n",
      "For number of mixtures 15 and update_power 0.9 log likelihood is -37702.23836072609\n",
      "For number of mixtures 15 and update_power 1.0 log likelihood is -37755.325120782276\n"
     ]
    }
   ],
   "source": [
    "number_of_mixtures = range(5,16)\n",
    "update_powers = np.arange(0.1, 1.1, 0.1)\n",
    "\n",
    "likelihoods = []\n",
    "\n",
    "for mixtures in number_of_mixtures:\n",
    "\n",
    "    kplusplus = KPlusPlus(mixtures, groupped_data.values[:, :2], stochastic=True, stochastic_n_samples=3000)\n",
    "    \n",
    "    # random initialization\n",
    "    kplusplus.init_centers()\n",
    "\n",
    "    for update_power in update_powers:\n",
    "        onlineEM = OnlineEM([1/mixtures]*mixtures, kplusplus.centers, 500, n_clusters=8, update_power=update_power)\n",
    "        # ignore epoch index for now\n",
    "\n",
    "        data = groupped_data.values[:,[0,1,3]]\n",
    "\n",
    "        np.random.shuffle(data)\n",
    "\n",
    "\n",
    "        onlineEM.fit(data)\n",
    "\n",
    "        likelihood = onlineEM.calculate_likelihood(data[:,:2])\n",
    "        likelihoods.append(likelihood)\n",
    "        \n",
    "        print('For number of mixtures', mixtures, 'and update_power', update_power, 'log likelihood is', likelihood)"
   ]
  },
  {
   "cell_type": "code",
   "execution_count": 38,
   "metadata": {},
   "outputs": [],
   "source": [
    "import numpy as np\n",
    "np.set_printoptions(threshold=np.inf)\n",
    "\n",
    "likelihoods = np.reshape(np.array(likelihoods), (len(number_of_mixtures), len(update_powers)))"
   ]
  },
  {
   "cell_type": "code",
   "execution_count": 39,
   "metadata": {},
   "outputs": [
    {
     "data": {
      "image/png": "[encoded data removed]",
      "text/plain": [
       "<matplotlib.figure.Figure at 0x23a41bb3780>"
      ]
     },
     "metadata": {},
     "output_type": "display_data"
    }
   ],
   "source": [
    "import matplotlib.pyplot as plt\n",
    "import seaborn as sns\n",
    "%matplotlib inline\n",
    "\n",
    "from pylab import rcParams\n",
    "rcParams['figure.figsize'] = 16, 9\n",
    "rcParams['font.size'] = 16\n",
    "\n",
    "ax = sns.heatmap(likelihoods, xticklabels=update_powers, yticklabels=number_of_mixtures)\n",
    "plt.ylabel('Number of Lambdas distributions used')\n",
    "plt.xlabel('Update Power')\n",
    "plt.title('Log-likelihood')\n",
    "plt.show()"
   ]
  },
  {
   "cell_type": "code",
   "execution_count": 40,
   "metadata": {},
   "outputs": [
    {
     "data": {
      "text/plain": [
       "array([[-38178.03474665, -38161.6832503 , -38171.2768626 , -38134.64214329,\n",
       "        -38128.84008897, -38136.69050535, -38573.80553151, -38571.89190848,\n",
       "        -38558.2719482 , -38824.3594262 ],\n",
       "       [-37944.09712786, -37830.73450195, -37811.2816096 , -37806.26874176,\n",
       "        -37813.0128071 , -37792.61459406, -37823.26400458, -37855.84364351,\n",
       "        -37831.49151965, -37908.03387808],\n",
       "       [-37754.2581408 , -37830.83402852, -37726.83196625, -37723.38343937,\n",
       "        -37711.91889562, -37718.42588746, -37744.50441564, -37735.06527732,\n",
       "        -37764.71921786, -37794.91555844],\n",
       "       [-37823.55213011, -37864.23460947, -37677.85061602, -37662.12065672,\n",
       "        -37654.36607444, -37664.27105313, -37652.51331837, -37674.8953125 ,\n",
       "        -37704.62971991, -37746.02574576],\n",
       "       [-37814.66010897, -37749.61301692, -37744.7987392 , -37694.58164959,\n",
       "        -37692.87866992, -37706.26381786, -37723.03896193, -37721.550579  ,\n",
       "        -37748.91223752, -37808.92251094],\n",
       "       [-37739.06423207, -37682.93888898, -37690.9518958 , -37664.89286051,\n",
       "        -37791.462803  , -37717.40501507, -37843.08407206, -37724.69170654,\n",
       "        -37783.15648381, -37885.53612309],\n",
       "       [-37729.69429395, -37652.75247152, -37668.39688626, -37636.653054  ,\n",
       "        -37624.41284633, -37658.33910834, -37651.54649405, -37641.39018622,\n",
       "        -37656.52111148, -37716.07304524],\n",
       "       [-37792.73686563, -37695.33463212, -37728.47555692, -37633.87601031,\n",
       "        -37619.46999744, -37690.03225308, -37646.03775016, -37642.85946465,\n",
       "        -37684.83790191, -37723.38672862],\n",
       "       [-37817.50440975, -37700.42272113, -37673.95210612, -37664.62932238,\n",
       "        -37643.82390512, -37619.51260672, -37641.11569321, -37648.56261194,\n",
       "        -37665.6573641 , -37728.3497313 ],\n",
       "       [-37745.61012534, -37729.29090507, -37668.11185332, -37642.68143069,\n",
       "        -37666.25636517, -37635.61070735, -37692.23935794, -37679.18363199,\n",
       "        -37709.84759522, -37766.90701782],\n",
       "       [-37694.88712402, -37730.31386738, -37713.8609047 , -37620.61314003,\n",
       "        -37671.64232072, -37667.80539678, -37649.45262547, -37676.42137654,\n",
       "        -37702.23836073, -37755.32512078]])"
      ]
     },
     "execution_count": 40,
     "metadata": {},
     "output_type": "execute_result"
    }
   ],
   "source": [
    "likelihoods"
   ]
  }
 ],
 "metadata": {
  "kernelspec": {
   "display_name": "Python 3",
   "language": "python",
   "name": "python3"
  },
  "language_info": {
   "codemirror_mode": {
    "name": "ipython",
    "version": 3
   },
   "file_extension": ".py",
   "mimetype": "text/x-python",
   "name": "python",
   "nbconvert_exporter": "python",
   "pygments_lexer": "ipython3",
   "version": "3.6.0"
  }
 },
 "nbformat": 4,
 "nbformat_minor": 2
}
