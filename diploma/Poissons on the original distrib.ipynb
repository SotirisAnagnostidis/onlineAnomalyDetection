{
 "cells": [
  {
   "cell_type": "markdown",
   "metadata": {},
   "source": [
    "### Outlier Factors for Device Profiling"
   ]
  },
  {
   "cell_type": "code",
   "execution_count": 1,
   "metadata": {},
   "outputs": [
    {
     "name": "stderr",
     "output_type": "stream",
     "text": [
      "c:\\users\\sotiris\\appdata\\local\\programs\\python\\python36\\lib\\site-packages\\ipykernel_launcher.py:17: SettingWithCopyWarning: \n",
      "A value is trying to be set on a copy of a slice from a DataFrame\n",
      "\n",
      "See the caveats in the documentation: http://pandas.pydata.org/pandas-docs/stable/indexing.html#indexing-view-versus-copy\n"
     ]
    },
    {
     "data": {
      "text/html": [
       "<div>\n",
       "<style scoped>\n",
       "    .dataframe tbody tr th:only-of-type {\n",
       "        vertical-align: middle;\n",
       "    }\n",
       "\n",
       "    .dataframe tbody tr th {\n",
       "        vertical-align: top;\n",
       "    }\n",
       "\n",
       "    .dataframe thead th {\n",
       "        text-align: right;\n",
       "    }\n",
       "</style>\n",
       "<table border=\"1\" class=\"dataframe\">\n",
       "  <thead>\n",
       "    <tr style=\"text-align: right;\">\n",
       "      <th></th>\n",
       "      <th>duration</th>\n",
       "      <th>source computer</th>\n",
       "      <th>source port</th>\n",
       "      <th>destination computer</th>\n",
       "      <th>destination port</th>\n",
       "      <th>protocol</th>\n",
       "      <th>packet count</th>\n",
       "      <th>byte count</th>\n",
       "    </tr>\n",
       "    <tr>\n",
       "      <th>time</th>\n",
       "      <th></th>\n",
       "      <th></th>\n",
       "      <th></th>\n",
       "      <th></th>\n",
       "      <th></th>\n",
       "      <th></th>\n",
       "      <th></th>\n",
       "      <th></th>\n",
       "    </tr>\n",
       "  </thead>\n",
       "  <tbody>\n",
       "    <tr>\n",
       "      <th>1</th>\n",
       "      <td>0</td>\n",
       "      <td>C1065</td>\n",
       "      <td>389</td>\n",
       "      <td>C3799</td>\n",
       "      <td>N10451</td>\n",
       "      <td>6</td>\n",
       "      <td>10</td>\n",
       "      <td>5323</td>\n",
       "    </tr>\n",
       "    <tr>\n",
       "      <th>1</th>\n",
       "      <td>0</td>\n",
       "      <td>C1423</td>\n",
       "      <td>N1136</td>\n",
       "      <td>C1707</td>\n",
       "      <td>N1</td>\n",
       "      <td>6</td>\n",
       "      <td>5</td>\n",
       "      <td>847</td>\n",
       "    </tr>\n",
       "    <tr>\n",
       "      <th>1</th>\n",
       "      <td>0</td>\n",
       "      <td>C1423</td>\n",
       "      <td>N1142</td>\n",
       "      <td>C1707</td>\n",
       "      <td>N1</td>\n",
       "      <td>6</td>\n",
       "      <td>5</td>\n",
       "      <td>847</td>\n",
       "    </tr>\n",
       "    <tr>\n",
       "      <th>1</th>\n",
       "      <td>0</td>\n",
       "      <td>C14909</td>\n",
       "      <td>N8191</td>\n",
       "      <td>C5720</td>\n",
       "      <td>2049</td>\n",
       "      <td>6</td>\n",
       "      <td>1</td>\n",
       "      <td>52</td>\n",
       "    </tr>\n",
       "    <tr>\n",
       "      <th>1</th>\n",
       "      <td>0</td>\n",
       "      <td>C14909</td>\n",
       "      <td>N8192</td>\n",
       "      <td>C5720</td>\n",
       "      <td>2049</td>\n",
       "      <td>6</td>\n",
       "      <td>1</td>\n",
       "      <td>52</td>\n",
       "    </tr>\n",
       "  </tbody>\n",
       "</table>\n",
       "</div>"
      ],
      "text/plain": [
       "      duration source computer source port destination computer  \\\n",
       "time                                                              \n",
       "1            0           C1065         389                C3799   \n",
       "1            0           C1423       N1136                C1707   \n",
       "1            0           C1423       N1142                C1707   \n",
       "1            0          C14909       N8191                C5720   \n",
       "1            0          C14909       N8192                C5720   \n",
       "\n",
       "     destination port  protocol  packet count  byte count  \n",
       "time                                                       \n",
       "1              N10451         6            10        5323  \n",
       "1                  N1         6             5         847  \n",
       "1                  N1         6             5         847  \n",
       "1                2049         6             1          52  \n",
       "1                2049         6             1          52  "
      ]
     },
     "execution_count": 1,
     "metadata": {},
     "output_type": "execute_result"
    }
   ],
   "source": [
    "import pandas as pd\n",
    "import numpy as np\n",
    "%matplotlib inline\n",
    "\n",
    "time_epoch = 60\n",
    "epochs_per_batch = 50\n",
    "\n",
    "# hard coded nrows\n",
    "df_all = pd.read_csv('../../../diploma/multi-source-syber-security-events/flows.txt', header=None, nrows=500000)\n",
    "\n",
    "df_all.columns = ['time', 'duration', 'source computer', 'source port', 'destination computer', \n",
    "              'destination port', 'protocol', 'packet count', 'byte count']\n",
    "\n",
    "df = df_all[df_all['time'] <= epochs_per_batch * time_epoch]\n",
    "\n",
    "df.index = df['time']\n",
    "df.drop(columns=['time'],inplace=True)\n",
    "df.head()"
   ]
  },
  {
   "cell_type": "code",
   "execution_count": 2,
   "metadata": {},
   "outputs": [],
   "source": [
    "# get all the host in the buckets we are interested in \n",
    "\n",
    "hosts = np.array(list(set(df_all[df_all['time'] <= epochs_per_batch * time_epoch * 2]['source computer'].values))) "
   ]
  },
  {
   "cell_type": "code",
   "execution_count": null,
   "metadata": {},
   "outputs": [],
   "source": []
  },
  {
   "cell_type": "code",
   "execution_count": 3,
   "metadata": {},
   "outputs": [],
   "source": [
    "def group_scale_data(df, size_of_bin_seconds=60, addZeros=True, hosts=None, verbose=0):\n",
    "    \"\"\"\n",
    "    :param size_of_bin_seconds: the time period of each bin,\n",
    "                assumes the dataframe has a column names 'source computer' and a name 'byte count'\n",
    "    :param addZeros: add values (0, 0) where no data has been received for this bucket\n",
    "    :return: a dictionary containing for each host the features, the hosts \n",
    "    \"\"\"\n",
    "                     \n",
    "    if hosts is None:\n",
    "        hosts = np.array(list(set(df['source computer'].values)))\n",
    "\n",
    "    bins = np.arange(df.index.min(), df.index.max() + size_of_bin_seconds + 1, size_of_bin_seconds)\n",
    "\n",
    "    groups = df[['byte count','source computer']].groupby([np.digitize(df.index, bins),'source computer'])\n",
    "\n",
    "    data = groups.count()\n",
    "    data.columns = ['number of flows']\n",
    "    data['mean(byte count)'] = groups.mean().values\n",
    "\n",
    "    data_reset = data.reset_index()\n",
    "\n",
    "    if verbose > 0:\n",
    "        print('A total of', len(bins) - 1, 'time epochs have been encountered')\n",
    "    \n",
    "    len_hosts = len(hosts)\n",
    "    intervals = int(len_hosts / 20)\n",
    "    i = 0\n",
    "    \n",
    "    if addZeros:\n",
    "        for host in hosts:\n",
    "            if verbose > 0 and i % intervals == 0:\n",
    "                print('Done with', i, 'hosts out of', len_hosts)\n",
    "            i += 1\n",
    "\n",
    "            for bin_i in range(1,len(bins)):\n",
    "                if (bin_i, host) not in data.index:\n",
    "                    new_row = [bin_i, host, 0.0, 0.0]\n",
    "                    data_reset = data_reset.append(pd.DataFrame([new_row], columns=data_reset.columns), ignore_index=True )\n",
    "\n",
    "    groupped_data = pd.DataFrame(data_reset.values[:,2:], columns=['number of flows', 'mean(byte count)'])\n",
    "    groupped_data['epoch'] = data_reset['level_0']\n",
    "    groupped_data['source computer'] = data_reset['source computer']\n",
    "\n",
    "    # set parameters for next acquisition of data\n",
    "    parameters = {}\n",
    "    parameters['size_of_bin_seconds'] = size_of_bin_seconds\n",
    "    parameters['hosts'] = hosts\n",
    "\n",
    "    groupped_data = groupped_data.sample(frac=1)\n",
    "    groupped_data['mean(byte count)'] = groupped_data['mean(byte count)'].values.astype(int)\n",
    "    groupped_data['number of flows'] = groupped_data['number of flows'].values.astype(int)\n",
    "    \n",
    "    return groupped_data.sort_values(by=['epoch']), hosts, parameters"
   ]
  },
  {
   "cell_type": "code",
   "execution_count": 15,
   "metadata": {},
   "outputs": [
    {
     "name": "stdout",
     "output_type": "stream",
     "text": [
      "A total of 50 time epochs have been encountered\n",
      "Done with 0 hosts out of 1894\n",
      "Done with 94 hosts out of 1894\n",
      "Done with 188 hosts out of 1894\n",
      "Done with 282 hosts out of 1894\n",
      "Done with 376 hosts out of 1894\n",
      "Done with 470 hosts out of 1894\n",
      "Done with 564 hosts out of 1894\n",
      "Done with 658 hosts out of 1894\n",
      "Done with 752 hosts out of 1894\n",
      "Done with 846 hosts out of 1894\n",
      "Done with 940 hosts out of 1894\n",
      "Done with 1034 hosts out of 1894\n",
      "Done with 1128 hosts out of 1894\n",
      "Done with 1222 hosts out of 1894\n",
      "Done with 1316 hosts out of 1894\n",
      "Done with 1410 hosts out of 1894\n",
      "Done with 1504 hosts out of 1894\n",
      "Done with 1598 hosts out of 1894\n",
      "Done with 1692 hosts out of 1894\n",
      "Done with 1786 hosts out of 1894\n",
      "Done with 1880 hosts out of 1894\n"
     ]
    }
   ],
   "source": [
    "groupped_data, hosts, parameters = group_scale_data(df, size_of_bin_seconds=time_epoch,\n",
    "                                                    addZeros=True, verbose=1, hosts=hosts)"
   ]
  },
  {
   "cell_type": "code",
   "execution_count": 16,
   "metadata": {},
   "outputs": [
    {
     "data": {
      "text/html": [
       "<div>\n",
       "<style scoped>\n",
       "    .dataframe tbody tr th:only-of-type {\n",
       "        vertical-align: middle;\n",
       "    }\n",
       "\n",
       "    .dataframe tbody tr th {\n",
       "        vertical-align: top;\n",
       "    }\n",
       "\n",
       "    .dataframe thead th {\n",
       "        text-align: right;\n",
       "    }\n",
       "</style>\n",
       "<table border=\"1\" class=\"dataframe\">\n",
       "  <thead>\n",
       "    <tr style=\"text-align: right;\">\n",
       "      <th></th>\n",
       "      <th>number of flows</th>\n",
       "      <th>mean(byte count)</th>\n",
       "      <th>epoch</th>\n",
       "      <th>source computer</th>\n",
       "    </tr>\n",
       "  </thead>\n",
       "  <tbody>\n",
       "    <tr>\n",
       "      <th>85367</th>\n",
       "      <td>0</td>\n",
       "      <td>0</td>\n",
       "      <td>1</td>\n",
       "      <td>C2018</td>\n",
       "    </tr>\n",
       "    <tr>\n",
       "      <th>36282</th>\n",
       "      <td>0</td>\n",
       "      <td>0</td>\n",
       "      <td>1</td>\n",
       "      <td>C311</td>\n",
       "    </tr>\n",
       "    <tr>\n",
       "      <th>40359</th>\n",
       "      <td>0</td>\n",
       "      <td>0</td>\n",
       "      <td>1</td>\n",
       "      <td>C1342</td>\n",
       "    </tr>\n",
       "    <tr>\n",
       "      <th>104</th>\n",
       "      <td>1</td>\n",
       "      <td>1584</td>\n",
       "      <td>1</td>\n",
       "      <td>C23382</td>\n",
       "    </tr>\n",
       "    <tr>\n",
       "      <th>72784</th>\n",
       "      <td>0</td>\n",
       "      <td>0</td>\n",
       "      <td>1</td>\n",
       "      <td>C2329</td>\n",
       "    </tr>\n",
       "  </tbody>\n",
       "</table>\n",
       "</div>"
      ],
      "text/plain": [
       "       number of flows  mean(byte count)  epoch source computer\n",
       "85367                0                 0      1           C2018\n",
       "36282                0                 0      1            C311\n",
       "40359                0                 0      1           C1342\n",
       "104                  1              1584      1          C23382\n",
       "72784                0                 0      1           C2329"
      ]
     },
     "execution_count": 16,
     "metadata": {},
     "output_type": "execute_result"
    }
   ],
   "source": [
    "groupped_data.head(5)"
   ]
  },
  {
   "cell_type": "code",
   "execution_count": 17,
   "metadata": {},
   "outputs": [
    {
     "name": "stdout",
     "output_type": "stream",
     "text": [
      "1135\n",
      "28849384\n"
     ]
    }
   ],
   "source": [
    "print(np.max(groupped_data['number of flows'].values))\n",
    "print(np.max(groupped_data['mean(byte count)'].values))"
   ]
  },
  {
   "cell_type": "code",
   "execution_count": null,
   "metadata": {},
   "outputs": [],
   "source": []
  },
  {
   "cell_type": "code",
   "execution_count": null,
   "metadata": {},
   "outputs": [],
   "source": []
  },
  {
   "cell_type": "code",
   "execution_count": null,
   "metadata": {},
   "outputs": [],
   "source": []
  },
  {
   "cell_type": "code",
   "execution_count": null,
   "metadata": {},
   "outputs": [],
   "source": []
  },
  {
   "cell_type": "code",
   "execution_count": null,
   "metadata": {},
   "outputs": [],
   "source": []
  },
  {
   "cell_type": "code",
   "execution_count": null,
   "metadata": {},
   "outputs": [],
   "source": []
  },
  {
   "cell_type": "code",
   "execution_count": null,
   "metadata": {},
   "outputs": [],
   "source": []
  },
  {
   "cell_type": "code",
   "execution_count": 4,
   "metadata": {},
   "outputs": [],
   "source": [
    "from emClustering import OnlineEM\n",
    "from plots import plot_points, plot_results, plot_category, plot_all_categories\n",
    "from kplusplus import KPlusPlus"
   ]
  },
  {
   "cell_type": "code",
   "execution_count": 5,
   "metadata": {},
   "outputs": [],
   "source": [
    "from sklearn.externals import joblib\n",
    "\n",
    "#joblib.dump(groupped_data,'groupped_data_60_50.pkl')\n",
    "groupped_data = joblib.load('groupped_data_60_50.pkl')"
   ]
  },
  {
   "cell_type": "code",
   "execution_count": 6,
   "metadata": {},
   "outputs": [
    {
     "name": "stdout",
     "output_type": "stream",
     "text": [
      "73208\n",
      "28849384\n"
     ]
    }
   ],
   "source": [
    "print(np.sum(groupped_data['mean(byte count)'] == 0))\n",
    "print(np.max(groupped_data['mean(byte count)']))"
   ]
  },
  {
   "cell_type": "markdown",
   "metadata": {},
   "source": [
    "from sklearn.preprocessing import MinMaxScaler\n",
    "\n",
    "scaler = MinMaxScaler(feature_range=(0,50135))\n",
    "scaler.fit([[x] for x in groupped_data['mean(byte count)'].values])\n",
    "groupped_data['mean(byte count)'] = scaler.transform([[x] for x in groupped_data['mean(byte count)'].values]).astype(int)"
   ]
  },
  {
   "cell_type": "markdown",
   "metadata": {},
   "source": [
    "np.sum(groupped_data['mean(byte count)'] == 0)"
   ]
  },
  {
   "cell_type": "code",
   "execution_count": 7,
   "metadata": {},
   "outputs": [],
   "source": [
    "from pylab import rcParams\n",
    "from matplotlib import pyplot as plt\n",
    "import numpy as np\n",
    "from collections import Counter\n",
    "import matplotlib.patches as mpatches\n",
    "\n",
    "colors = ['blue', 'red', 'green', 'yellow']\n",
    "styles = ['-','--',':','-.']\n",
    "rcParams['font.size'] = 16\n",
    "\n",
    "def plot_points(data, em=None):\n",
    "    rcParams['figure.figsize'] = 16, 9\n",
    "    data_hashable = [tuple(x) for x in data]\n",
    "    total_points = len(data_hashable)\n",
    "\n",
    "    values = np.vstack([list(x) for x in list(Counter(data_hashable).keys())])\n",
    "    counts = np.array(list(Counter(data_hashable).values()))\n",
    "\n",
    "    for i in range(len(values)):\n",
    "        plt.scatter(values[i][0], values[i][1], s=20, color='blue')\n",
    "        \n",
    "    if em:\n",
    "        for i, lambda_i in enumerate(em.lambdas):\n",
    "            plt.scatter(lambda_i[0], lambda_i[1], s=em.gammas[i]*1000, linewidth=4, color='red', marker='x')\n",
    "\n",
    "        blue_patch = mpatches.Patch(color='blue', label='Data points')\n",
    "        red_patch = mpatches.Patch(color='red', label='Centers of Distribution')\n",
    "        plt.legend(handles=[red_patch, blue_patch], fontsize=18)\n",
    "    else:\n",
    "        blue_patch = mpatches.Patch(color='blue', label='Data points')\n",
    "        plt.legend(handles=[blue_patch], fontsize=18)\n",
    "    \n",
    "    plt.ylabel('average number of bytes')\n",
    "    plt.xlabel('number of flows')\n",
    "    plt.show()\n",
    "    "
   ]
  },
  {
   "cell_type": "code",
   "execution_count": 8,
   "metadata": {},
   "outputs": [
    {
     "data": {
      "image/png": "[encoded data removed]",
      "text/plain": [
       "<matplotlib.figure.Figure at 0x12697f20198>"
      ]
     },
     "metadata": {},
     "output_type": "display_data"
    }
   ],
   "source": [
    "plot_points(groupped_data.values[:, :2])"
   ]
  },
  {
   "cell_type": "code",
   "execution_count": 9,
   "metadata": {},
   "outputs": [
    {
     "data": {
      "image/png": "[encoded data removed]",
      "text/plain": [
       "<matplotlib.figure.Figure at 0x1269692d2e8>"
      ]
     },
     "metadata": {},
     "output_type": "display_data"
    }
   ],
   "source": [
    "plot_points(groupped_data[(groupped_data['mean(byte count)'] < 30000) & (groupped_data['number of flows'] < 30)].values[:, :2])"
   ]
  },
  {
   "cell_type": "code",
   "execution_count": null,
   "metadata": {},
   "outputs": [],
   "source": []
  },
  {
   "cell_type": "code",
   "execution_count": 31,
   "metadata": {},
   "outputs": [],
   "source": [
    "import scipy.stats.distributions\n",
    "from math import log\n",
    "import sys\n",
    "import numpy as np\n",
    "\n",
    "\n",
    "def poisson(x, l):\n",
    "    return_value = 1\n",
    "    for x_i, l_i in zip(x, l):\n",
    "        return_value *= scipy.stats.distributions.poisson.pmf(x_i, l_i)\n",
    "    if return_value == 0:\n",
    "        return sys.float_info.epsilon\n",
    "    return return_value\n",
    "\n",
    "\n",
    "class EM:\n",
    "    def __init__(self, lambdas, gammas, x, \n",
    "                 convergence_error=0.0001, verbose=0):\n",
    "\n",
    "        self.convergence_error = convergence_error\n",
    "        \n",
    "        self.lambdas = np.vstack(lambdas)\n",
    "        self.gammas = np.array(gammas)\n",
    "        self.m = len(gammas)\n",
    "        self.x = x\n",
    "\n",
    "    def _calculate_probabilities(self):\n",
    "        for i, x_i in enumerate(self.x):\n",
    "            self.probabilities[i] = np.sum(self.gammas * np.array([poisson(x_i, lambda_i) for lambda_i in self.lambdas]))\n",
    "\n",
    "    def _calculate_likelihood(self):\n",
    "        # naive implementation for likelihood calculation\n",
    "        new_likelihood = 0\n",
    "        for x in self.x:\n",
    "            total_x = np.sum(self.gammas * np.array([poisson(x, lambda_i) for lambda_i in self.lambdas]))\n",
    "            new_likelihood = new_likelihood + log(total_x)\n",
    "        return new_likelihood\n",
    "\n",
    "    def _calculate_participation(self):\n",
    "        f = np.zeros(shape=(len(self.x), len(self.lambdas)))\n",
    "        for i, x_i in enumerate(self.x):\n",
    "            participation = self.gammas * np.array([poisson(x_i, lambda_i) for lambda_i in self.lambdas])\n",
    "            total_x = np.sum(participation)\n",
    "            if total_x == 0:\n",
    "                participation = np.array([1/self.m] * self.m)\n",
    "                total_x = 1\n",
    "            f[i] = participation / total_x\n",
    "        return f\n",
    "\n",
    "    def run(self):\n",
    "        previous_likelihood = self._calculate_likelihood()\n",
    "        while True:\n",
    "            f = self._calculate_participation()\n",
    "            temp_sum = f.sum(axis=0)\n",
    "            self.gammas = temp_sum / len(self.x)\n",
    "\n",
    "            temp = np.zeros(shape=(len(self.lambdas), len(self.lambdas[0])))\n",
    "            for i, x_i in enumerate(self.x):\n",
    "                temp = temp + np.vstack([x_i * f_i for f_i in f[i]])\n",
    "                \n",
    "            self.lambdas = np.vstack([temp[i] / temp_i for i, temp_i in enumerate(temp_sum)])\n",
    "\n",
    "            new_likelihood = self._calculate_likelihood()\n",
    "            convergence = new_likelihood / previous_likelihood - 1\n",
    "            print('convergence', convergence)\n",
    "            if - self.convergence_error < convergence < self.convergence_error:\n",
    "                break\n",
    "                \n",
    "            previous_likelihood = new_likelihood\n"
   ]
  },
  {
   "cell_type": "code",
   "execution_count": 37,
   "metadata": {},
   "outputs": [
    {
     "name": "stdout",
     "output_type": "stream",
     "text": [
      "convergence 4.575100160218403\n",
      "convergence 0.1701576714521238\n",
      "convergence 0.15474700614436743\n",
      "convergence -0.02036090634522625\n",
      "convergence 0.022748416614114753\n",
      "convergence 0.002213024385648854\n",
      "convergence 0.004199606095720787\n",
      "convergence 0.0031532193760235305\n",
      "convergence 0.0024077407578591004\n",
      "convergence 0.0005113279237971557\n",
      "[ 0.62982369  0.37017631]\n",
      "[[0.4308039289049255 1848.8202779431454]\n",
      " [0.7609062778581769 1713.1247298673336]]\n"
     ]
    }
   ],
   "source": [
    "em = EM([[0,0],[100, 3000000]], [0.6, 0.4] , groupped_data.values[:1000, :2], convergence_error=0.001)\n",
    "\n",
    "em.run()\n",
    "\n",
    "print(em.gammas)\n",
    "print(em.lambdas)"
   ]
  },
  {
   "cell_type": "code",
   "execution_count": 54,
   "metadata": {},
   "outputs": [
    {
     "name": "stdout",
     "output_type": "stream",
     "text": [
      "inf\n",
      "89785.4006434\n",
      "9388.68770428\n",
      "140251835.752\n",
      "14665866.3478\n",
      "7951.30247781\n"
     ]
    }
   ],
   "source": [
    "def real_poisson(x, l):\n",
    "    return_value = 1\n",
    "    for x_i, l_i in zip(x, l):\n",
    "        return_value *= scipy.stats.distributions.poisson.logpmf(x_i, l_i)\n",
    "    return return_value\n",
    "        \n",
    "print(real_poisson([100, 200], [0, 0]))\n",
    "print(real_poisson([100, 200], [25, 2000]))\n",
    "print(real_poisson([100, 200], [75, 2000]))\n",
    "print(real_poisson([100, 200], [25, 2100000]))\n",
    "print(real_poisson([100, 200], [75, 2100000]))\n",
    "print(real_poisson([100, 2100000], [100, 2000000]))"
   ]
  },
  {
   "cell_type": "code",
   "execution_count": null,
   "metadata": {},
   "outputs": [],
   "source": []
  },
  {
   "cell_type": "code",
   "execution_count": null,
   "metadata": {},
   "outputs": [],
   "source": []
  },
  {
   "cell_type": "code",
   "execution_count": null,
   "metadata": {},
   "outputs": [],
   "source": []
  },
  {
   "cell_type": "code",
   "execution_count": null,
   "metadata": {},
   "outputs": [],
   "source": []
  },
  {
   "cell_type": "code",
   "execution_count": null,
   "metadata": {},
   "outputs": [],
   "source": []
  },
  {
   "cell_type": "code",
   "execution_count": null,
   "metadata": {},
   "outputs": [],
   "source": []
  },
  {
   "cell_type": "code",
   "execution_count": null,
   "metadata": {},
   "outputs": [],
   "source": []
  },
  {
   "cell_type": "code",
   "execution_count": 23,
   "metadata": {},
   "outputs": [
    {
     "name": "stdout",
     "output_type": "stream",
     "text": [
      "Centers found: 1\n",
      "Centers found: 2\n"
     ]
    },
    {
     "name": "stderr",
     "output_type": "stream",
     "text": [
      "D:\\Sotiris\\Projects\\JupyterNotebooks\\onlineAnomalyDetection\\diploma\\kplusplus.py:43: RuntimeWarning: overflow encountered in double_scalars\n",
      "  return np.array([1/poisson(x, center) - 1/max_value for x in self.x])\n"
     ]
    },
    {
     "name": "stdout",
     "output_type": "stream",
     "text": [
      "Centers found: 3\n"
     ]
    }
   ],
   "source": [
    "mixtures = 3\n",
    "\n",
    "kplusplus = KPlusPlus(mixtures, groupped_data.values[:, :2], stochastic=True, stochastic_n_samples=10000)\n",
    "\n",
    "kplusplus.init_centers(verbose=1)"
   ]
  },
  {
   "cell_type": "code",
   "execution_count": 24,
   "metadata": {},
   "outputs": [
    {
     "data": {
      "text/plain": [
       "[array([0, 0], dtype=object),\n",
       " array([1, 278], dtype=object),\n",
       " array([3, 46], dtype=object)]"
      ]
     },
     "execution_count": 24,
     "metadata": {},
     "output_type": "execute_result"
    }
   ],
   "source": [
    "kplusplus.centers"
   ]
  },
  {
   "cell_type": "code",
   "execution_count": 25,
   "metadata": {},
   "outputs": [
    {
     "data": {
      "image/png": "[encoded data removed]",
      "text/plain": [
       "<matplotlib.figure.Figure at 0x18f5801d7f0>"
      ]
     },
     "metadata": {},
     "output_type": "display_data"
    }
   ],
   "source": [
    "test = int(len(set(groupped_data['source computer'].values)))\n",
    "\n",
    "# random initialization\n",
    "onlineEM = OnlineEM([1/mixtures]*mixtures, kplusplus.centers, test, n_clusters=8, verbose=1, update_power=0.5)\n",
    "\n",
    "plot_points(groupped_data.values[:, :2], onlineEM)"
   ]
  },
  {
   "cell_type": "code",
   "execution_count": 14,
   "metadata": {},
   "outputs": [
    {
     "name": "stdout",
     "output_type": "stream",
     "text": [
      "Running for data till position 1894 from total 94700\n",
      "Running for data till position 3788 from total 94700\n",
      "Running for data till position 5682 from total 94700\n",
      "Running for data till position 7576 from total 94700\n",
      "Running for data till position 9470 from total 94700\n",
      "Running for data till position 11364 from total 94700\n",
      "Running for data till position 13258 from total 94700\n",
      "Running for data till position 15152 from total 94700\n",
      "Running for data till position 17046 from total 94700\n",
      "Running for data till position 18940 from total 94700\n",
      "Running for data till position 20834 from total 94700\n",
      "Running for data till position 22728 from total 94700\n",
      "Running for data till position 24622 from total 94700\n",
      "Running for data till position 26516 from total 94700\n",
      "Running for data till position 28410 from total 94700\n",
      "Running for data till position 30304 from total 94700\n",
      "Running for data till position 32198 from total 94700\n",
      "Running for data till position 34092 from total 94700\n",
      "Running for data till position 35986 from total 94700\n",
      "Running for data till position 37880 from total 94700\n",
      "Running for data till position 39774 from total 94700\n",
      "Running for data till position 41668 from total 94700\n",
      "Running for data till position 43562 from total 94700\n",
      "Running for data till position 45456 from total 94700\n",
      "Running for data till position 47350 from total 94700\n",
      "Running for data till position 49244 from total 94700\n",
      "Running for data till position 51138 from total 94700\n",
      "Running for data till position 53032 from total 94700\n",
      "Running for data till position 54926 from total 94700\n",
      "Running for data till position 56820 from total 94700\n",
      "Running for data till position 58714 from total 94700\n",
      "Running for data till position 60608 from total 94700\n",
      "Running for data till position 62502 from total 94700\n",
      "Running for data till position 64396 from total 94700\n",
      "Running for data till position 66290 from total 94700\n",
      "Running for data till position 68184 from total 94700\n",
      "Running for data till position 70078 from total 94700\n",
      "Running for data till position 71972 from total 94700\n",
      "Running for data till position 73866 from total 94700\n",
      "Running for data till position 75760 from total 94700\n",
      "Running for data till position 77654 from total 94700\n",
      "Running for data till position 79548 from total 94700\n",
      "Running for data till position 81442 from total 94700\n",
      "Running for data till position 83336 from total 94700\n",
      "Running for data till position 85230 from total 94700\n",
      "Running for data till position 87124 from total 94700\n",
      "Running for data till position 89018 from total 94700\n",
      "Running for data till position 90912 from total 94700\n",
      "Running for data till position 92806 from total 94700\n",
      "Running for data till position 94700 from total 94700\n",
      "Running clustering algorithm\n"
     ]
    }
   ],
   "source": [
    "data = groupped_data.values[:,[0,1,3]]\n",
    "\n",
    "onlineEM.fit(data)"
   ]
  },
  {
   "cell_type": "code",
   "execution_count": 15,
   "metadata": {},
   "outputs": [
    {
     "data": {
      "image/png": "[encoded data removed]",
      "text/plain": [
       "<matplotlib.figure.Figure at 0x1e26edc4908>"
      ]
     },
     "metadata": {},
     "output_type": "display_data"
    }
   ],
   "source": [
    "from pylab import rcParams\n",
    "from matplotlib import pyplot as plt\n",
    "import numpy as np\n",
    "from collections import Counter\n",
    "import matplotlib.patches as mpatches\n",
    "\n",
    "colors = ['blue', 'red', 'green', 'yellow']\n",
    "styles = ['-','--',':','-.']\n",
    "rcParams['font.size'] = 16\n",
    "\n",
    "def plot_points(data, em=None):\n",
    "    rcParams['figure.figsize'] = 16, 9\n",
    "    data_hashable = [tuple(x) for x in data]\n",
    "    total_points = len(data_hashable)\n",
    "\n",
    "    values = np.vstack([list(x) for x in list(Counter(data_hashable).keys())])\n",
    "    counts = np.array(list(Counter(data_hashable).values()))\n",
    "\n",
    "    for i in range(len(values)):\n",
    "        plt.scatter(values[i][0], values[i][1], s=20, color='blue')\n",
    "        \n",
    "    if em:\n",
    "        for i, lambda_i in enumerate(em.lambdas):\n",
    "            plt.scatter(lambda_i[0], lambda_i[1], s=em.gammas[i]*1000, linewidth=4, color='red', marker='x')\n",
    "\n",
    "        blue_patch = mpatches.Patch(color='blue', label='Data points')\n",
    "        red_patch = mpatches.Patch(color='red', label='Centers of Distribution')\n",
    "        plt.legend(handles=[red_patch, blue_patch], fontsize=18)\n",
    "    else:\n",
    "        blue_patch = mpatches.Patch(color='blue', label='Data points')\n",
    "        plt.legend(handles=[blue_patch], fontsize=18)\n",
    "    \n",
    "    plt.ylabel('average number of bytes')\n",
    "    plt.xlabel('number of flows')\n",
    "    plt.xlim([-5,35])\n",
    "    plt.ylim([-10000,1000000])\n",
    "    plt.show()\n",
    "    \n",
    "plot_points(groupped_data.values[:, :2], onlineEM)"
   ]
  },
  {
   "cell_type": "code",
   "execution_count": 16,
   "metadata": {},
   "outputs": [
    {
     "name": "stdout",
     "output_type": "stream",
     "text": [
      "[[1.356395873089303 5622.727987139797]\n",
      " [1.0185045096335517 5761.876688005606]\n",
      " [1.0210386743991349 5762.871690621456]\n",
      " [1.0485776979958936 5752.886424290694]]\n",
      "[ 0.26206403  0.24585095  0.24593804  0.24614698]\n"
     ]
    }
   ],
   "source": [
    "print(onlineEM.lambdas)\n",
    "print(onlineEM.gammas)"
   ]
  },
  {
   "cell_type": "code",
   "execution_count": null,
   "metadata": {},
   "outputs": [],
   "source": []
  },
  {
   "cell_type": "code",
   "execution_count": 17,
   "metadata": {},
   "outputs": [
    {
     "name": "stdout",
     "output_type": "stream",
     "text": [
      "73208\n"
     ]
    }
   ],
   "source": [
    "total = 0\n",
    "for i in range(1):\n",
    "    \n",
    "    total += np.sum(groupped_data['number of flows'] == i)\n",
    "    \n",
    "print(total)"
   ]
  },
  {
   "cell_type": "code",
   "execution_count": 18,
   "metadata": {},
   "outputs": [
    {
     "data": {
      "text/plain": [
       "73208"
      ]
     },
     "execution_count": 18,
     "metadata": {},
     "output_type": "execute_result"
    }
   ],
   "source": [
    "np.sum(groupped_data['number of flows'] == 0)"
   ]
  },
  {
   "cell_type": "code",
   "execution_count": null,
   "metadata": {},
   "outputs": [],
   "source": []
  }
 ],
 "metadata": {
  "kernelspec": {
   "display_name": "Python 3",
   "language": "python",
   "name": "python3"
  },
  "language_info": {
   "codemirror_mode": {
    "name": "ipython",
    "version": 3
   },
   "file_extension": ".py",
   "mimetype": "text/x-python",
   "name": "python",
   "nbconvert_exporter": "python",
   "pygments_lexer": "ipython3",
   "version": "3.6.0"
  }
 },
 "nbformat": 4,
 "nbformat_minor": 2
}
