{
 "cells": [
  {
   "cell_type": "code",
   "execution_count": 1,
   "metadata": {},
   "outputs": [
    {
     "name": "stdout",
     "output_type": "stream",
     "text": [
      "327.0\n"
     ]
    }
   ],
   "source": [
    "from datetime import datetime\n",
    "import time\n",
    "\n",
    "def minutes_between(d1, d2):\n",
    "    d1 = datetime.strptime(d1, \"%Y-%m-%d %H:%M:%S\")\n",
    "    d2 = datetime.strptime(d2, \"%Y-%m-%d %H:%M:%S\")\n",
    "    d1_ts = time.mktime(d1.timetuple())\n",
    "    d2_ts = time.mktime(d2.timetuple())\n",
    "    return (d2_ts - d1_ts) / 60\n",
    "\n",
    "d1 = \"2018-03-27 14:50:00\"\n",
    "d2 = \"2018-03-28 18:05:00\"\n",
    "\n",
    "print (minutes_between(d1,d2) / 5)"
   ]
  },
  {
   "cell_type": "code",
   "execution_count": null,
   "metadata": {},
   "outputs": [],
   "source": []
  },
  {
   "cell_type": "code",
   "execution_count": 2,
   "metadata": {},
   "outputs": [],
   "source": [
    "from datetime import datetime\n",
    "d = datetime(2018,3,10,10,45,10)\n",
    "hostname = 'ip-1-2-3-4'\n",
    "ip = '192.168.10.1'\n",
    "user = 'lab_user_1'"
   ]
  },
  {
   "cell_type": "code",
   "execution_count": 3,
   "metadata": {},
   "outputs": [],
   "source": [
    "template = '{:%b %d %H:%M:%S} {} sshd[1234]: Invalid user {} from {}'"
   ]
  },
  {
   "cell_type": "code",
   "execution_count": 4,
   "metadata": {},
   "outputs": [
    {
     "data": {
      "text/plain": [
       "'Mar 10 10:45:10 ip-1-2-3-4 sshd[1234]: Invalid user 192.168.10.1 from lab_user_1'"
      ]
     },
     "execution_count": 4,
     "metadata": {},
     "output_type": "execute_result"
    }
   ],
   "source": [
    "template.format(d,hostname,ip,user)"
   ]
  },
  {
   "cell_type": "code",
   "execution_count": 5,
   "metadata": {},
   "outputs": [],
   "source": [
    "import pandas as pd\n",
    "import numpy as np\n",
    "import matplotlib.pyplot as plt"
   ]
  },
  {
   "cell_type": "code",
   "execution_count": 6,
   "metadata": {},
   "outputs": [],
   "source": [
    "def create_time_index(start_date='22/3/2018 12:43:23',\n",
    "                      end_date='30/3/2018',\n",
    "                      period_minutes=120, #period in minutes\n",
    "                      noise_minutes=10): #noise in minutes\n",
    "    \n",
    "    period_minutes=int(period_minutes)\n",
    "    assert period_minutes>0\n",
    "    \n",
    "    noise_minutes = int(noise_minutes)\n",
    "    #assert noise_minutes>0\n",
    "\n",
    "    dates = pd.date_range(start_date,end_date,freq='{}T'.format(period_minutes))\n",
    "    dates += pd.Series([pd.Timedelta(str(int(x))+'m') for x in np.random.normal(0, noise_minutes, dates.shape)])\n",
    "    return dates"
   ]
  },
  {
   "cell_type": "code",
   "execution_count": 7,
   "metadata": {},
   "outputs": [],
   "source": [
    "def create_time_index(start_date='22/3/2018 12:43:23',\n",
    "                      end_date='30/3/2018',\n",
    "                      period_minutes=120, #period in minutes\n",
    "                      noise_minutes=10): #noise in minutes\n",
    "    \n",
    "    period_minutes=int(period_minutes)\n",
    "    assert period_minutes>0\n",
    "    \n",
    "    noise_minutes = int(noise_minutes)\n",
    "    assert noise_minutes>0\n",
    "\n",
    "    dates = pd.date_range(start_date,end_date,freq='{}T'.format(period_minutes))\n",
    "    dates += pd.Series([pd.Timedelta(str(int(x))+'m') for x in np.random.normal(0, noise_minutes, dates.shape)])\n",
    "    return dates"
   ]
  },
  {
   "cell_type": "code",
   "execution_count": 8,
   "metadata": {},
   "outputs": [],
   "source": [
    "def create_df(time_index,user='lab_user'):\n",
    "    df = pd.DataFrame(user,columns=['user'],index=time_index)\n",
    "    return df"
   ]
  },
  {
   "cell_type": "code",
   "execution_count": 9,
   "metadata": {},
   "outputs": [],
   "source": [
    "every_24h_noisy = create_time_index('1/2/2016','14/2/2016',24*60,5*60)\n",
    "df1 = create_df(every_24h_noisy,'lab_user24')\n",
    "\n",
    "every_24h = create_time_index('1/2/2016','14/2/2016',24*60,10)\n",
    "df2 = create_df(every_24h,'lab_user24b')\n",
    "\n",
    "every_12h = create_time_index('1/2/2016','14/2/2016',12*60,60)\n",
    "df3 = create_df(every_12h,'lab_user12')\n",
    "\n",
    "every_1h = create_time_index('1/2/2016','14/2/2016',1*60,10)\n",
    "df4 = create_df(every_1h,'lab_user1h')"
   ]
  },
  {
   "cell_type": "code",
   "execution_count": 12,
   "metadata": {},
   "outputs": [],
   "source": [
    "every_12h = create_time_index('1/2/2016','3/3/2016',12*60,20)\n",
    "df3 = create_df(every_12h,'lab_user12')"
   ]
  },
  {
   "cell_type": "code",
   "execution_count": 13,
   "metadata": {},
   "outputs": [
    {
     "data": {
      "text/html": [
       "<div>\n",
       "<style scoped>\n",
       "    .dataframe tbody tr th:only-of-type {\n",
       "        vertical-align: middle;\n",
       "    }\n",
       "\n",
       "    .dataframe tbody tr th {\n",
       "        vertical-align: top;\n",
       "    }\n",
       "\n",
       "    .dataframe thead th {\n",
       "        text-align: right;\n",
       "    }\n",
       "</style>\n",
       "<table border=\"1\" class=\"dataframe\">\n",
       "  <thead>\n",
       "    <tr style=\"text-align: right;\">\n",
       "      <th></th>\n",
       "      <th>user</th>\n",
       "    </tr>\n",
       "  </thead>\n",
       "  <tbody>\n",
       "    <tr>\n",
       "      <th>2016-01-01 23:53:00</th>\n",
       "      <td>lab_user12</td>\n",
       "    </tr>\n",
       "    <tr>\n",
       "      <th>2016-01-02 12:27:00</th>\n",
       "      <td>lab_user12</td>\n",
       "    </tr>\n",
       "    <tr>\n",
       "      <th>2016-01-03 00:16:00</th>\n",
       "      <td>lab_user12</td>\n",
       "    </tr>\n",
       "    <tr>\n",
       "      <th>2016-01-03 11:42:00</th>\n",
       "      <td>lab_user12</td>\n",
       "    </tr>\n",
       "    <tr>\n",
       "      <th>2016-01-04 00:45:00</th>\n",
       "      <td>lab_user12</td>\n",
       "    </tr>\n",
       "  </tbody>\n",
       "</table>\n",
       "</div>"
      ],
      "text/plain": [
       "                           user\n",
       "2016-01-01 23:53:00  lab_user12\n",
       "2016-01-02 12:27:00  lab_user12\n",
       "2016-01-03 00:16:00  lab_user12\n",
       "2016-01-03 11:42:00  lab_user12\n",
       "2016-01-04 00:45:00  lab_user12"
      ]
     },
     "execution_count": 13,
     "metadata": {},
     "output_type": "execute_result"
    }
   ],
   "source": [
    "#all_dfs = pd.concat([df1,df2,df3,df4])\n",
    "all_dfs = df3\n",
    "all_dfs.sort_index(inplace=True)\n",
    "all_dfs.head()"
   ]
  },
  {
   "cell_type": "code",
   "execution_count": 14,
   "metadata": {},
   "outputs": [],
   "source": [
    "with open('../../Programs/filebeat-6.2.2-windows-x86_64/authNew24.txt', 'w') as the_file:\n",
    "    for index, row in all_dfs.iterrows():\n",
    "        the_file.write(template.format(index,hostname,row[0],ip))\n",
    "        the_file.write('\\n')"
   ]
  },
  {
   "cell_type": "code",
   "execution_count": null,
   "metadata": {},
   "outputs": [],
   "source": []
  }
 ],
 "metadata": {
  "kernelspec": {
   "display_name": "Python 3",
   "language": "python",
   "name": "python3"
  },
  "language_info": {
   "codemirror_mode": {
    "name": "ipython",
    "version": 3
   },
   "file_extension": ".py",
   "mimetype": "text/x-python",
   "name": "python",
   "nbconvert_exporter": "python",
   "pygments_lexer": "ipython3",
   "version": "3.6.0"
  }
 },
 "nbformat": 4,
 "nbformat_minor": 2
}
