{
 "cells": [
  {
   "cell_type": "markdown",
   "metadata": {},
   "source": [
    "### Original writer HarisMichailidis"
   ]
  },
  {
   "cell_type": "code",
   "execution_count": 22,
   "metadata": {},
   "outputs": [],
   "source": [
    "with open('C:/Users/Sotiris/Desktop/project/data/auth.log') as f:\n",
    "    data = f.readlines()"
   ]
  },
  {
   "cell_type": "code",
   "execution_count": 24,
   "metadata": {},
   "outputs": [
    {
     "data": {
      "text/plain": [
       "['Mar 27 13:06:56 ip-10-77-20-248 sshd[1291]: Server listening on 0.0.0.0 port 22.\\n',\n",
       " 'Mar 27 13:06:56 ip-10-77-20-248 sshd[1291]: Server listening on :: port 22.\\n',\n",
       " 'Mar 27 13:06:56 ip-10-77-20-248 systemd-logind[1118]: Watching system buttons on /dev/input/event0 (Power Button)\\n',\n",
       " 'Mar 27 13:06:56 ip-10-77-20-248 systemd-logind[1118]: Watching system buttons on /dev/input/event1 (Sleep Button)\\n',\n",
       " 'Mar 27 13:06:56 ip-10-77-20-248 systemd-logind[1118]: New seat seat0.\\n',\n",
       " 'Mar 27 13:08:09 ip-10-77-20-248 sshd[1361]: Accepted publickey for ubuntu from 85.245.107.41 port 54259 ssh2: RSA SHA256:Kl8kPGZrTiz7g4FO1hyqHdsSBBb5Fge6NWOobN03XJg\\n',\n",
       " 'Mar 27 13:08:09 ip-10-77-20-248 sshd[1361]: pam_unix(sshd:session): session opened for user ubuntu by (uid=0)\\n',\n",
       " 'Mar 27 13:08:09 ip-10-77-20-248 systemd: pam_unix(systemd-user:session): session opened for user ubuntu by (uid=0)\\n',\n",
       " 'Mar 27 13:08:09 ip-10-77-20-248 systemd-logind[1118]: New session 1 of user ubuntu.\\n',\n",
       " 'Mar 27 13:09:37 ip-10-77-20-248 sudo:   ubuntu : TTY=pts/0 ; PWD=/home/ubuntu ; USER=root ; COMMAND=/usr/bin/curl -L -O https://artifacts.elastic.co/downloads/beats/filebeat/filebeat-5.2.2-amd64.deb\\n']"
      ]
     },
     "execution_count": 24,
     "metadata": {},
     "output_type": "execute_result"
    }
   ],
   "source": [
    "data[:10]"
   ]
  },
  {
   "cell_type": "code",
   "execution_count": 26,
   "metadata": {},
   "outputs": [],
   "source": [
    "from pygrok import Grok"
   ]
  },
  {
   "cell_type": "code",
   "execution_count": 27,
   "metadata": {},
   "outputs": [],
   "source": [
    "pattern = '%{SYSLOGTIMESTAMP:date} %{SYSLOGHOST:hostname} sshd(?:\\\\[%{POSINT}\\\\])?: (?:Failed password for invalid user|Failed password for|Invalid user|Failed publickey for) %{DATA:user} from %{IPORHOST:ip}'\n",
    "grok = Grok(pattern)"
   ]
  },
  {
   "cell_type": "code",
   "execution_count": null,
   "metadata": {},
   "outputs": [],
   "source": []
  },
  {
   "cell_type": "code",
   "execution_count": 28,
   "metadata": {},
   "outputs": [],
   "source": [
    "# Modified the preprocessing so that the same results as in elasticsearch x-pack example occur\n",
    "\n",
    "def get_fail_line_info(line):\n",
    "    grok_match = grok.match(line)\n",
    "    if grok_match is None:\n",
    "        return\n",
    "    date = grok_match['date']\n",
    "    hostname = grok_match['hostname']\n",
    "    usr = grok_match['user']\n",
    "    ip = grok_match['ip']\n",
    "    # TODO change to 2017. changed this for comparing of timestamps\n",
    "    return ['2018 ' + date, hostname, usr, ip]"
   ]
  },
  {
   "cell_type": "code",
   "execution_count": 29,
   "metadata": {},
   "outputs": [],
   "source": [
    "lines = [d for d in data if 'Failed' in d or 'Invalid' in d]"
   ]
  },
  {
   "cell_type": "code",
   "execution_count": 30,
   "metadata": {},
   "outputs": [],
   "source": [
    "out_matrix = []\n",
    "for line in lines:\n",
    "    info = get_fail_line_info(line)\n",
    "    if info:\n",
    "        # add logline to the info\n",
    "        info.append(line)\n",
    "        out_matrix.append(info)"
   ]
  },
  {
   "cell_type": "code",
   "execution_count": 31,
   "metadata": {},
   "outputs": [],
   "source": [
    "import pandas as pd\n",
    "%matplotlib inline"
   ]
  },
  {
   "cell_type": "code",
   "execution_count": 32,
   "metadata": {},
   "outputs": [
    {
     "name": "stdout",
     "output_type": "stream",
     "text": [
      "<class 'pandas.core.frame.DataFrame'>\n",
      "DatetimeIndex: 810 entries, 2018-03-27 14:54:57 to 2018-04-20 13:50:51\n",
      "Data columns (total 5 columns):\n",
      "timestamp    810 non-null float64\n",
      "hostname     810 non-null object\n",
      "user         810 non-null object\n",
      "ip           810 non-null object\n",
      "logline      810 non-null object\n",
      "dtypes: float64(1), object(4)\n",
      "memory usage: 58.0+ KB\n"
     ]
    }
   ],
   "source": [
    "import datetime\n",
    "\n",
    "epoch = datetime.datetime.utcfromtimestamp(0)\n",
    "\n",
    "def unix_time_millis(dt):\n",
    "    return (dt - epoch).total_seconds() * 1000.0\n",
    "\n",
    "pd.set_option('display.float_format', lambda x: '%.0f' % x)\n",
    "\n",
    "\n",
    "df = pd.DataFrame(out_matrix,columns=['date','hostname','user','ip','logline'])\n",
    "\n",
    "# keep date format for human view\n",
    "# df['date'] = pd.to_datetime(df['date'],format='%Y %b %d %H:%M:%S')\n",
    "\n",
    "df['date'] = pd.to_datetime(df['date'])\n",
    "df.index = df['date']\n",
    "\n",
    "df['timestamp'] = [unix_time_millis(d) for d in df.index]\n",
    "\n",
    "\n",
    "df = df[['timestamp','hostname','user','ip','logline']]\n",
    "df.info()"
   ]
  },
  {
   "cell_type": "code",
   "execution_count": null,
   "metadata": {},
   "outputs": [],
   "source": []
  },
  {
   "cell_type": "code",
   "execution_count": 33,
   "metadata": {},
   "outputs": [
    {
     "data": {
      "text/html": [
       "<div>\n",
       "<style scoped>\n",
       "    .dataframe tbody tr th:only-of-type {\n",
       "        vertical-align: middle;\n",
       "    }\n",
       "\n",
       "    .dataframe tbody tr th {\n",
       "        vertical-align: top;\n",
       "    }\n",
       "\n",
       "    .dataframe thead th {\n",
       "        text-align: right;\n",
       "    }\n",
       "</style>\n",
       "<table border=\"1\" class=\"dataframe\">\n",
       "  <thead>\n",
       "    <tr style=\"text-align: right;\">\n",
       "      <th></th>\n",
       "      <th>timestamp</th>\n",
       "      <th>hostname</th>\n",
       "      <th>user</th>\n",
       "      <th>ip</th>\n",
       "      <th>logline</th>\n",
       "    </tr>\n",
       "    <tr>\n",
       "      <th>date</th>\n",
       "      <th></th>\n",
       "      <th></th>\n",
       "      <th></th>\n",
       "      <th></th>\n",
       "      <th></th>\n",
       "    </tr>\n",
       "  </thead>\n",
       "  <tbody>\n",
       "    <tr>\n",
       "      <th>2018-03-27 14:54:57</th>\n",
       "      <td>1522162497000</td>\n",
       "      <td>ip-10-77-20-248</td>\n",
       "      <td>support</td>\n",
       "      <td>95.152.57.58</td>\n",
       "      <td>Mar 27 14:54:57 ip-10-77-20-248 sshd[2967]: In...</td>\n",
       "    </tr>\n",
       "    <tr>\n",
       "      <th>2018-03-27 17:08:34</th>\n",
       "      <td>1522170514000</td>\n",
       "      <td>ip-10-77-20-248</td>\n",
       "      <td>test</td>\n",
       "      <td>85.245.107.41</td>\n",
       "      <td>Mar 27 17:08:34 ip-10-77-20-248 sshd[14514]: I...</td>\n",
       "    </tr>\n",
       "    <tr>\n",
       "      <th>2018-03-27 18:22:24</th>\n",
       "      <td>1522174944000</td>\n",
       "      <td>ip-10-77-20-248</td>\n",
       "      <td>admin</td>\n",
       "      <td>201.177.23.130</td>\n",
       "      <td>Mar 27 18:22:24 ip-10-77-20-248 sshd[14922]: I...</td>\n",
       "    </tr>\n",
       "    <tr>\n",
       "      <th>2018-03-27 18:27:20</th>\n",
       "      <td>1522175240000</td>\n",
       "      <td>ip-10-77-20-248</td>\n",
       "      <td>support</td>\n",
       "      <td>190.178.62.6</td>\n",
       "      <td>Mar 27 18:27:20 ip-10-77-20-248 sshd[14928]: I...</td>\n",
       "    </tr>\n",
       "    <tr>\n",
       "      <th>2018-03-27 19:17:03</th>\n",
       "      <td>1522178223000</td>\n",
       "      <td>ip-10-77-20-248</td>\n",
       "      <td>admin</td>\n",
       "      <td>201.43.243.37</td>\n",
       "      <td>Mar 27 19:17:03 ip-10-77-20-248 sshd[14957]: I...</td>\n",
       "    </tr>\n",
       "  </tbody>\n",
       "</table>\n",
       "</div>"
      ],
      "text/plain": [
       "                        timestamp         hostname     user              ip  \\\n",
       "date                                                                          \n",
       "2018-03-27 14:54:57 1522162497000  ip-10-77-20-248  support    95.152.57.58   \n",
       "2018-03-27 17:08:34 1522170514000  ip-10-77-20-248     test   85.245.107.41   \n",
       "2018-03-27 18:22:24 1522174944000  ip-10-77-20-248    admin  201.177.23.130   \n",
       "2018-03-27 18:27:20 1522175240000  ip-10-77-20-248  support    190.178.62.6   \n",
       "2018-03-27 19:17:03 1522178223000  ip-10-77-20-248    admin   201.43.243.37   \n",
       "\n",
       "                                                               logline  \n",
       "date                                                                    \n",
       "2018-03-27 14:54:57  Mar 27 14:54:57 ip-10-77-20-248 sshd[2967]: In...  \n",
       "2018-03-27 17:08:34  Mar 27 17:08:34 ip-10-77-20-248 sshd[14514]: I...  \n",
       "2018-03-27 18:22:24  Mar 27 18:22:24 ip-10-77-20-248 sshd[14922]: I...  \n",
       "2018-03-27 18:27:20  Mar 27 18:27:20 ip-10-77-20-248 sshd[14928]: I...  \n",
       "2018-03-27 19:17:03  Mar 27 19:17:03 ip-10-77-20-248 sshd[14957]: I...  "
      ]
     },
     "execution_count": 33,
     "metadata": {},
     "output_type": "execute_result"
    }
   ],
   "source": [
    "df.head()"
   ]
  },
  {
   "cell_type": "code",
   "execution_count": 34,
   "metadata": {},
   "outputs": [
    {
     "data": {
      "text/plain": [
       "array(['support', 'test', 'admin', 'ftpuser', 'default', '0', '0000',\n",
       "       '010101', '1111', '1234', 'api', 'dbadmin', 'ftp', 'git', 'gpadmin',\n",
       "       'guest', 'monitor', 'operator', 'osmc', 'pi', 'service',\n",
       "       'telecomadmin', 'ubnt', 'user', 'sybase', 'admin1', 'newadmin',\n",
       "       'deployer', 'cloud', 'temp', 'dale', 'noc', 'elastic_user_7',\n",
       "       'elastic_user_2', 'elastic_user_8', 'elastic_user_5',\n",
       "       'elastic_user_0', 'elastic_user_6', 'elastic_user_3',\n",
       "       'elastic_user_4', 'root', 'openerp', 'elastic_user_9', 'pruebas',\n",
       "       'elastic_user_1', 'ajay', 'johnny', 'ems', 'bin', 'webconfig',\n",
       "       'cubrid', '', 'user1'], dtype=object)"
      ]
     },
     "execution_count": 34,
     "metadata": {},
     "output_type": "execute_result"
    }
   ],
   "source": [
    "# the usernames provided for the invalid login\n",
    "df['user'].unique()"
   ]
  },
  {
   "cell_type": "code",
   "execution_count": 35,
   "metadata": {},
   "outputs": [],
   "source": [
    "df.drop('timestamp',1).drop('logline',1).to_csv('C:/Users/Sotiris/Desktop/project/data/failed_auth_my_log_TEST.csv', float_format='%.f')"
   ]
  },
  {
   "cell_type": "code",
   "execution_count": null,
   "metadata": {},
   "outputs": [],
   "source": []
  },
  {
   "cell_type": "code",
   "execution_count": null,
   "metadata": {},
   "outputs": [],
   "source": []
  },
  {
   "cell_type": "markdown",
   "metadata": {},
   "source": [
    "Folowwing lines make sure that the same results occur as desplayed by the steps illustrated in the x-pack example https://github.com/elastic/examples/blob/master/Machine%20Learning/Security%20Analytics%20Recipes/suspicious_login_activity/EXAMPLE.md"
   ]
  },
  {
   "cell_type": "code",
   "execution_count": 36,
   "metadata": {},
   "outputs": [],
   "source": [
    "timestamps = df['timestamp']"
   ]
  },
  {
   "cell_type": "code",
   "execution_count": null,
   "metadata": {},
   "outputs": [],
   "source": []
  },
  {
   "cell_type": "code",
   "execution_count": 37,
   "metadata": {},
   "outputs": [],
   "source": [
    "# load datafeed extracted from the x-pack example for same dataset\n",
    "import json\n",
    "\n",
    "with open('C:/Users/Sotiris/Desktop/project/data/datafeed.json') as data_file:    \n",
    "    datafeed = json.load(data_file)"
   ]
  },
  {
   "cell_type": "code",
   "execution_count": 38,
   "metadata": {},
   "outputs": [],
   "source": [
    "timestamp, hostname, ip, user = [], [], [], []\n",
    "\n",
    "for result in datafeed:\n",
    "    timestamp.append(result['@timestamp'])\n",
    "    hostname.append(result['system.auth.hostname'])\n",
    "    ip.append(result['system.auth.ssh.ip'])\n",
    "    user.append(result['system.auth.user'])\n",
    "    \n",
    "datafeed_df = pd.DataFrame([timestamp,hostname,ip,user]).T\n",
    "datafeed_df.columns = ['timestamp', 'hostname', 'ip', 'user']"
   ]
  },
  {
   "cell_type": "code",
   "execution_count": null,
   "metadata": {},
   "outputs": [],
   "source": []
  },
  {
   "cell_type": "code",
   "execution_count": 39,
   "metadata": {},
   "outputs": [],
   "source": [
    "# check that all results match \n",
    "# a naive check of the timestamps in implemented\n",
    "\n",
    "for i in range(len(df.index)):\n",
    "    t1 = datafeed_df.iloc[i]['timestamp']\n",
    "\n",
    "    t2 = df.iloc[i]['timestamp']\n",
    "    if t1 != t2:\n",
    "        print('FOUND DIFFERENCE')\n",
    "        print(df.iloc[i]['logline'])"
   ]
  },
  {
   "cell_type": "code",
   "execution_count": null,
   "metadata": {},
   "outputs": [],
   "source": []
  }
 ],
 "metadata": {
  "kernelspec": {
   "display_name": "Python 3",
   "language": "python",
   "name": "python3"
  },
  "language_info": {
   "codemirror_mode": {
    "name": "ipython",
    "version": 3
   },
   "file_extension": ".py",
   "mimetype": "text/x-python",
   "name": "python",
   "nbconvert_exporter": "python",
   "pygments_lexer": "ipython3",
   "version": "3.6.0"
  }
 },
 "nbformat": 4,
 "nbformat_minor": 2
}
